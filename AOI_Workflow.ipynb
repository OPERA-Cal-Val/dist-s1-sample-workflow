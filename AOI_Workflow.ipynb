{
 "cells": [
  {
   "cell_type": "code",
   "execution_count": 1,
   "id": "9adf9014-e171-454d-9ef2-000b63f59499",
   "metadata": {},
   "outputs": [],
   "source": [
    "%load_ext autoreload\n",
    "%autoreload 2"
   ]
  },
  {
   "cell_type": "code",
   "execution_count": 2,
   "id": "406906be-3c21-4204-b1c5-29996b8a6da2",
   "metadata": {},
   "outputs": [],
   "source": [
    "import geopandas as gpd\n",
    "import rasterio\n",
    "from distmetrics import compute_transformer_zscore, load_trained_transformer_model\n",
    "import asf_search as asf\n",
    "from rasterio.crs import CRS\n",
    "from shapely.geometry import Point\n",
    "from datetime import datetime, timedelta\n",
    "import pandas as pd\n",
    "import matplotlib.pyplot as plt\n",
    "from tqdm import tqdm\n",
    "import requests\n",
    "import numpy as np\n",
    "from requests.exceptions import HTTPError\n",
    "import backoff\n",
    "from rasterio.errors import RasterioIOError\n",
    "from pathlib import Path\n",
    "from dem_stitcher.rio_tools import reproject_profile_to_new_crs, reproject_arr_to_match_profile\n",
    "import shutil\n",
    "from matplotlib.colors import ListedColormap\n",
    "import shapely"
   ]
  },
  {
   "cell_type": "markdown",
   "id": "70778098-0c58-415c-af84-99b17f4d85b6",
   "metadata": {},
   "source": [
    "# Parameters"
   ]
  },
  {
   "cell_type": "code",
   "execution_count": 3,
   "id": "1734723c-ff93-4086-8777-46c7d9c9cd25",
   "metadata": {},
   "outputs": [],
   "source": [
    "PRE_IMAGE_WINDOW_DAYS = 180\n",
    "POST_IMAGE_WINDOW_DAYS = 30\n",
    "EVENT_DATE = '2024-09-26'\n",
    "\n",
    "AOI_NAME = 'Helene_Sparta'"
   ]
  },
  {
   "cell_type": "code",
   "execution_count": 4,
   "id": "d727c4ac-3078-4268-abe3-ceaf1b260903",
   "metadata": {},
   "outputs": [],
   "source": [
    "# # NC Landslide\n",
    "# aoi = Point(-81, 36.4).buffer(1)\n",
    "\n",
    "# Later helene\n",
    "wkt_str = 'POLYGON((-82.5825 35.5931,-82.5943 35.5614,-82.5232 35.3891,-82.4471 35.3559,-82.3489 35.3642,-82.2559 35.4346,-82.2136 35.549,-82.1306 35.6357,-82.0392 35.6853,-81.98 35.7306,-81.9665 35.8076,-81.9496 35.8721,-82.0697 35.8995,-82.1932 35.9036,-82.2694 35.9063,-82.3439 35.8967,-82.3828 35.8309,-82.4809 35.7512,-82.5402 35.6467,-82.5825 35.5931))'\n",
    "aoi = shapely.from_wkt(wkt_str)"
   ]
  },
  {
   "cell_type": "markdown",
   "id": "a560d117-ad39-457a-a82e-f27aa7c5ddf3",
   "metadata": {},
   "source": [
    "# Datetimes"
   ]
  },
  {
   "cell_type": "code",
   "execution_count": 5,
   "id": "5f5b5d97-03f9-4328-8ff1-53c25e722b38",
   "metadata": {},
   "outputs": [
    {
     "data": {
      "text/plain": [
       "datetime.datetime(2024, 9, 26, 0, 0)"
      ]
     },
     "execution_count": 5,
     "metadata": {},
     "output_type": "execute_result"
    }
   ],
   "source": [
    "event_date = datetime.strptime(EVENT_DATE, '%Y-%m-%d')\n",
    "event_date"
   ]
  },
  {
   "cell_type": "markdown",
   "id": "0eb5fe4d-c88b-4f22-a014-59d0c3741ea9",
   "metadata": {},
   "source": [
    "# Directory"
   ]
  },
  {
   "cell_type": "code",
   "execution_count": 6,
   "id": "0176a346-faae-470a-8064-eba7327f3cec",
   "metadata": {},
   "outputs": [],
   "source": [
    "out_dir = Path(f'out/{AOI_NAME}')\n",
    "out_dir.mkdir(exist_ok=True, parents=True)"
   ]
  },
  {
   "cell_type": "markdown",
   "id": "e9eda9ec-4e8a-4063-bf3a-4cbbb178042d",
   "metadata": {},
   "source": [
    "# AOI and Search - Interactive Portion"
   ]
  },
  {
   "cell_type": "code",
   "execution_count": 7,
   "id": "1a46b271-62c8-47bb-ae27-8e5c3edaebdb",
   "metadata": {},
   "outputs": [
    {
     "data": {
      "text/html": [
       "<div style=\"width:100%;\"><div style=\"position:relative;width:100%;height:0;padding-bottom:60%;\"><span style=\"color:#565656\">Make this Notebook Trusted to load map: File -> Trust Notebook</span><iframe srcdoc=\"&lt;!DOCTYPE html&gt;\n",
       "&lt;html&gt;\n",
       "&lt;head&gt;\n",
       "    \n",
       "    &lt;meta http-equiv=&quot;content-type&quot; content=&quot;text/html; charset=UTF-8&quot; /&gt;\n",
       "    \n",
       "        &lt;script&gt;\n",
       "            L_NO_TOUCH = false;\n",
       "            L_DISABLE_3D = false;\n",
       "        &lt;/script&gt;\n",
       "    \n",
       "    &lt;style&gt;html, body {width: 100%;height: 100%;margin: 0;padding: 0;}&lt;/style&gt;\n",
       "    &lt;style&gt;#map {position:absolute;top:0;bottom:0;right:0;left:0;}&lt;/style&gt;\n",
       "    &lt;script src=&quot;https://cdn.jsdelivr.net/npm/leaflet@1.9.3/dist/leaflet.js&quot;&gt;&lt;/script&gt;\n",
       "    &lt;script src=&quot;https://code.jquery.com/jquery-3.7.1.min.js&quot;&gt;&lt;/script&gt;\n",
       "    &lt;script src=&quot;https://cdn.jsdelivr.net/npm/bootstrap@5.2.2/dist/js/bootstrap.bundle.min.js&quot;&gt;&lt;/script&gt;\n",
       "    &lt;script src=&quot;https://cdnjs.cloudflare.com/ajax/libs/Leaflet.awesome-markers/2.0.2/leaflet.awesome-markers.js&quot;&gt;&lt;/script&gt;\n",
       "    &lt;link rel=&quot;stylesheet&quot; href=&quot;https://cdn.jsdelivr.net/npm/leaflet@1.9.3/dist/leaflet.css&quot;/&gt;\n",
       "    &lt;link rel=&quot;stylesheet&quot; href=&quot;https://cdn.jsdelivr.net/npm/bootstrap@5.2.2/dist/css/bootstrap.min.css&quot;/&gt;\n",
       "    &lt;link rel=&quot;stylesheet&quot; href=&quot;https://netdna.bootstrapcdn.com/bootstrap/3.0.0/css/bootstrap-glyphicons.css&quot;/&gt;\n",
       "    &lt;link rel=&quot;stylesheet&quot; href=&quot;https://cdn.jsdelivr.net/npm/@fortawesome/fontawesome-free@6.2.0/css/all.min.css&quot;/&gt;\n",
       "    &lt;link rel=&quot;stylesheet&quot; href=&quot;https://cdnjs.cloudflare.com/ajax/libs/Leaflet.awesome-markers/2.0.2/leaflet.awesome-markers.css&quot;/&gt;\n",
       "    &lt;link rel=&quot;stylesheet&quot; href=&quot;https://cdn.jsdelivr.net/gh/python-visualization/folium/folium/templates/leaflet.awesome.rotate.min.css&quot;/&gt;\n",
       "    \n",
       "            &lt;meta name=&quot;viewport&quot; content=&quot;width=device-width,\n",
       "                initial-scale=1.0, maximum-scale=1.0, user-scalable=no&quot; /&gt;\n",
       "            &lt;style&gt;\n",
       "                #map_fab778e396e61b320edfcf40b174be73 {\n",
       "                    position: relative;\n",
       "                    width: 100.0%;\n",
       "                    height: 100.0%;\n",
       "                    left: 0.0%;\n",
       "                    top: 0.0%;\n",
       "                }\n",
       "                .leaflet-container { font-size: 1rem; }\n",
       "            &lt;/style&gt;\n",
       "        \n",
       "    \n",
       "                    &lt;style&gt;\n",
       "                        .foliumtooltip {\n",
       "                            \n",
       "                        }\n",
       "                       .foliumtooltip table{\n",
       "                            margin: auto;\n",
       "                        }\n",
       "                        .foliumtooltip tr{\n",
       "                            text-align: left;\n",
       "                        }\n",
       "                        .foliumtooltip th{\n",
       "                            padding: 2px; padding-right: 8px;\n",
       "                        }\n",
       "                    &lt;/style&gt;\n",
       "            \n",
       "&lt;/head&gt;\n",
       "&lt;body&gt;\n",
       "    \n",
       "    \n",
       "            &lt;div class=&quot;folium-map&quot; id=&quot;map_fab778e396e61b320edfcf40b174be73&quot; &gt;&lt;/div&gt;\n",
       "        \n",
       "&lt;/body&gt;\n",
       "&lt;script&gt;\n",
       "    \n",
       "    \n",
       "            var map_fab778e396e61b320edfcf40b174be73 = L.map(\n",
       "                &quot;map_fab778e396e61b320edfcf40b174be73&quot;,\n",
       "                {\n",
       "                    center: [35.6311, -82.27195],\n",
       "                    crs: L.CRS.EPSG3857,\n",
       "                    zoom: 10,\n",
       "                    zoomControl: true,\n",
       "                    preferCanvas: false,\n",
       "                }\n",
       "            );\n",
       "            L.control.scale().addTo(map_fab778e396e61b320edfcf40b174be73);\n",
       "\n",
       "            \n",
       "\n",
       "        \n",
       "    \n",
       "            var tile_layer_6c2e1fa9ff8dc4ee597dd9b9ca23d180 = L.tileLayer(\n",
       "                &quot;https://tile.openstreetmap.org/{z}/{x}/{y}.png&quot;,\n",
       "                {&quot;attribution&quot;: &quot;\\u0026copy; \\u003ca href=\\&quot;https://www.openstreetmap.org/copyright\\&quot;\\u003eOpenStreetMap\\u003c/a\\u003e contributors&quot;, &quot;detectRetina&quot;: false, &quot;maxNativeZoom&quot;: 19, &quot;maxZoom&quot;: 19, &quot;minZoom&quot;: 0, &quot;noWrap&quot;: false, &quot;opacity&quot;: 1, &quot;subdomains&quot;: &quot;abc&quot;, &quot;tms&quot;: false}\n",
       "            );\n",
       "        \n",
       "    \n",
       "            tile_layer_6c2e1fa9ff8dc4ee597dd9b9ca23d180.addTo(map_fab778e396e61b320edfcf40b174be73);\n",
       "        \n",
       "    \n",
       "            map_fab778e396e61b320edfcf40b174be73.fitBounds(\n",
       "                [[35.3559, -82.5943], [35.9063, -81.9496]],\n",
       "                {}\n",
       "            );\n",
       "        \n",
       "    \n",
       "        function geo_json_9907dd134a87cae61dfd41a2f9a47cfb_styler(feature) {\n",
       "            switch(feature.id) {\n",
       "                default:\n",
       "                    return {&quot;fillOpacity&quot;: 0.5, &quot;weight&quot;: 2};\n",
       "            }\n",
       "        }\n",
       "        function geo_json_9907dd134a87cae61dfd41a2f9a47cfb_highlighter(feature) {\n",
       "            switch(feature.id) {\n",
       "                default:\n",
       "                    return {&quot;fillOpacity&quot;: 0.75};\n",
       "            }\n",
       "        }\n",
       "        function geo_json_9907dd134a87cae61dfd41a2f9a47cfb_pointToLayer(feature, latlng) {\n",
       "            var opts = {&quot;bubblingMouseEvents&quot;: true, &quot;color&quot;: &quot;#3388ff&quot;, &quot;dashArray&quot;: null, &quot;dashOffset&quot;: null, &quot;fill&quot;: true, &quot;fillColor&quot;: &quot;#3388ff&quot;, &quot;fillOpacity&quot;: 0.2, &quot;fillRule&quot;: &quot;evenodd&quot;, &quot;lineCap&quot;: &quot;round&quot;, &quot;lineJoin&quot;: &quot;round&quot;, &quot;opacity&quot;: 1.0, &quot;radius&quot;: 2, &quot;stroke&quot;: true, &quot;weight&quot;: 3};\n",
       "            \n",
       "            let style = geo_json_9907dd134a87cae61dfd41a2f9a47cfb_styler(feature)\n",
       "            Object.assign(opts, style)\n",
       "            \n",
       "            return new L.CircleMarker(latlng, opts)\n",
       "        }\n",
       "\n",
       "        function geo_json_9907dd134a87cae61dfd41a2f9a47cfb_onEachFeature(feature, layer) {\n",
       "            layer.on({\n",
       "                mouseout: function(e) {\n",
       "                    if(typeof e.target.setStyle === &quot;function&quot;){\n",
       "                            geo_json_9907dd134a87cae61dfd41a2f9a47cfb.resetStyle(e.target);\n",
       "                    }\n",
       "                },\n",
       "                mouseover: function(e) {\n",
       "                    if(typeof e.target.setStyle === &quot;function&quot;){\n",
       "                        const highlightStyle = geo_json_9907dd134a87cae61dfd41a2f9a47cfb_highlighter(e.target.feature)\n",
       "                        e.target.setStyle(highlightStyle);\n",
       "                    }\n",
       "                },\n",
       "            });\n",
       "        };\n",
       "        var geo_json_9907dd134a87cae61dfd41a2f9a47cfb = L.geoJson(null, {\n",
       "                onEachFeature: geo_json_9907dd134a87cae61dfd41a2f9a47cfb_onEachFeature,\n",
       "            \n",
       "                style: geo_json_9907dd134a87cae61dfd41a2f9a47cfb_styler,\n",
       "                pointToLayer: geo_json_9907dd134a87cae61dfd41a2f9a47cfb_pointToLayer,\n",
       "        });\n",
       "\n",
       "        function geo_json_9907dd134a87cae61dfd41a2f9a47cfb_add (data) {\n",
       "            geo_json_9907dd134a87cae61dfd41a2f9a47cfb\n",
       "                .addData(data);\n",
       "        }\n",
       "            geo_json_9907dd134a87cae61dfd41a2f9a47cfb_add({&quot;bbox&quot;: [-82.5943, 35.3559, -81.9496, 35.9063], &quot;features&quot;: [{&quot;bbox&quot;: [-82.5943, 35.3559, -81.9496, 35.9063], &quot;geometry&quot;: {&quot;coordinates&quot;: [[[-82.5825, 35.5931], [-82.5943, 35.5614], [-82.5232, 35.3891], [-82.4471, 35.3559], [-82.3489, 35.3642], [-82.2559, 35.4346], [-82.2136, 35.549], [-82.1306, 35.6357], [-82.0392, 35.6853], [-81.98, 35.7306], [-81.9665, 35.8076], [-81.9496, 35.8721], [-82.0697, 35.8995], [-82.1932, 35.9036], [-82.2694, 35.9063], [-82.3439, 35.8967], [-82.3828, 35.8309], [-82.4809, 35.7512], [-82.5402, 35.6467], [-82.5825, 35.5931]]], &quot;type&quot;: &quot;Polygon&quot;}, &quot;id&quot;: &quot;0&quot;, &quot;properties&quot;: {}, &quot;type&quot;: &quot;Feature&quot;}], &quot;type&quot;: &quot;FeatureCollection&quot;});\n",
       "\n",
       "        \n",
       "    \n",
       "    geo_json_9907dd134a87cae61dfd41a2f9a47cfb.bindTooltip(\n",
       "    function(layer){\n",
       "    let div = L.DomUtil.create(&#x27;div&#x27;);\n",
       "    \n",
       "    return div\n",
       "    }\n",
       "    ,{&quot;className&quot;: &quot;foliumtooltip&quot;, &quot;sticky&quot;: true});\n",
       "                     \n",
       "    \n",
       "            geo_json_9907dd134a87cae61dfd41a2f9a47cfb.addTo(map_fab778e396e61b320edfcf40b174be73);\n",
       "        \n",
       "&lt;/script&gt;\n",
       "&lt;/html&gt;\" style=\"position:absolute;width:100%;height:100%;left:0;top:0;border:none !important;\" allowfullscreen webkitallowfullscreen mozallowfullscreen></iframe></div></div>"
      ],
      "text/plain": [
       "<folium.folium.Map at 0x7f908266f1d0>"
      ]
     },
     "execution_count": 7,
     "metadata": {},
     "output_type": "execute_result"
    }
   ],
   "source": [
    "df_aoi = gpd.GeoDataFrame(geometry=[aoi], crs=CRS.from_epsg(4326))\n",
    "df_aoi.explore()"
   ]
  },
  {
   "cell_type": "code",
   "execution_count": 8,
   "id": "ff42edd9-6c55-420d-9dff-99e54e663388",
   "metadata": {},
   "outputs": [
    {
     "name": "stderr",
     "output_type": "stream",
     "text": [
      "WARNING:asf_search:WKT REPAIR/VALIDATION: The following repairs were performed on the provided AOI:\n",
      "[\"'type': 'GEOMETRY_SIMPLIFICATION': 'report': 'Shape Simplified: shape of 19 simplified to 17 with proximity threshold of 0.004'\"]\n"
     ]
    }
   ],
   "source": [
    "resp = asf.geo_search(intersectsWith=aoi.wkt,\n",
    "                                 processingLevel='RTC',\n",
    "                                 platform=asf.constants.SENTINEL1, \n",
    "                                 start=event_date - timedelta(days=PRE_IMAGE_WINDOW_DAYS),\n",
    "                                 polarization=['VV'],\n",
    "                                 end=event_date + timedelta(days=POST_IMAGE_WINDOW_DAYS),\n",
    "                                )"
   ]
  },
  {
   "cell_type": "code",
   "execution_count": 9,
   "id": "d002679f-cae3-4fab-ab9f-6521c9b9cf3b",
   "metadata": {},
   "outputs": [
    {
     "data": {
      "text/html": [
       "<div>\n",
       "<style scoped>\n",
       "    .dataframe tbody tr th:only-of-type {\n",
       "        vertical-align: middle;\n",
       "    }\n",
       "\n",
       "    .dataframe tbody tr th {\n",
       "        vertical-align: top;\n",
       "    }\n",
       "\n",
       "    .dataframe thead th {\n",
       "        text-align: right;\n",
       "    }\n",
       "</style>\n",
       "<table border=\"1\" class=\"dataframe\">\n",
       "  <thead>\n",
       "    <tr style=\"text-align: right;\">\n",
       "      <th></th>\n",
       "      <th>geometry</th>\n",
       "      <th>centerLat</th>\n",
       "      <th>centerLon</th>\n",
       "      <th>stopTime</th>\n",
       "      <th>fileID</th>\n",
       "      <th>flightDirection</th>\n",
       "      <th>pathNumber</th>\n",
       "      <th>processingLevel</th>\n",
       "      <th>url</th>\n",
       "      <th>startTime</th>\n",
       "      <th>...</th>\n",
       "      <th>beamModeType</th>\n",
       "      <th>s3Urls</th>\n",
       "      <th>beamMode</th>\n",
       "      <th>additionalUrls</th>\n",
       "      <th>bistaticDelayCorrection</th>\n",
       "      <th>noiseCorrection</th>\n",
       "      <th>postProcessingFilter</th>\n",
       "      <th>acq_dt</th>\n",
       "      <th>acq_date</th>\n",
       "      <th>opera_dedup_id</th>\n",
       "    </tr>\n",
       "  </thead>\n",
       "  <tbody>\n",
       "    <tr>\n",
       "      <th>0</th>\n",
       "      <td>POLYGON ((-82.38873 35.87119, -81.49209 35.993...</td>\n",
       "      <td>36.015113</td>\n",
       "      <td>-81.957371</td>\n",
       "      <td>2024-10-03T23:31:26Z</td>\n",
       "      <td>OPERA_L2_RTC-S1_T048-101162-IW3_20241003T23312...</td>\n",
       "      <td>ASCENDING</td>\n",
       "      <td>48</td>\n",
       "      <td>RTC</td>\n",
       "      <td>https://datapool.asf.alaska.edu/RTC/OPERA-S1/O...</td>\n",
       "      <td>2024-10-03T23:31:23Z</td>\n",
       "      <td>...</td>\n",
       "      <td>IW</td>\n",
       "      <td>[s3://asf-cumulus-prod-opera-browse/OPERA_L2_R...</td>\n",
       "      <td>IW</td>\n",
       "      <td>[https://datapool.asf.alaska.edu/RTC/OPERA-S1/...</td>\n",
       "      <td>TRUE</td>\n",
       "      <td>TRUE</td>\n",
       "      <td>FALSE</td>\n",
       "      <td>2024-10-03 23:31:23+00:00</td>\n",
       "      <td>2024-10-04</td>\n",
       "      <td>OPERA_L2_RTC-S1_T048-101162-IW3_20241003T233123Z</td>\n",
       "    </tr>\n",
       "    <tr>\n",
       "      <th>1</th>\n",
       "      <td>POLYGON ((-83.34085 35.67455, -82.81556 35.751...</td>\n",
       "      <td>35.831301</td>\n",
       "      <td>-82.848467</td>\n",
       "      <td>2024-10-03T23:31:25Z</td>\n",
       "      <td>OPERA_L2_RTC-S1_T048-101162-IW2_20241003T23312...</td>\n",
       "      <td>ASCENDING</td>\n",
       "      <td>48</td>\n",
       "      <td>RTC</td>\n",
       "      <td>https://datapool.asf.alaska.edu/RTC/OPERA-S1/O...</td>\n",
       "      <td>2024-10-03T23:31:22Z</td>\n",
       "      <td>...</td>\n",
       "      <td>IW</td>\n",
       "      <td>[s3://asf-cumulus-prod-opera-browse/OPERA_L2_R...</td>\n",
       "      <td>IW</td>\n",
       "      <td>[https://datapool.asf.alaska.edu/RTC/OPERA-S1/...</td>\n",
       "      <td>TRUE</td>\n",
       "      <td>TRUE</td>\n",
       "      <td>FALSE</td>\n",
       "      <td>2024-10-03 23:31:22+00:00</td>\n",
       "      <td>2024-10-04</td>\n",
       "      <td>OPERA_L2_RTC-S1_T048-101162-IW2_20241003T233122Z</td>\n",
       "    </tr>\n",
       "    <tr>\n",
       "      <th>2</th>\n",
       "      <td>POLYGON ((-82.35077 35.70575, -81.45975 35.827...</td>\n",
       "      <td>35.849389</td>\n",
       "      <td>-81.923013</td>\n",
       "      <td>2024-10-03T23:31:23Z</td>\n",
       "      <td>OPERA_L2_RTC-S1_T048-101161-IW3_20241003T23312...</td>\n",
       "      <td>ASCENDING</td>\n",
       "      <td>48</td>\n",
       "      <td>RTC</td>\n",
       "      <td>https://datapool.asf.alaska.edu/RTC/OPERA-S1/O...</td>\n",
       "      <td>2024-10-03T23:31:20Z</td>\n",
       "      <td>...</td>\n",
       "      <td>IW</td>\n",
       "      <td>[s3://asf-cumulus-prod-opera-browse/OPERA_L2_R...</td>\n",
       "      <td>IW</td>\n",
       "      <td>[https://datapool.asf.alaska.edu/RTC/OPERA-S1/...</td>\n",
       "      <td>TRUE</td>\n",
       "      <td>TRUE</td>\n",
       "      <td>FALSE</td>\n",
       "      <td>2024-10-03 23:31:20+00:00</td>\n",
       "      <td>2024-10-04</td>\n",
       "      <td>OPERA_L2_RTC-S1_T048-101161-IW3_20241003T233120Z</td>\n",
       "    </tr>\n",
       "    <tr>\n",
       "      <th>3</th>\n",
       "      <td>POLYGON ((-83.30305 35.50874, -82.28436 35.655...</td>\n",
       "      <td>35.665525</td>\n",
       "      <td>-82.810511</td>\n",
       "      <td>2024-10-03T23:31:22Z</td>\n",
       "      <td>OPERA_L2_RTC-S1_T048-101161-IW2_20241003T23311...</td>\n",
       "      <td>ASCENDING</td>\n",
       "      <td>48</td>\n",
       "      <td>RTC</td>\n",
       "      <td>https://datapool.asf.alaska.edu/RTC/OPERA-S1/O...</td>\n",
       "      <td>2024-10-03T23:31:19Z</td>\n",
       "      <td>...</td>\n",
       "      <td>IW</td>\n",
       "      <td>[s3://asf-cumulus-prod-opera-browse/OPERA_L2_R...</td>\n",
       "      <td>IW</td>\n",
       "      <td>[https://datapool.asf.alaska.edu/RTC/OPERA-S1/...</td>\n",
       "      <td>TRUE</td>\n",
       "      <td>TRUE</td>\n",
       "      <td>FALSE</td>\n",
       "      <td>2024-10-03 23:31:19+00:00</td>\n",
       "      <td>2024-10-04</td>\n",
       "      <td>OPERA_L2_RTC-S1_T048-101161-IW2_20241003T233119Z</td>\n",
       "    </tr>\n",
       "    <tr>\n",
       "      <th>4</th>\n",
       "      <td>POLYGON ((-82.32021 35.53915, -81.4263 35.6614...</td>\n",
       "      <td>35.683331</td>\n",
       "      <td>-81.889417</td>\n",
       "      <td>2024-10-03T23:31:20Z</td>\n",
       "      <td>OPERA_L2_RTC-S1_T048-101160-IW3_20241003T23311...</td>\n",
       "      <td>ASCENDING</td>\n",
       "      <td>48</td>\n",
       "      <td>RTC</td>\n",
       "      <td>https://datapool.asf.alaska.edu/RTC/OPERA-S1/O...</td>\n",
       "      <td>2024-10-03T23:31:17Z</td>\n",
       "      <td>...</td>\n",
       "      <td>IW</td>\n",
       "      <td>[s3://asf-cumulus-prod-opera-browse/OPERA_L2_R...</td>\n",
       "      <td>IW</td>\n",
       "      <td>[https://datapool.asf.alaska.edu/RTC/OPERA-S1/...</td>\n",
       "      <td>TRUE</td>\n",
       "      <td>TRUE</td>\n",
       "      <td>FALSE</td>\n",
       "      <td>2024-10-03 23:31:17+00:00</td>\n",
       "      <td>2024-10-04</td>\n",
       "      <td>OPERA_L2_RTC-S1_T048-101160-IW3_20241003T233117Z</td>\n",
       "    </tr>\n",
       "  </tbody>\n",
       "</table>\n",
       "<p>5 rows × 36 columns</p>\n",
       "</div>"
      ],
      "text/plain": [
       "                                            geometry  centerLat  centerLon  \\\n",
       "0  POLYGON ((-82.38873 35.87119, -81.49209 35.993...  36.015113 -81.957371   \n",
       "1  POLYGON ((-83.34085 35.67455, -82.81556 35.751...  35.831301 -82.848467   \n",
       "2  POLYGON ((-82.35077 35.70575, -81.45975 35.827...  35.849389 -81.923013   \n",
       "3  POLYGON ((-83.30305 35.50874, -82.28436 35.655...  35.665525 -82.810511   \n",
       "4  POLYGON ((-82.32021 35.53915, -81.4263 35.6614...  35.683331 -81.889417   \n",
       "\n",
       "               stopTime                                             fileID  \\\n",
       "0  2024-10-03T23:31:26Z  OPERA_L2_RTC-S1_T048-101162-IW3_20241003T23312...   \n",
       "1  2024-10-03T23:31:25Z  OPERA_L2_RTC-S1_T048-101162-IW2_20241003T23312...   \n",
       "2  2024-10-03T23:31:23Z  OPERA_L2_RTC-S1_T048-101161-IW3_20241003T23312...   \n",
       "3  2024-10-03T23:31:22Z  OPERA_L2_RTC-S1_T048-101161-IW2_20241003T23311...   \n",
       "4  2024-10-03T23:31:20Z  OPERA_L2_RTC-S1_T048-101160-IW3_20241003T23311...   \n",
       "\n",
       "  flightDirection  pathNumber processingLevel  \\\n",
       "0       ASCENDING          48             RTC   \n",
       "1       ASCENDING          48             RTC   \n",
       "2       ASCENDING          48             RTC   \n",
       "3       ASCENDING          48             RTC   \n",
       "4       ASCENDING          48             RTC   \n",
       "\n",
       "                                                 url             startTime  \\\n",
       "0  https://datapool.asf.alaska.edu/RTC/OPERA-S1/O...  2024-10-03T23:31:23Z   \n",
       "1  https://datapool.asf.alaska.edu/RTC/OPERA-S1/O...  2024-10-03T23:31:22Z   \n",
       "2  https://datapool.asf.alaska.edu/RTC/OPERA-S1/O...  2024-10-03T23:31:20Z   \n",
       "3  https://datapool.asf.alaska.edu/RTC/OPERA-S1/O...  2024-10-03T23:31:19Z   \n",
       "4  https://datapool.asf.alaska.edu/RTC/OPERA-S1/O...  2024-10-03T23:31:17Z   \n",
       "\n",
       "   ... beamModeType                                             s3Urls  \\\n",
       "0  ...           IW  [s3://asf-cumulus-prod-opera-browse/OPERA_L2_R...   \n",
       "1  ...           IW  [s3://asf-cumulus-prod-opera-browse/OPERA_L2_R...   \n",
       "2  ...           IW  [s3://asf-cumulus-prod-opera-browse/OPERA_L2_R...   \n",
       "3  ...           IW  [s3://asf-cumulus-prod-opera-browse/OPERA_L2_R...   \n",
       "4  ...           IW  [s3://asf-cumulus-prod-opera-browse/OPERA_L2_R...   \n",
       "\n",
       "  beamMode                                     additionalUrls  \\\n",
       "0       IW  [https://datapool.asf.alaska.edu/RTC/OPERA-S1/...   \n",
       "1       IW  [https://datapool.asf.alaska.edu/RTC/OPERA-S1/...   \n",
       "2       IW  [https://datapool.asf.alaska.edu/RTC/OPERA-S1/...   \n",
       "3       IW  [https://datapool.asf.alaska.edu/RTC/OPERA-S1/...   \n",
       "4       IW  [https://datapool.asf.alaska.edu/RTC/OPERA-S1/...   \n",
       "\n",
       "  bistaticDelayCorrection noiseCorrection  postProcessingFilter  \\\n",
       "0                    TRUE            TRUE                 FALSE   \n",
       "1                    TRUE            TRUE                 FALSE   \n",
       "2                    TRUE            TRUE                 FALSE   \n",
       "3                    TRUE            TRUE                 FALSE   \n",
       "4                    TRUE            TRUE                 FALSE   \n",
       "\n",
       "                     acq_dt    acq_date  \\\n",
       "0 2024-10-03 23:31:23+00:00  2024-10-04   \n",
       "1 2024-10-03 23:31:22+00:00  2024-10-04   \n",
       "2 2024-10-03 23:31:20+00:00  2024-10-04   \n",
       "3 2024-10-03 23:31:19+00:00  2024-10-04   \n",
       "4 2024-10-03 23:31:17+00:00  2024-10-04   \n",
       "\n",
       "                                     opera_dedup_id  \n",
       "0  OPERA_L2_RTC-S1_T048-101162-IW3_20241003T233123Z  \n",
       "1  OPERA_L2_RTC-S1_T048-101162-IW2_20241003T233122Z  \n",
       "2  OPERA_L2_RTC-S1_T048-101161-IW3_20241003T233120Z  \n",
       "3  OPERA_L2_RTC-S1_T048-101161-IW2_20241003T233119Z  \n",
       "4  OPERA_L2_RTC-S1_T048-101160-IW3_20241003T233117Z  \n",
       "\n",
       "[5 rows x 36 columns]"
      ]
     },
     "execution_count": 9,
     "metadata": {},
     "output_type": "execute_result"
    }
   ],
   "source": [
    "df_rtc_resp = gpd.GeoDataFrame.from_features(resp.geojson(), crs=CRS.from_epsg(4326))\n",
    "df_rtc_resp['acq_dt'] = pd.to_datetime(df_rtc_resp.startTime)\n",
    "df_rtc_resp['acq_date'] = pd.to_datetime(df_rtc_resp.startTime).dt.round('D').dt.date\n",
    "df_rtc_resp['opera_dedup_id'] = df_rtc_resp.fileID.map(lambda file_id: '_'.join(file_id.split('_')[:5]))\n",
    "df_rtc_resp.drop_duplicates(subset='opera_dedup_id', inplace=True)\n",
    "df_rtc_resp.head()"
   ]
  },
  {
   "cell_type": "code",
   "execution_count": 10,
   "id": "0c7feb27-59b8-4df3-80bd-1374967715fe",
   "metadata": {},
   "outputs": [
    {
     "data": {
      "text/plain": [
       "array([datetime.date(2024, 10, 4), datetime.date(2024, 9, 29),\n",
       "       datetime.date(2024, 9, 22), datetime.date(2024, 9, 17),\n",
       "       datetime.date(2024, 9, 10), datetime.date(2024, 9, 5),\n",
       "       datetime.date(2024, 8, 29), datetime.date(2024, 8, 24),\n",
       "       datetime.date(2024, 8, 17), datetime.date(2024, 8, 12),\n",
       "       datetime.date(2024, 8, 5), datetime.date(2024, 7, 31),\n",
       "       datetime.date(2024, 7, 19), datetime.date(2024, 7, 7),\n",
       "       datetime.date(2024, 6, 30), datetime.date(2024, 6, 25),\n",
       "       datetime.date(2024, 6, 13), datetime.date(2024, 6, 1),\n",
       "       datetime.date(2024, 5, 20), datetime.date(2024, 5, 13),\n",
       "       datetime.date(2024, 5, 8), datetime.date(2024, 5, 1),\n",
       "       datetime.date(2024, 4, 26), datetime.date(2024, 4, 19),\n",
       "       datetime.date(2024, 4, 14), datetime.date(2024, 4, 7),\n",
       "       datetime.date(2024, 4, 2)], dtype=object)"
      ]
     },
     "execution_count": 10,
     "metadata": {},
     "output_type": "execute_result"
    }
   ],
   "source": [
    "df_rtc_resp.acq_date.unique()"
   ]
  },
  {
   "cell_type": "code",
   "execution_count": 11,
   "id": "dfbdc850-3649-476a-9a7d-933056c367d9",
   "metadata": {},
   "outputs": [
    {
     "data": {
      "text/plain": [
       "array([ 48, 150])"
      ]
     },
     "execution_count": 11,
     "metadata": {},
     "output_type": "execute_result"
    }
   ],
   "source": [
    "df_rtc_resp.pathNumber.unique()"
   ]
  },
  {
   "cell_type": "code",
   "execution_count": 12,
   "id": "a0b09fe1-4d70-4b00-aedc-0825d592f822",
   "metadata": {},
   "outputs": [
    {
     "data": {
      "text/plain": [
       "<Axes: >"
      ]
     },
     "execution_count": 12,
     "metadata": {},
     "output_type": "execute_result"
    },
    {
     "data": {
      "image/png": "[encoded data removed]",
      "text/plain": [
       "<Figure size 640x480 with 1 Axes>"
      ]
     },
     "metadata": {},
     "output_type": "display_data"
    }
   ],
   "source": [
    "fig, ax = plt.subplots()\n",
    "\n",
    "df_aoi.plot(ax=ax)\n",
    "df_rtc_resp_plot = df_rtc_resp.copy()\n",
    "df_rtc_resp_plot.geometry = df_rtc_resp_plot.geometry.boundary\n",
    "df_rtc_resp_plot.plot(ax=ax, alpha=.5, column='pathNumber', categorical=True, legend=True)"
   ]
  },
  {
   "cell_type": "markdown",
   "id": "b97150f3-7427-4259-a600-f9811d370b80",
   "metadata": {},
   "source": [
    "## Select Path"
   ]
  },
  {
   "cell_type": "code",
   "execution_count": 13,
   "id": "fa6f9bca-f09c-41de-bc11-e799387e1e0e",
   "metadata": {},
   "outputs": [],
   "source": [
    "TRACK_NUMBER = 48"
   ]
  },
  {
   "cell_type": "code",
   "execution_count": 14,
   "id": "b39188d2-9a15-4076-b101-e801b5bd6d15",
   "metadata": {},
   "outputs": [
    {
     "data": {
      "text/plain": [
       "array([datetime.date(2024, 10, 4), datetime.date(2024, 9, 22),\n",
       "       datetime.date(2024, 9, 10), datetime.date(2024, 8, 29),\n",
       "       datetime.date(2024, 8, 17), datetime.date(2024, 8, 5),\n",
       "       datetime.date(2024, 6, 30), datetime.date(2024, 5, 13),\n",
       "       datetime.date(2024, 5, 1), datetime.date(2024, 4, 19),\n",
       "       datetime.date(2024, 4, 7)], dtype=object)"
      ]
     },
     "execution_count": 14,
     "metadata": {},
     "output_type": "execute_result"
    }
   ],
   "source": [
    "df_rtc_track = df_rtc_resp[df_rtc_resp.pathNumber== TRACK_NUMBER].reset_index(drop=True)\n",
    "df_rtc_track.acq_date.unique()"
   ]
  },
  {
   "cell_type": "code",
   "execution_count": 15,
   "id": "a3e8fed9-756c-4edf-adb6-a1685eaaffbc",
   "metadata": {},
   "outputs": [
    {
     "data": {
      "text/plain": [
       "8"
      ]
     },
     "execution_count": 15,
     "metadata": {},
     "output_type": "execute_result"
    }
   ],
   "source": [
    "(df_rtc_track.acq_dt > pd.to_datetime(EVENT_DATE, utc=True)).sum()"
   ]
  },
  {
   "cell_type": "code",
   "execution_count": 16,
   "id": "a746fc70-51c5-47d5-9af0-1391e3c83498",
   "metadata": {},
   "outputs": [],
   "source": [
    "df_rtc_track['vh_url'] = df_rtc_track.url\n",
    "df_rtc_track['vv_url'] = df_rtc_track.url.str.replace('VH.tif', 'VV.tif')\n",
    "df_rtc_track['burst_id'] = df_rtc_track.fileID.map(lambda file_id: file_id.split('_')[3])\n"
   ]
  },
  {
   "cell_type": "markdown",
   "id": "b9fd30c5-a74f-4449-b3a7-b43edd655309",
   "metadata": {},
   "source": [
    "# Download RTCs by Burst\n",
    "\n",
    "out/AOI_NAME/rtc_ts/{burst_id}/<tif_files>"
   ]
  },
  {
   "cell_type": "code",
   "execution_count": 17,
   "id": "577f9d5e-ef4e-4939-9867-2c6712df6292",
   "metadata": {},
   "outputs": [],
   "source": [
    "rtc_ts_dir = out_dir / 'rtc_ts' / f'track{TRACK_NUMBER}'\n",
    "rtc_ts_dir.mkdir(exist_ok=True, parents=True)"
   ]
  },
  {
   "cell_type": "code",
   "execution_count": 18,
   "id": "fc50566c-1c6c-43c5-aa8d-5288e96fe05c",
   "metadata": {},
   "outputs": [],
   "source": [
    "\n",
    "@backoff.on_exception(\n",
    "    backoff.expo,\n",
    "    [ConnectionError, HTTPError, RasterioIOError],\n",
    "    max_tries=10,\n",
    "    max_time=60,\n",
    "    jitter=backoff.full_jitter,\n",
    ")\n",
    "def localize_one_rtc(\n",
    "    url: str,\n",
    "    ts_dir: str | Path\n",
    ") -> Path:\n",
    "    local_fn = url.split(\"/\")[-1]\n",
    "    out_path = ts_dir / local_fn\n",
    "    if not ts_dir.exists():\n",
    "        ts_dir.mkdir(parents=True)\n",
    "    if out_path.exists():\n",
    "        return out_path\n",
    "        \n",
    "    with requests.get(url, stream=True) as r:\n",
    "        r.raise_for_status()\n",
    "        with open(out_path, 'wb') as f:\n",
    "            for chunk in r.iter_content(chunk_size=16384): \n",
    "                f.write(chunk)\n",
    "    return out_path"
   ]
  },
  {
   "cell_type": "code",
   "execution_count": 19,
   "id": "513b296e-873d-4883-8f12-a1392b0693e5",
   "metadata": {},
   "outputs": [],
   "source": [
    "burst_ids = df_rtc_track.burst_id.tolist()\n",
    "vv_urls = df_rtc_track.vv_url.tolist()\n",
    "vh_urls = df_rtc_track.vh_url.tolist()"
   ]
  },
  {
   "cell_type": "code",
   "execution_count": 20,
   "id": "572392a6-eb62-43fa-935a-221d86765adc",
   "metadata": {},
   "outputs": [
    {
     "data": {
      "text/plain": [
       "['https://datapool.asf.alaska.edu/RTC/OPERA-S1/OPERA_L2_RTC-S1_T048-101162-IW3_20241003T233123Z_20241004T090756Z_S1A_30_v1.0_VV.tif',\n",
       " PosixPath('out/Helene_Sparta/rtc_ts/track48/T048-101162-IW3')]"
      ]
     },
     "execution_count": 20,
     "metadata": {},
     "output_type": "execute_result"
    }
   ],
   "source": [
    "zipped_inputs = [[url, rtc_ts_dir/ burst_id] for (url, burst_id) in zip(vv_urls + vh_urls, burst_ids * 2)]\n",
    "zipped_inputs[0]"
   ]
  },
  {
   "cell_type": "code",
   "execution_count": 21,
   "id": "cbe52072-8f4e-4c7c-a124-c2f2b514d9b6",
   "metadata": {},
   "outputs": [],
   "source": [
    "def localize_one_rtc_p(data: tuple) -> Path:\n",
    "    return localize_one_rtc(*data)"
   ]
  },
  {
   "cell_type": "code",
   "execution_count": 22,
   "id": "603cf1f6-76ac-47a1-a951-e38a3e0cc779",
   "metadata": {},
   "outputs": [],
   "source": [
    "# localize_one_rtc(*zipped_inputs[0])"
   ]
  },
  {
   "cell_type": "code",
   "execution_count": 23,
   "id": "9b133155-968e-4dc5-b1ff-61fe8c1be1a5",
   "metadata": {},
   "outputs": [
    {
     "name": "stderr",
     "output_type": "stream",
     "text": [
      "100%|█████████████████████████████████████| 176/176 [00:00<00:00, 17968.88it/s]\n"
     ]
    }
   ],
   "source": [
    "import concurrent.futures\n",
    "\n",
    "with concurrent.futures.ThreadPoolExecutor(max_workers=10) as executor:\n",
    "    out_paths_rtc = list(tqdm(executor.map(localize_one_rtc_p, zipped_inputs[:]), total=len(zipped_inputs)))"
   ]
  },
  {
   "cell_type": "markdown",
   "id": "c48f28ca-e82a-4381-aa27-a39fdfe6f571",
   "metadata": {},
   "source": [
    "# Despeckle"
   ]
  },
  {
   "cell_type": "code",
   "execution_count": 24,
   "id": "03db1e86-7f38-4d43-a56d-500573a1a396",
   "metadata": {},
   "outputs": [],
   "source": [
    "from distmetrics import despeckle_rtc_arrs_with_tv"
   ]
  },
  {
   "cell_type": "code",
   "execution_count": 25,
   "id": "3c27fbe7-bc1e-42b6-8c3a-e469826859c3",
   "metadata": {},
   "outputs": [
    {
     "data": {
      "text/plain": [
       "PosixPath('out/Helene_Sparta/rtc_ts/track48')"
      ]
     },
     "execution_count": 25,
     "metadata": {},
     "output_type": "execute_result"
    }
   ],
   "source": [
    "rtc_ts_dir"
   ]
  },
  {
   "cell_type": "code",
   "execution_count": 26,
   "id": "7ad65e74-fabc-4ed0-b584-c977941e6ef3",
   "metadata": {},
   "outputs": [
    {
     "data": {
      "text/plain": [
       "PosixPath('out/Helene_Sparta/rtc_ts_tv/track48')"
      ]
     },
     "execution_count": 26,
     "metadata": {},
     "output_type": "execute_result"
    }
   ],
   "source": [
    "tv_dir = rtc_ts_dir.parents[1] / 'rtc_ts_tv' / f'track{TRACK_NUMBER}'\n",
    "tv_dir.mkdir(exist_ok=True, parents=True)\n",
    "tv_dir"
   ]
  },
  {
   "cell_type": "code",
   "execution_count": 27,
   "id": "62c71f40-3c58-4519-920c-b1df364c8dd2",
   "metadata": {},
   "outputs": [
    {
     "data": {
      "text/plain": [
       "['T048-101162-IW3', 'T048-101162-IW2', 'T048-101161-IW3']"
      ]
     },
     "execution_count": 27,
     "metadata": {},
     "output_type": "execute_result"
    }
   ],
   "source": [
    "burst_ids = [p.parent.stem for p in out_paths_rtc]\n",
    "burst_ids[:3]"
   ]
  },
  {
   "cell_type": "code",
   "execution_count": 28,
   "id": "b7b1d842-8cd0-4302-81e0-b49dabd47944",
   "metadata": {},
   "outputs": [
    {
     "data": {
      "text/plain": [
       "[PosixPath('out/Helene_Sparta/rtc_ts_tv/track48/T048-101162-IW3/OPERA_L2_RTC-S1_T048-101162-IW3_20241003T233123Z_20241004T090756Z_S1A_30_v1.0_VV.tif'),\n",
       " PosixPath('out/Helene_Sparta/rtc_ts_tv/track48/T048-101162-IW2/OPERA_L2_RTC-S1_T048-101162-IW2_20241003T233122Z_20241004T090756Z_S1A_30_v1.0_VV.tif'),\n",
       " PosixPath('out/Helene_Sparta/rtc_ts_tv/track48/T048-101161-IW3/OPERA_L2_RTC-S1_T048-101161-IW3_20241003T233120Z_20241004T090756Z_S1A_30_v1.0_VV.tif')]"
      ]
     },
     "execution_count": 28,
     "metadata": {},
     "output_type": "execute_result"
    }
   ],
   "source": [
    "out_paths_rtc_d = [tv_dir / burst_id / p.name for (burst_id, p) in zip(burst_ids, out_paths_rtc)]\n",
    "out_paths_rtc_d[:3]"
   ]
  },
  {
   "cell_type": "code",
   "execution_count": 29,
   "id": "3f918d04-b402-4d5b-b69a-5d8fa391910f",
   "metadata": {},
   "outputs": [],
   "source": [
    "def open_one(path: Path):\n",
    "    with rasterio.open(path) as ds:\n",
    "        X = ds.read(1)\n",
    "        p = ds.profile\n",
    "    return X, p\n",
    "\n",
    "def serialize_one(arr:np.ndarray, p: dict, out_path: Path):\n",
    "    with rasterio.open(out_path, 'w', **p) as ds:\n",
    "        ds.write(arr, 1)\n",
    "    return out_path\n",
    "\n",
    "def despeckle_and_serialize(rtc_paths: list[Path],\n",
    "                            dst_paths: list[Path],\n",
    "                            batch_size=100) -> list:\n",
    "    # Ensure new directories exist\n",
    "    [p.parent.mkdir(exist_ok=True, parents=True) for p in dst_paths]\n",
    "    # one liner for math.ceil\n",
    "    n_batches = (len(rtc_paths) + batch_size - 1) // batch_size\n",
    "    for k in tqdm(range(n_batches), desc='batch'):\n",
    "        paths_subset = rtc_paths[k * batch_size: (k + 1) * batch_size]\n",
    "        dst_paths_subset = dst_paths[k * batch_size: (k + 1) * batch_size]\n",
    "\n",
    "        # don't overwrite\n",
    "        dst_paths_subset = [dst_p for dst_p in dst_paths_subset if not dst_p.exists()]\n",
    "        paths_subset = [src_p for (src_p, dst_p) in zip(paths_subset, dst_paths_subset) if not dst_p.exists()]\n",
    "        \n",
    "        # open\n",
    "        if dst_paths_subset:\n",
    "            arrs, ps = zip(*list(map(open_one, paths_subset)))\n",
    "            # despeckle\n",
    "            arrs_d = despeckle_rtc_arrs_with_tv(arrs)\n",
    "            # serialize\n",
    "            [serialize_one(arr, prof, dst_path) for (arr, prof, dst_path) in zip(arrs_d, ps, dst_paths_subset)]\n",
    "\n",
    "    return dst_paths"
   ]
  },
  {
   "cell_type": "code",
   "execution_count": 30,
   "id": "e693a0d8-434f-4ddc-bccc-343cc21b7b35",
   "metadata": {},
   "outputs": [
    {
     "name": "stderr",
     "output_type": "stream",
     "text": [
      "batch: 100%|█████████████████████████████████████| 2/2 [00:00<00:00, 42.82it/s]\n"
     ]
    }
   ],
   "source": [
    "out_paths_rtc_d = despeckle_and_serialize(out_paths_rtc, out_paths_rtc_d, batch_size=100)"
   ]
  },
  {
   "cell_type": "code",
   "execution_count": 31,
   "id": "f590be7c-fe9c-4a67-93e2-bfe1cc8eaccd",
   "metadata": {},
   "outputs": [
    {
     "data": {
      "text/plain": [
       "'OPERA_L2_RTC-S1_T048-101162-IW3_20241003T233123Z_20241004T090756Z_S1A_30_v1.0_VV'"
      ]
     },
     "execution_count": 31,
     "metadata": {},
     "output_type": "execute_result"
    }
   ],
   "source": [
    "out_paths_rtc_d[0].stem"
   ]
  },
  {
   "cell_type": "markdown",
   "id": "2575189e-26af-48c5-b06c-7565f7244741",
   "metadata": {},
   "source": [
    "# Generate Disturbance Map - by Burst"
   ]
  },
  {
   "cell_type": "markdown",
   "id": "5641a3c9-65de-4151-9f47-b10b8f5bee5e",
   "metadata": {},
   "source": [
    "# Create LUT by burst to paths"
   ]
  },
  {
   "cell_type": "code",
   "execution_count": 32,
   "id": "79f2cf22-574e-4d22-a2d3-3c2f918dadcb",
   "metadata": {},
   "outputs": [
    {
     "data": {
      "text/plain": [
       "[{'burst_id': 'T048-101162-IW3',\n",
       "  'vv_path': 'out/Helene_Sparta/rtc_ts_tv/track48/T048-101162-IW3/OPERA_L2_RTC-S1_T048-101162-IW3_20241003T233123Z_20241004T090756Z_S1A_30_v1.0_VV.tif',\n",
       "  'acq_timestamp': Timestamp('2024-10-03 23:31:23+0000', tz='UTC')},\n",
       " {'burst_id': 'T048-101162-IW2',\n",
       "  'vv_path': 'out/Helene_Sparta/rtc_ts_tv/track48/T048-101162-IW2/OPERA_L2_RTC-S1_T048-101162-IW2_20241003T233122Z_20241004T090756Z_S1A_30_v1.0_VV.tif',\n",
       "  'acq_timestamp': Timestamp('2024-10-03 23:31:22+0000', tz='UTC')},\n",
       " {'burst_id': 'T048-101161-IW3',\n",
       "  'vv_path': 'out/Helene_Sparta/rtc_ts_tv/track48/T048-101161-IW3/OPERA_L2_RTC-S1_T048-101161-IW3_20241003T233120Z_20241004T090756Z_S1A_30_v1.0_VV.tif',\n",
       "  'acq_timestamp': Timestamp('2024-10-03 23:31:20+0000', tz='UTC')}]"
      ]
     },
     "execution_count": 32,
     "metadata": {},
     "output_type": "execute_result"
    }
   ],
   "source": [
    "vv_path_data = [{'burst_id': p.parent.stem, \n",
    "                 'vv_path': str(p),\n",
    "                 'acq_timestamp': pd.to_datetime(p.stem.split('_')[4])} for p in out_paths_rtc_d if 'VV.tif' in p.name]\n",
    "vv_path_data[:3]"
   ]
  },
  {
   "cell_type": "code",
   "execution_count": 33,
   "id": "00624c88-542b-4b54-adc1-0198ee08706d",
   "metadata": {},
   "outputs": [
    {
     "data": {
      "text/plain": [
       "[{'burst_id': 'T048-101162-IW3',\n",
       "  'vh_path': 'out/Helene_Sparta/rtc_ts_tv/track48/T048-101162-IW3/OPERA_L2_RTC-S1_T048-101162-IW3_20241003T233123Z_20241004T090756Z_S1A_30_v1.0_VH.tif',\n",
       "  'acq_timestamp': Timestamp('2024-10-03 23:31:23+0000', tz='UTC')},\n",
       " {'burst_id': 'T048-101162-IW2',\n",
       "  'vh_path': 'out/Helene_Sparta/rtc_ts_tv/track48/T048-101162-IW2/OPERA_L2_RTC-S1_T048-101162-IW2_20241003T233122Z_20241004T090756Z_S1A_30_v1.0_VH.tif',\n",
       "  'acq_timestamp': Timestamp('2024-10-03 23:31:22+0000', tz='UTC')},\n",
       " {'burst_id': 'T048-101161-IW3',\n",
       "  'vh_path': 'out/Helene_Sparta/rtc_ts_tv/track48/T048-101161-IW3/OPERA_L2_RTC-S1_T048-101161-IW3_20241003T233120Z_20241004T090756Z_S1A_30_v1.0_VH.tif',\n",
       "  'acq_timestamp': Timestamp('2024-10-03 23:31:20+0000', tz='UTC')}]"
      ]
     },
     "execution_count": 33,
     "metadata": {},
     "output_type": "execute_result"
    }
   ],
   "source": [
    "vh_path_data = [{'burst_id': p.parent.stem, \n",
    "                 'vh_path': str(p),\n",
    "                 'acq_timestamp': pd.to_datetime(p.stem.split('_')[4])} for p in out_paths_rtc_d if 'VH.tif' in p.name]\n",
    "vh_path_data[:3]"
   ]
  },
  {
   "cell_type": "code",
   "execution_count": 34,
   "id": "782d6820-94f7-42bd-a85c-3155682a052e",
   "metadata": {},
   "outputs": [
    {
     "data": {
      "text/plain": [
       "True"
      ]
     },
     "execution_count": 34,
     "metadata": {},
     "output_type": "execute_result"
    }
   ],
   "source": [
    "len(vh_path_data) == df_rtc_track.shape[0]"
   ]
  },
  {
   "cell_type": "code",
   "execution_count": 35,
   "id": "1a7742db-0ef1-4bf8-b4e1-b772883aa5e5",
   "metadata": {},
   "outputs": [
    {
     "data": {
      "text/html": [
       "<div>\n",
       "<style scoped>\n",
       "    .dataframe tbody tr th:only-of-type {\n",
       "        vertical-align: middle;\n",
       "    }\n",
       "\n",
       "    .dataframe tbody tr th {\n",
       "        vertical-align: top;\n",
       "    }\n",
       "\n",
       "    .dataframe thead th {\n",
       "        text-align: right;\n",
       "    }\n",
       "</style>\n",
       "<table border=\"1\" class=\"dataframe\">\n",
       "  <thead>\n",
       "    <tr style=\"text-align: right;\">\n",
       "      <th></th>\n",
       "      <th>burst_id</th>\n",
       "      <th>acq_timestamp</th>\n",
       "      <th>date_str</th>\n",
       "      <th>vv_path</th>\n",
       "      <th>vh_path</th>\n",
       "    </tr>\n",
       "  </thead>\n",
       "  <tbody>\n",
       "    <tr>\n",
       "      <th>0</th>\n",
       "      <td>T048-101159-IW2</td>\n",
       "      <td>2024-04-06 23:31:14+00:00</td>\n",
       "      <td>2024-04-06</td>\n",
       "      <td>out/Helene_Sparta/rtc_ts_tv/track48/T048-10115...</td>\n",
       "      <td>out/Helene_Sparta/rtc_ts_tv/track48/T048-10115...</td>\n",
       "    </tr>\n",
       "    <tr>\n",
       "      <th>1</th>\n",
       "      <td>T048-101159-IW2</td>\n",
       "      <td>2024-04-18 23:31:15+00:00</td>\n",
       "      <td>2024-04-18</td>\n",
       "      <td>out/Helene_Sparta/rtc_ts_tv/track48/T048-10115...</td>\n",
       "      <td>out/Helene_Sparta/rtc_ts_tv/track48/T048-10115...</td>\n",
       "    </tr>\n",
       "    <tr>\n",
       "      <th>2</th>\n",
       "      <td>T048-101159-IW2</td>\n",
       "      <td>2024-04-30 23:31:15+00:00</td>\n",
       "      <td>2024-04-30</td>\n",
       "      <td>out/Helene_Sparta/rtc_ts_tv/track48/T048-10115...</td>\n",
       "      <td>out/Helene_Sparta/rtc_ts_tv/track48/T048-10115...</td>\n",
       "    </tr>\n",
       "    <tr>\n",
       "      <th>3</th>\n",
       "      <td>T048-101159-IW2</td>\n",
       "      <td>2024-05-12 23:31:15+00:00</td>\n",
       "      <td>2024-05-12</td>\n",
       "      <td>out/Helene_Sparta/rtc_ts_tv/track48/T048-10115...</td>\n",
       "      <td>out/Helene_Sparta/rtc_ts_tv/track48/T048-10115...</td>\n",
       "    </tr>\n",
       "    <tr>\n",
       "      <th>4</th>\n",
       "      <td>T048-101159-IW2</td>\n",
       "      <td>2024-06-29 23:31:13+00:00</td>\n",
       "      <td>2024-06-29</td>\n",
       "      <td>out/Helene_Sparta/rtc_ts_tv/track48/T048-10115...</td>\n",
       "      <td>out/Helene_Sparta/rtc_ts_tv/track48/T048-10115...</td>\n",
       "    </tr>\n",
       "  </tbody>\n",
       "</table>\n",
       "</div>"
      ],
      "text/plain": [
       "          burst_id             acq_timestamp    date_str  \\\n",
       "0  T048-101159-IW2 2024-04-06 23:31:14+00:00  2024-04-06   \n",
       "1  T048-101159-IW2 2024-04-18 23:31:15+00:00  2024-04-18   \n",
       "2  T048-101159-IW2 2024-04-30 23:31:15+00:00  2024-04-30   \n",
       "3  T048-101159-IW2 2024-05-12 23:31:15+00:00  2024-05-12   \n",
       "4  T048-101159-IW2 2024-06-29 23:31:13+00:00  2024-06-29   \n",
       "\n",
       "                                             vv_path  \\\n",
       "0  out/Helene_Sparta/rtc_ts_tv/track48/T048-10115...   \n",
       "1  out/Helene_Sparta/rtc_ts_tv/track48/T048-10115...   \n",
       "2  out/Helene_Sparta/rtc_ts_tv/track48/T048-10115...   \n",
       "3  out/Helene_Sparta/rtc_ts_tv/track48/T048-10115...   \n",
       "4  out/Helene_Sparta/rtc_ts_tv/track48/T048-10115...   \n",
       "\n",
       "                                             vh_path  \n",
       "0  out/Helene_Sparta/rtc_ts_tv/track48/T048-10115...  \n",
       "1  out/Helene_Sparta/rtc_ts_tv/track48/T048-10115...  \n",
       "2  out/Helene_Sparta/rtc_ts_tv/track48/T048-10115...  \n",
       "3  out/Helene_Sparta/rtc_ts_tv/track48/T048-10115...  \n",
       "4  out/Helene_Sparta/rtc_ts_tv/track48/T048-10115...  "
      ]
     },
     "execution_count": 35,
     "metadata": {},
     "output_type": "execute_result"
    }
   ],
   "source": [
    "df_vv = pd.DataFrame(vv_path_data)\n",
    "df_vh = pd.DataFrame(vh_path_data)\n",
    "\n",
    "df_vv['date_str'] = df_vv.acq_timestamp.dt.date.astype(str)\n",
    "df_vh['date_str'] = df_vh.acq_timestamp.dt.date.astype(str)\n",
    "df_loc_ts = pd.merge(df_vv, df_vh[['burst_id', 'date_str', 'vh_path']], on=['burst_id', 'date_str'], how='inner')\n",
    "df_loc_ts = df_loc_ts[['burst_id', 'acq_timestamp', 'date_str', 'vv_path', 'vh_path']]\n",
    "df_loc_ts = df_loc_ts.sort_values(by=['burst_id', 'acq_timestamp']).reset_index(drop=True)\n",
    "assert df_loc_ts.shape[0] == len(vh_path_data)\n",
    "df_loc_ts.head()"
   ]
  },
  {
   "cell_type": "markdown",
   "id": "c9e3dd29-f660-4a35-a34c-f04b55520c2a",
   "metadata": {},
   "source": [
    "## Metric - by Burst"
   ]
  },
  {
   "cell_type": "code",
   "execution_count": 36,
   "id": "0f2503c4-1cc7-42c0-abbe-1d033d8c46cd",
   "metadata": {},
   "outputs": [],
   "source": [
    "transformer_model = load_trained_transformer_model()"
   ]
  },
  {
   "cell_type": "code",
   "execution_count": 37,
   "id": "9fbaa066-fa48-4b31-938e-d07f16bf21d8",
   "metadata": {},
   "outputs": [
    {
     "data": {
      "text/plain": [
       "8"
      ]
     },
     "execution_count": 37,
     "metadata": {},
     "output_type": "execute_result"
    }
   ],
   "source": [
    "burst_ids_unique = df_loc_ts.burst_id.unique().tolist()\n",
    "len(burst_ids_unique)"
   ]
  },
  {
   "cell_type": "code",
   "execution_count": 38,
   "id": "fa3ba919-3746-4bc2-bf27-560cad016a5c",
   "metadata": {},
   "outputs": [],
   "source": [
    "def open_one_arr(path: Path):\n",
    "    with rasterio.open(path) as ds:\n",
    "        X = ds.read(1)\n",
    "\n",
    "    return X\n",
    "\n",
    "def compute_distmetric(burst_id: str, \n",
    "                       post_image_proximity_to_event: str = 'closest', \n",
    "                       max_pre_images: int = 10,\n",
    "                       min_pre_images: int = 2) -> np.ndarray:\n",
    "    assert post_image_proximity_to_event in ['closest', 'farthest'] # or maybe earliest or latest is better\n",
    "\n",
    "    df_ts = df_loc_ts[df_loc_ts.burst_id == burst_id].reset_index(drop=True)\n",
    "    df_post = df_ts[df_ts.acq_timestamp >= pd.Timestamp(EVENT_DATE, tz='utc')].reset_index(drop=True)\n",
    "    df_pre = df_ts[df_ts.acq_timestamp < pd.Timestamp(EVENT_DATE, tz='utc')].reset_index(drop=True)\n",
    "\n",
    "    pre_vv_paths = df_pre.vv_path[-max_pre_images:].tolist()\n",
    "    pre_vh_paths = df_pre.vh_path[-max_pre_images:].tolist()\n",
    "\n",
    "    with rasterio.open(pre_vv_paths[0]) as ds:\n",
    "        ref_profile = ds.profile\n",
    "\n",
    "    post_ind = 0 if (post_image_proximity_to_event == 'closest') else -1\n",
    "    post_vv_path = df_post.vv_path.tolist()[post_ind]\n",
    "    post_vh_path = df_post.vh_path.tolist()[post_ind]\n",
    "    post_acq_ts = df_post.acq_timestamp.tolist()[post_ind]\n",
    "    \n",
    "    if len(pre_vv_paths) < min_pre_images:\n",
    "        raise ValueError('Not enough pre-images available')\n",
    "\n",
    "    pre_arrs_vv = list(map(open_one_arr, pre_vv_paths))\n",
    "    pre_arrs_vh = list(map(open_one_arr, pre_vh_paths))\n",
    "    post_vv = open_one_arr(post_vv_path)\n",
    "    post_vh = open_one_arr(post_vh_path)\n",
    "\n",
    "    metric_ob = compute_transformer_zscore(transformer_model,\n",
    "                                        pre_arrs_vv,\n",
    "                                        pre_arrs_vh,\n",
    "                                        post_vv,\n",
    "                                        post_vh,\n",
    "                                        stride=2, \n",
    "                                        batch_size=1024,\n",
    "                                        memory_strategy='low'\n",
    "                                        )\n",
    "    return metric_ob, ref_profile, post_acq_ts"
   ]
  },
  {
   "cell_type": "code",
   "execution_count": 39,
   "id": "b03aea99-9c1b-4866-959f-55f9a29c2faa",
   "metadata": {},
   "outputs": [],
   "source": [
    "# metric, ref_profile, post_acq_ts = compute_distmetric('T150-320248-IW2')"
   ]
  },
  {
   "cell_type": "code",
   "execution_count": 40,
   "id": "711ec5a2-2984-4e8c-a32e-e094c751f3d8",
   "metadata": {},
   "outputs": [
    {
     "data": {
      "text/plain": [
       "PosixPath('out/Helene_Sparta/metrics/track48')"
      ]
     },
     "execution_count": 40,
     "metadata": {},
     "output_type": "execute_result"
    }
   ],
   "source": [
    "metric_dir = rtc_ts_dir.parents[1] / 'metrics' / f'track{TRACK_NUMBER}'\n",
    "metric_dir.mkdir(exist_ok=True, parents=True)\n",
    "metric_dir"
   ]
  },
  {
   "cell_type": "code",
   "execution_count": 41,
   "id": "ed5337bf-8137-4d1c-8fbe-f35704852449",
   "metadata": {},
   "outputs": [],
   "source": [
    "def compute_metric_and_serialize(burst_id: str) -> Path:\n",
    "    metric_ob, ref_profile, post_ts = compute_distmetric(burst_id)\n",
    "    burst_metric_dir = metric_dir / burst_id\n",
    "    burst_metric_dir.mkdir(exist_ok=True, parents=True)\n",
    "    out_path = burst_metric_dir / f'transformer_{burst_id}_{str(post_ts.date())}.tif'\n",
    "\n",
    "    dist = metric_ob.dist\n",
    "    with rasterio.open(out_path, 'w', **ref_profile) as ds:\n",
    "        ds.write(dist, 1)\n",
    "    return out_path"
   ]
  },
  {
   "cell_type": "code",
   "execution_count": null,
   "id": "4af07787-ce81-4d8f-b01d-6595652c1e8d",
   "metadata": {},
   "outputs": [
    {
     "name": "stderr",
     "output_type": "stream",
     "text": [
      "burst_id:   0%|                                          | 0/8 [00:00<?, ?it/s]\n",
      "Chips Traversed:   0%|                                | 0/1246 [00:00<?, ?it/s]\u001b[A\n",
      "Chips Traversed:   0%|                        | 1/1246 [00:02<53:37,  2.58s/it]\u001b[A\n",
      "Chips Traversed:   3%|▋                      | 36/1246 [00:04<02:10,  9.28it/s]\u001b[A\n",
      "Chips Traversed:   5%|█                      | 57/1246 [00:06<02:10,  9.13it/s]\u001b[A\n",
      "Chips Traversed:   6%|█▍                     | 77/1246 [00:09<02:08,  9.07it/s]\u001b[A\n",
      "Chips Traversed:   8%|█▊                     | 96/1246 [00:11<02:07,  9.04it/s]\u001b[A\n",
      "Chips Traversed:   9%|██                    | 115/1246 [00:13<02:05,  9.02it/s]\u001b[A\n",
      "Chips Traversed:  11%|██▎                   | 134/1246 [00:15<02:03,  9.00it/s]\u001b[A\n",
      "Chips Traversed:  12%|██▋                   | 153/1246 [00:17<02:01,  8.99it/s]\u001b[A\n",
      "Chips Traversed:  14%|███                   | 172/1246 [00:19<01:59,  8.98it/s]\u001b[A\n",
      "Chips Traversed:  15%|███▎                  | 191/1246 [00:23<02:16,  7.73it/s]\u001b[A\n",
      "Chips Traversed:  17%|███▋                  | 208/1246 [00:25<02:19,  7.46it/s]\u001b[A\n",
      "Chips Traversed:  18%|███▉                  | 224/1246 [00:27<02:14,  7.58it/s]\u001b[A\n",
      "Chips Traversed:  19%|████▎                 | 241/1246 [00:29<02:09,  7.76it/s]\u001b[A\n",
      "Chips Traversed:  21%|████▌                 | 259/1246 [00:31<02:04,  7.92it/s]\u001b[A\n",
      "Chips Traversed:  22%|████▊                 | 276/1246 [00:33<02:01,  7.99it/s]\u001b[A\n",
      "Chips Traversed:  24%|█████▏                | 293/1246 [00:36<02:00,  7.89it/s]\u001b[A\n",
      "Chips Traversed:  25%|█████▍                | 309/1246 [00:38<01:58,  7.91it/s]\u001b[A\n",
      "Chips Traversed:  26%|█████▊                | 326/1246 [00:40<01:55,  7.99it/s]\u001b[A\n",
      "Chips Traversed:  28%|██████                | 343/1246 [00:42<01:52,  8.02it/s]\u001b[A\n",
      "Chips Traversed:  29%|██████▎               | 360/1246 [00:44<01:54,  7.73it/s]\u001b[A\n",
      "Chips Traversed:  30%|██████▋               | 376/1246 [00:46<01:54,  7.58it/s]\u001b[A\n",
      "Chips Traversed:  31%|██████▉               | 392/1246 [00:48<01:52,  7.60it/s]\u001b[A\n",
      "Chips Traversed:  33%|███████▏              | 408/1246 [00:51<01:54,  7.35it/s]\u001b[A\n",
      "Chips Traversed:  34%|███████▍              | 424/1246 [00:53<01:51,  7.37it/s]\u001b[A\n",
      "Chips Traversed:  35%|███████▊              | 439/1246 [00:55<01:49,  7.37it/s]\u001b[A\n",
      "Chips Traversed:  36%|████████              | 454/1246 [00:57<01:47,  7.37it/s]\u001b[A\n",
      "Chips Traversed:  38%|████████▎             | 469/1246 [00:59<01:52,  6.92it/s]\u001b[A\n",
      "Chips Traversed:  39%|████████▌             | 484/1246 [01:02<01:49,  6.99it/s]\u001b[A\n",
      "Chips Traversed:  40%|████████▊             | 499/1246 [01:04<01:46,  6.99it/s]\u001b[A\n",
      "Chips Traversed:  41%|█████████             | 514/1246 [01:06<01:45,  6.96it/s]\u001b[A\n",
      "Chips Traversed:  42%|█████████▎            | 528/1246 [01:08<01:48,  6.63it/s]\u001b[A\n",
      "Chips Traversed:  43%|█████████▌            | 542/1246 [01:10<01:45,  6.65it/s]\u001b[A\n",
      "Chips Traversed:  45%|█████████▊            | 556/1246 [01:12<01:44,  6.63it/s]\u001b[A\n",
      "Chips Traversed:  46%|██████████            | 570/1246 [01:15<01:42,  6.59it/s]\u001b[A\n",
      "Chips Traversed:  47%|██████████▎           | 584/1246 [01:17<01:44,  6.34it/s]\u001b[A\n",
      "Chips Traversed:  48%|██████████▌           | 597/1246 [01:19<01:41,  6.37it/s]\u001b[A\n",
      "Chips Traversed:  49%|██████████▊           | 610/1246 [01:21<01:39,  6.40it/s]\u001b[A\n",
      "Chips Traversed:  50%|███████████           | 624/1246 [01:23<01:36,  6.43it/s]\u001b[A\n",
      "Chips Traversed:  51%|███████████▏          | 637/1246 [01:26<01:38,  6.21it/s]\u001b[A\n",
      "Chips Traversed:  52%|███████████▍          | 650/1246 [01:28<01:34,  6.29it/s]\u001b[A\n",
      "Chips Traversed:  53%|███████████▋          | 663/1246 [01:30<01:31,  6.34it/s]\u001b[A\n",
      "Chips Traversed:  54%|███████████▉          | 676/1246 [01:32<01:29,  6.37it/s]\u001b[A\n",
      "Chips Traversed:  55%|████████████▏         | 689/1246 [01:34<01:26,  6.41it/s]\u001b[A\n",
      "Chips Traversed:  56%|████████████▍         | 702/1246 [01:36<01:27,  6.23it/s]\u001b[A\n",
      "Chips Traversed:  57%|████████████▋         | 716/1246 [01:38<01:23,  6.31it/s]\u001b[A\n",
      "Chips Traversed:  59%|████████████▉         | 730/1246 [01:40<01:20,  6.38it/s]\u001b[A\n",
      "Chips Traversed:  60%|█████████████▏        | 744/1246 [01:42<01:17,  6.45it/s]\u001b[A\n",
      "Chips Traversed:  61%|█████████████▎        | 757/1246 [01:44<01:16,  6.36it/s]\u001b[A\n",
      "Chips Traversed:  62%|█████████████▌        | 771/1246 [01:46<01:13,  6.47it/s]\u001b[A\n",
      "Chips Traversed:  63%|█████████████▊        | 785/1246 [01:48<01:09,  6.60it/s]\u001b[A\n",
      "Chips Traversed:  64%|██████████████        | 799/1246 [01:50<01:06,  6.70it/s]\u001b[A\n",
      "Chips Traversed:  65%|██████████████▎       | 813/1246 [01:53<01:05,  6.58it/s]\u001b[A\n",
      "Chips Traversed:  66%|██████████████▌       | 828/1246 [01:55<01:01,  6.76it/s]\u001b[A\n",
      "Chips Traversed:  68%|██████████████▉       | 843/1246 [01:57<00:58,  6.91it/s]\u001b[A\n",
      "Chips Traversed:  69%|███████████████▏      | 858/1246 [01:59<00:55,  7.04it/s]\u001b[A\n",
      "Chips Traversed:  70%|███████████████▍      | 873/1246 [02:01<00:53,  6.95it/s]\u001b[A\n",
      "Chips Traversed:  71%|███████████████▋      | 889/1246 [02:03<00:50,  7.13it/s]\u001b[A\n",
      "Chips Traversed:  73%|███████████████▉      | 905/1246 [02:05<00:46,  7.28it/s]\u001b[A\n",
      "Chips Traversed:  74%|████████████████▏     | 920/1246 [02:07<00:44,  7.31it/s]\u001b[A\n",
      "Chips Traversed:  75%|████████████████▌     | 936/1246 [02:09<00:42,  7.37it/s]\u001b[A\n",
      "Chips Traversed:  76%|████████████████▊     | 953/1246 [02:12<00:38,  7.53it/s]\u001b[A\n",
      "Chips Traversed:  78%|█████████████████▏    | 970/1246 [02:14<00:35,  7.80it/s]\u001b[A\n",
      "Chips Traversed:  79%|█████████████████▍    | 986/1246 [02:16<00:33,  7.70it/s]\u001b[A\n",
      "Chips Traversed:  80%|████████████████▉    | 1003/1246 [02:18<00:30,  7.85it/s]\u001b[A\n",
      "Chips Traversed:  82%|█████████████████▏   | 1021/1246 [02:20<00:27,  8.12it/s]\u001b[A\n",
      "Chips Traversed:  83%|█████████████████▌   | 1039/1246 [02:22<00:25,  8.21it/s]\u001b[A\n",
      "Chips Traversed:  85%|█████████████████▊   | 1058/1246 [02:24<00:22,  8.43it/s]\u001b[A\n",
      "Chips Traversed:  86%|██████████████████▏  | 1077/1246 [02:26<00:19,  8.74it/s]\u001b[A\n",
      "Chips Traversed:  88%|██████████████████▌  | 1099/1246 [02:28<00:15,  9.31it/s]\u001b[A\n",
      "Chips Traversed:  91%|███████████████████  | 1128/1246 [02:30<00:11, 10.69it/s]\u001b[A\n",
      "Chips Traversed:  92%|███████████████████▍ | 1150/1246 [02:33<00:09, 10.01it/s]\u001b[A\n",
      "Chips Traversed:  94%|███████████████████▋ | 1171/1246 [02:35<00:07,  9.58it/s]\u001b[A\n",
      "Chips Traversed:  96%|████████████████████ | 1191/1246 [02:38<00:05,  9.29it/s]\u001b[A\n",
      "Chips Traversed:  97%|████████████████████▍| 1210/1246 [02:40<00:03,  9.10it/s]\u001b[A\n",
      "Chips Traversed: 100%|█████████████████████| 1246/1246 [02:44<00:00,  7.58it/s]\u001b[A\n",
      "burst_id:  12%|████▏                            | 1/8 [02:52<20:05, 172.26s/it]\n",
      "Chips Traversed:   0%|                                | 0/1113 [00:00<?, ?it/s]\u001b[A\n",
      "Chips Traversed:   3%|▋                      | 36/1113 [00:02<01:01, 17.52it/s]\u001b[A\n",
      "Chips Traversed:   6%|█▍                     | 72/1113 [00:06<01:34, 10.96it/s]\u001b[A\n",
      "Chips Traversed:   9%|██                     | 97/1113 [00:09<01:41, 10.00it/s]\u001b[A\n",
      "Chips Traversed:  11%|██▎                   | 119/1113 [00:11<01:44,  9.53it/s]\u001b[A\n",
      "Chips Traversed:  12%|██▋                   | 139/1113 [00:13<01:45,  9.25it/s]\u001b[A\n",
      "Chips Traversed:  14%|███                   | 158/1113 [00:16<01:45,  9.06it/s]\u001b[A\n",
      "Chips Traversed:  16%|███▍                  | 177/1113 [00:18<01:44,  8.93it/s]\u001b[A\n",
      "Chips Traversed:  18%|███▊                  | 195/1113 [00:21<02:03,  7.41it/s]\u001b[A\n",
      "Chips Traversed:  19%|████▏                 | 211/1113 [00:24<02:04,  7.26it/s]\u001b[A\n",
      "Chips Traversed:  20%|████▍                 | 227/1113 [00:26<02:00,  7.35it/s]\u001b[A\n",
      "Chips Traversed:  22%|████▊                 | 245/1113 [00:28<01:53,  7.65it/s]\u001b[A\n",
      "Chips Traversed:  24%|█████▏                | 262/1113 [00:30<01:50,  7.73it/s]\u001b[A\n",
      "Chips Traversed:  25%|█████▌                | 280/1113 [00:32<01:46,  7.82it/s]\u001b[A\n",
      "Chips Traversed:  27%|█████▊                | 296/1113 [00:34<01:46,  7.65it/s]\u001b[A\n",
      "Chips Traversed:  28%|██████▏               | 312/1113 [00:37<01:46,  7.51it/s]\u001b[A\n",
      "Chips Traversed:  29%|██████▍               | 328/1113 [00:39<01:51,  7.04it/s]\u001b[A\n",
      "Chips Traversed:  31%|██████▊               | 343/1113 [00:42<01:55,  6.67it/s]\u001b[A\n",
      "Chips Traversed:  32%|███████               | 357/1113 [00:44<01:55,  6.56it/s]\u001b[A\n",
      "Chips Traversed:  33%|███████▎              | 371/1113 [00:47<01:57,  6.33it/s]\u001b[A\n",
      "Chips Traversed:  35%|███████▌              | 384/1113 [00:49<01:58,  6.15it/s]\u001b[A\n",
      "Chips Traversed:  36%|███████▊              | 397/1113 [00:51<02:01,  5.89it/s]\u001b[A\n",
      "Chips Traversed:  37%|████████              | 409/1113 [00:54<02:08,  5.49it/s]\u001b[A\n",
      "Chips Traversed:  38%|████████▎             | 421/1113 [00:56<02:13,  5.19it/s]\u001b[A\n",
      "Chips Traversed:  39%|████████▌             | 432/1113 [00:59<02:15,  5.03it/s]\u001b[A\n",
      "Chips Traversed:  40%|████████▊             | 443/1113 [01:01<02:17,  4.86it/s]\u001b[A\n",
      "Chips Traversed:  41%|████████▉             | 453/1113 [01:04<02:18,  4.77it/s]\u001b[A\n",
      "Chips Traversed:  42%|█████████▏            | 463/1113 [01:06<02:19,  4.67it/s]\u001b[A\n",
      "Chips Traversed:  42%|█████████▎            | 473/1113 [01:08<02:17,  4.64it/s]\u001b[A\n",
      "Chips Traversed:  43%|█████████▌            | 483/1113 [01:10<02:17,  4.60it/s]\u001b[A\n",
      "Chips Traversed:  44%|█████████▋            | 493/1113 [01:12<02:11,  4.70it/s]\u001b[A\n",
      "Chips Traversed:  45%|█████████▉            | 504/1113 [01:14<02:04,  4.89it/s]\u001b[A\n",
      "Chips Traversed:  46%|██████████▏           | 514/1113 [01:16<02:05,  4.77it/s]\u001b[A\n",
      "Chips Traversed:  47%|██████████▎           | 524/1113 [01:19<02:07,  4.62it/s]\u001b[A\n",
      "Chips Traversed:  48%|██████████▌           | 534/1113 [01:21<02:08,  4.50it/s]\u001b[A\n",
      "Chips Traversed:  49%|██████████▊           | 544/1113 [01:23<02:07,  4.46it/s]\u001b[A\n",
      "Chips Traversed:  50%|██████████▉           | 553/1113 [01:26<02:06,  4.42it/s]\u001b[A\n",
      "Chips Traversed:  50%|███████████           | 562/1113 [01:28<02:05,  4.38it/s]\u001b[A\n",
      "Chips Traversed:  51%|███████████▎          | 571/1113 [01:30<02:04,  4.34it/s]\u001b[A\n",
      "Chips Traversed:  52%|███████████▍          | 580/1113 [01:32<02:03,  4.31it/s]\u001b[A\n",
      "Chips Traversed:  53%|███████████▋          | 590/1113 [01:34<01:58,  4.40it/s]\u001b[A\n",
      "Chips Traversed:  54%|███████████▊          | 600/1113 [01:36<01:53,  4.52it/s]\u001b[A\n",
      "Chips Traversed:  55%|████████████          | 610/1113 [01:38<01:48,  4.65it/s]\u001b[A\n",
      "Chips Traversed:  56%|████████████▎         | 621/1113 [01:40<01:40,  4.89it/s]\u001b[A\n",
      "Chips Traversed:  57%|████████████▍         | 632/1113 [01:42<01:35,  5.02it/s]\u001b[A\n",
      "Chips Traversed:  58%|████████████▋         | 644/1113 [01:44<01:30,  5.19it/s]\u001b[A\n",
      "Chips Traversed:  59%|████████████▉         | 655/1113 [01:46<01:26,  5.27it/s]\u001b[A\n",
      "Chips Traversed:  60%|█████████████▏        | 666/1113 [01:48<01:23,  5.33it/s]\u001b[A\n",
      "Chips Traversed:  61%|█████████████▍        | 677/1113 [01:51<01:22,  5.29it/s]\u001b[A\n",
      "Chips Traversed:  62%|█████████████▌        | 688/1113 [01:53<01:20,  5.27it/s]\u001b[A\n",
      "Chips Traversed:  63%|█████████████▊        | 700/1113 [01:55<01:16,  5.42it/s]\u001b[A\n",
      "Chips Traversed:  64%|██████████████        | 712/1113 [01:57<01:12,  5.51it/s]\u001b[A\n",
      "Chips Traversed:  65%|██████████████▎       | 724/1113 [01:59<01:10,  5.49it/s]\u001b[A\n",
      "Chips Traversed:  66%|██████████████▌       | 736/1113 [02:01<01:08,  5.54it/s]\u001b[A\n",
      "Chips Traversed:  67%|██████████████▊       | 748/1113 [02:03<01:05,  5.61it/s]\u001b[A\n",
      "Chips Traversed:  68%|███████████████       | 761/1113 [02:05<01:01,  5.77it/s]\u001b[A\n",
      "Chips Traversed:  69%|███████████████▎      | 773/1113 [02:07<00:58,  5.79it/s]\u001b[A\n",
      "Chips Traversed:  71%|███████████████▌      | 785/1113 [02:09<00:56,  5.81it/s]\u001b[A\n",
      "Chips Traversed:  72%|███████████████▊      | 797/1113 [02:11<00:54,  5.84it/s]\u001b[A\n",
      "Chips Traversed:  73%|███████████████▉      | 809/1113 [02:13<00:51,  5.87it/s]\u001b[A\n",
      "Chips Traversed:  74%|████████████████▏     | 821/1113 [02:16<00:49,  5.89it/s]\u001b[A\n",
      "Chips Traversed:  75%|████████████████▍     | 834/1113 [02:18<00:47,  5.86it/s]\u001b[A\n",
      "Chips Traversed:  76%|████████████████▋     | 846/1113 [02:20<00:46,  5.75it/s]\u001b[A\n",
      "Chips Traversed:  77%|████████████████▉     | 858/1113 [02:22<00:45,  5.63it/s]\u001b[A\n",
      "Chips Traversed:  78%|█████████████████▏    | 870/1113 [02:24<00:43,  5.59it/s]\u001b[A\n",
      "Chips Traversed:  79%|█████████████████▍    | 882/1113 [02:27<00:41,  5.53it/s]\u001b[A\n",
      "Chips Traversed:  80%|█████████████████▋    | 894/1113 [02:29<00:39,  5.52it/s]\u001b[A\n",
      "Chips Traversed:  81%|█████████████████▉    | 906/1113 [02:31<00:37,  5.59it/s]\u001b[A\n",
      "Chips Traversed:  82%|██████████████████▏   | 918/1113 [02:33<00:35,  5.55it/s]\u001b[A\n",
      "Chips Traversed:  84%|██████████████████▍   | 930/1113 [02:35<00:33,  5.48it/s]\u001b[A\n",
      "Chips Traversed:  85%|██████████████████▌   | 942/1113 [02:37<00:30,  5.63it/s]\u001b[A\n",
      "Chips Traversed:  86%|██████████████████▉   | 955/1113 [02:39<00:27,  5.77it/s]\u001b[A\n",
      "Chips Traversed:  88%|███████████████████▎  | 975/1113 [02:41<00:19,  6.91it/s]\u001b[A\n",
      "Chips Traversed:  89%|███████████████████▋  | 994/1113 [02:44<00:15,  7.51it/s]\u001b[A\n",
      "Chips Traversed:  91%|███████████████████  | 1010/1113 [02:46<00:14,  6.87it/s]\u001b[A\n",
      "Chips Traversed:  92%|███████████████████▎ | 1024/1113 [02:49<00:13,  6.49it/s]\u001b[A\n",
      "Chips Traversed:  93%|███████████████████▌ | 1038/1113 [02:51<00:12,  6.23it/s]\u001b[A\n",
      "Chips Traversed:  94%|███████████████████▊ | 1051/1113 [02:54<00:10,  6.08it/s]\u001b[A\n",
      "Chips Traversed:  96%|████████████████████ | 1064/1113 [02:56<00:08,  5.93it/s]\u001b[A\n",
      "Chips Traversed:  97%|████████████████████▎| 1076/1113 [02:58<00:06,  5.87it/s]\u001b[A\n",
      "Chips Traversed:  98%|████████████████████▌| 1088/1113 [03:00<00:04,  5.84it/s]\u001b[A\n",
      "Chips Traversed:  99%|████████████████████▊| 1100/1113 [03:02<00:02,  5.73it/s]\u001b[A\n",
      "Chips Traversed: 100%|█████████████████████| 1113/1113 [03:05<00:00,  6.01it/s]\u001b[A\n",
      "burst_id:  25%|████████▎                        | 2/8 [06:06<18:31, 185.20s/it]\n",
      "Chips Traversed:   0%|                                | 0/1246 [00:00<?, ?it/s]\u001b[A\n",
      "Chips Traversed:   3%|▋                      | 36/1246 [00:02<01:09, 17.45it/s]\u001b[A\n",
      "Chips Traversed:   6%|█▎                     | 71/1246 [00:06<01:47, 10.94it/s]\u001b[A\n",
      "Chips Traversed:   8%|█▊                     | 96/1246 [00:09<01:55,  9.94it/s]\u001b[A\n",
      "Chips Traversed:   9%|██                    | 118/1246 [00:11<01:59,  9.48it/s]\u001b[A\n",
      "Chips Traversed:  11%|██▍                   | 138/1246 [00:13<02:00,  9.20it/s]\u001b[A\n",
      "Chips Traversed:  13%|██▊                   | 157/1246 [00:16<02:00,  9.01it/s]\u001b[A\n",
      "Chips Traversed:  14%|███                   | 176/1246 [00:18<02:00,  8.88it/s]\u001b[A\n",
      "Chips Traversed:  16%|███▍                  | 194/1246 [00:22<02:26,  7.19it/s]\u001b[A\n",
      "Chips Traversed:  17%|███▋                  | 210/1246 [00:24<02:30,  6.88it/s]\u001b[A\n",
      "Chips Traversed:  18%|███▉                  | 225/1246 [00:27<02:31,  6.73it/s]\u001b[A\n",
      "Chips Traversed:  19%|████▏                 | 239/1246 [00:29<02:32,  6.60it/s]\u001b[A\n",
      "Chips Traversed:  20%|████▍                 | 253/1246 [00:31<02:33,  6.48it/s]\u001b[A\n",
      "Chips Traversed:  21%|████▋                 | 267/1246 [00:33<02:34,  6.34it/s]\u001b[A\n",
      "Chips Traversed:  22%|████▉                 | 280/1246 [00:35<02:32,  6.35it/s]\u001b[A\n",
      "Chips Traversed:  24%|█████▏                | 293/1246 [00:38<02:32,  6.23it/s]\u001b[A\n",
      "Chips Traversed:  25%|█████▍                | 306/1246 [00:40<02:38,  5.94it/s]\u001b[A\n",
      "Chips Traversed:  26%|█████▌                | 318/1246 [00:42<02:37,  5.89it/s]\u001b[A\n",
      "Chips Traversed:  26%|█████▊                | 330/1246 [00:44<02:39,  5.73it/s]\u001b[A\n",
      "Chips Traversed:  27%|██████                | 342/1246 [00:47<02:45,  5.45it/s]\u001b[A\n",
      "Chips Traversed:  28%|██████▎               | 354/1246 [00:49<02:44,  5.41it/s]\u001b[A\n",
      "Chips Traversed:  29%|██████▍               | 366/1246 [00:51<02:44,  5.35it/s]\u001b[A\n",
      "Chips Traversed:  30%|██████▋               | 377/1246 [00:53<02:41,  5.38it/s]\u001b[A\n",
      "Chips Traversed:  31%|██████▊               | 389/1246 [00:56<02:40,  5.33it/s]\u001b[A\n",
      "Chips Traversed:  32%|███████               | 400/1246 [00:58<02:41,  5.23it/s]\u001b[A\n",
      "Chips Traversed:  33%|███████▎              | 412/1246 [01:00<02:34,  5.40it/s]\u001b[A\n",
      "Chips Traversed:  34%|███████▍              | 424/1246 [01:02<02:29,  5.49it/s]\u001b[A\n",
      "Chips Traversed:  35%|███████▋              | 436/1246 [01:04<02:25,  5.57it/s]\u001b[A\n",
      "Chips Traversed:  36%|███████▉              | 448/1246 [01:06<02:24,  5.51it/s]\u001b[A\n",
      "Chips Traversed:  37%|████████              | 460/1246 [01:09<02:26,  5.36it/s]\u001b[A\n",
      "Chips Traversed:  38%|████████▎             | 471/1246 [01:11<02:29,  5.20it/s]\u001b[A\n",
      "Chips Traversed:  39%|████████▌             | 482/1246 [01:13<02:28,  5.15it/s]\u001b[A\n",
      "Chips Traversed:  40%|████████▋             | 493/1246 [01:15<02:28,  5.09it/s]\u001b[A\n",
      "Chips Traversed:  40%|████████▉             | 504/1246 [01:18<02:30,  4.94it/s]\u001b[A\n",
      "Chips Traversed:  41%|█████████             | 514/1246 [01:20<02:31,  4.84it/s]\u001b[A\n",
      "Chips Traversed:  42%|█████████▎            | 524/1246 [01:22<02:32,  4.73it/s]\u001b[A\n",
      "Chips Traversed:  43%|█████████▍            | 534/1246 [01:25<02:33,  4.64it/s]\u001b[A\n",
      "Chips Traversed:  44%|█████████▌            | 544/1246 [01:27<02:33,  4.58it/s]\u001b[A\n",
      "Chips Traversed:  44%|█████████▊            | 554/1246 [01:29<02:33,  4.52it/s]\u001b[A\n",
      "Chips Traversed:  45%|█████████▉            | 564/1246 [01:31<02:28,  4.59it/s]\u001b[A\n",
      "Chips Traversed:  46%|██████████▏           | 574/1246 [01:33<02:26,  4.60it/s]\u001b[A\n",
      "Chips Traversed:  47%|██████████▎           | 584/1246 [01:36<02:25,  4.54it/s]\u001b[A\n",
      "Chips Traversed:  48%|██████████▍           | 594/1246 [01:38<02:23,  4.54it/s]\u001b[A\n",
      "Chips Traversed:  48%|██████████▋           | 604/1246 [01:40<02:19,  4.61it/s]\u001b[A\n",
      "Chips Traversed:  49%|██████████▊           | 614/1246 [01:42<02:15,  4.68it/s]\u001b[A\n",
      "Chips Traversed:  50%|███████████           | 624/1246 [01:44<02:13,  4.66it/s]\u001b[A\n",
      "Chips Traversed:  51%|███████████▏          | 634/1246 [01:46<02:13,  4.60it/s]\u001b[A\n",
      "Chips Traversed:  52%|███████████▎          | 644/1246 [01:49<02:11,  4.57it/s]\u001b[A\n",
      "Chips Traversed:  52%|███████████▌          | 654/1246 [01:51<02:08,  4.62it/s]\u001b[A\n",
      "Chips Traversed:  53%|███████████▋          | 665/1246 [01:53<01:59,  4.84it/s]\u001b[A\n",
      "Chips Traversed:  54%|███████████▉          | 676/1246 [01:55<01:54,  4.99it/s]\u001b[A\n",
      "Chips Traversed:  55%|████████████▏         | 687/1246 [01:57<01:51,  5.03it/s]\u001b[A\n",
      "Chips Traversed:  56%|████████████▎         | 698/1246 [01:59<01:49,  5.01it/s]\u001b[A\n",
      "Chips Traversed:  57%|████████████▌         | 709/1246 [02:01<01:44,  5.12it/s]\u001b[A\n",
      "Chips Traversed:  58%|████████████▋         | 721/1246 [02:03<01:39,  5.29it/s]\u001b[A\n",
      "Chips Traversed:  59%|████████████▉         | 732/1246 [02:05<01:37,  5.28it/s]\u001b[A\n",
      "Chips Traversed:  60%|█████████████         | 743/1246 [02:08<01:36,  5.23it/s]\u001b[A\n",
      "Chips Traversed:  61%|█████████████▎        | 755/1246 [02:10<01:31,  5.37it/s]\u001b[A\n",
      "Chips Traversed:  61%|█████████████▌        | 766/1246 [02:12<01:29,  5.35it/s]\u001b[A\n",
      "Chips Traversed:  62%|█████████████▋        | 777/1246 [02:14<01:27,  5.34it/s]\u001b[A\n",
      "Chips Traversed:  63%|█████████████▉        | 788/1246 [02:16<01:25,  5.39it/s]\u001b[A\n",
      "Chips Traversed:  64%|██████████████        | 799/1246 [02:18<01:24,  5.27it/s]\u001b[A\n",
      "Chips Traversed:  65%|██████████████▎       | 810/1246 [02:20<01:23,  5.23it/s]\u001b[A\n",
      "Chips Traversed:  66%|██████████████▍       | 821/1246 [02:22<01:22,  5.16it/s]\u001b[A\n",
      "Chips Traversed:  67%|██████████████▋       | 832/1246 [02:24<01:20,  5.16it/s]\u001b[A\n",
      "Chips Traversed:  68%|██████████████▉       | 843/1246 [02:27<01:17,  5.17it/s]\u001b[A\n",
      "Chips Traversed:  69%|███████████████       | 854/1246 [02:29<01:15,  5.16it/s]\u001b[A\n",
      "Chips Traversed:  69%|███████████████▎      | 865/1246 [02:31<01:15,  5.04it/s]\u001b[A\n",
      "Chips Traversed:  70%|███████████████▍      | 876/1246 [02:33<01:11,  5.17it/s]\u001b[A\n",
      "Chips Traversed:  71%|███████████████▋      | 888/1246 [02:35<01:07,  5.27it/s]\u001b[A\n",
      "Chips Traversed:  72%|███████████████▊      | 899/1246 [02:37<01:05,  5.28it/s]\u001b[A\n",
      "Chips Traversed:  73%|████████████████      | 911/1246 [02:39<01:02,  5.35it/s]\u001b[A\n",
      "Chips Traversed:  74%|████████████████▎     | 923/1246 [02:41<00:58,  5.51it/s]\u001b[A\n",
      "Chips Traversed:  75%|████████████████▌     | 936/1246 [02:44<00:55,  5.62it/s]\u001b[A\n",
      "Chips Traversed:  76%|████████████████▊     | 949/1246 [02:46<00:51,  5.77it/s]\u001b[A\n",
      "Chips Traversed:  77%|████████████████▉     | 961/1246 [02:48<00:49,  5.73it/s]\u001b[A\n",
      "Chips Traversed:  78%|█████████████████▏    | 973/1246 [02:50<00:47,  5.71it/s]\u001b[A\n",
      "Chips Traversed:  79%|█████████████████▍    | 986/1246 [02:52<00:45,  5.71it/s]\u001b[A\n",
      "Chips Traversed:  80%|█████████████████▌    | 998/1246 [02:54<00:43,  5.69it/s]\u001b[A\n",
      "Chips Traversed:  81%|█████████████████    | 1011/1246 [02:57<00:41,  5.63it/s]\u001b[A\n",
      "Chips Traversed:  82%|█████████████████▎   | 1024/1246 [02:59<00:38,  5.75it/s]\u001b[A\n",
      "Chips Traversed:  83%|█████████████████▍   | 1036/1246 [03:01<00:36,  5.77it/s]\u001b[A\n",
      "Chips Traversed:  84%|█████████████████▋   | 1048/1246 [03:03<00:33,  5.83it/s]\u001b[A\n",
      "Chips Traversed:  85%|█████████████████▊   | 1060/1246 [03:05<00:31,  5.82it/s]\u001b[A\n",
      "Chips Traversed:  86%|██████████████████   | 1073/1246 [03:07<00:29,  5.93it/s]\u001b[A\n",
      "Chips Traversed:  87%|██████████████████▎  | 1086/1246 [03:09<00:26,  6.01it/s]\u001b[A\n",
      "Chips Traversed:  88%|██████████████████▌  | 1100/1246 [03:11<00:23,  6.27it/s]\u001b[A\n",
      "Chips Traversed:  90%|██████████████████▉  | 1124/1246 [03:13<00:15,  7.77it/s]\u001b[A\n",
      "Chips Traversed:  91%|███████████████████▏ | 1140/1246 [03:16<00:15,  7.01it/s]\u001b[A\n",
      "Chips Traversed:  93%|███████████████████▍ | 1155/1246 [03:19<00:13,  6.58it/s]\u001b[A\n",
      "Chips Traversed:  94%|███████████████████▋ | 1169/1246 [03:21<00:11,  6.43it/s]\u001b[A\n",
      "Chips Traversed:  95%|███████████████████▉ | 1183/1246 [03:24<00:10,  6.24it/s]\u001b[A\n",
      "Chips Traversed:  96%|████████████████████▏| 1196/1246 [03:26<00:08,  6.19it/s]\u001b[A\n",
      "Chips Traversed:  97%|████████████████████▍| 1209/1246 [03:28<00:06,  6.12it/s]\u001b[A\n",
      "Chips Traversed:  98%|████████████████████▌| 1222/1246 [03:30<00:03,  6.07it/s]\u001b[A\n",
      "Chips Traversed: 100%|█████████████████████| 1246/1246 [03:34<00:00,  5.80it/s]\u001b[A\n",
      "burst_id:  38%|████████████▍                    | 3/8 [09:49<16:52, 202.55s/it]\n",
      "Chips Traversed:   0%|                                | 0/1111 [00:00<?, ?it/s]\u001b[A\n",
      "Chips Traversed:   3%|▋                      | 36/1111 [00:02<01:01, 17.51it/s]\u001b[A\n",
      "Chips Traversed:   6%|█▍                     | 72/1111 [00:06<01:35, 10.88it/s]\u001b[A\n",
      "Chips Traversed:   9%|██                     | 97/1111 [00:09<01:42,  9.92it/s]\u001b[A\n",
      "Chips Traversed:  11%|██▎                   | 119/1111 [00:11<01:44,  9.45it/s]\u001b[A\n",
      "Chips Traversed:  13%|██▊                   | 139/1111 [00:14<01:45,  9.18it/s]\u001b[A\n",
      "Chips Traversed:  14%|███▏                  | 158/1111 [00:16<01:45,  9.00it/s]\u001b[A\n",
      "Chips Traversed:  16%|███▌                  | 177/1111 [00:18<01:46,  8.74it/s]\u001b[A\n",
      "Chips Traversed:  18%|███▊                  | 195/1111 [00:22<02:13,  6.85it/s]\u001b[A\n",
      "Chips Traversed:  19%|████▏                 | 210/1111 [00:25<02:18,  6.51it/s]\u001b[A\n",
      "Chips Traversed:  20%|████▍                 | 224/1111 [00:28<02:24,  6.12it/s]\u001b[A\n",
      "Chips Traversed:  21%|████▋                 | 238/1111 [00:30<02:19,  6.25it/s]\u001b[A\n",
      "Chips Traversed:  23%|████▉                 | 251/1111 [00:32<02:18,  6.23it/s]\u001b[A\n",
      "Chips Traversed:  24%|█████▏                | 265/1111 [00:34<02:16,  6.20it/s]\u001b[A\n",
      "Chips Traversed:  25%|█████▌                | 278/1111 [00:36<02:15,  6.15it/s]\u001b[A\n",
      "Chips Traversed:  26%|█████▊                | 291/1111 [00:38<02:12,  6.17it/s]\u001b[A\n",
      "Chips Traversed:  27%|██████                | 304/1111 [00:41<02:15,  5.94it/s]\u001b[A\n",
      "Chips Traversed:  28%|██████▎               | 316/1111 [00:43<02:18,  5.73it/s]\u001b[A\n",
      "Chips Traversed:  30%|██████▍               | 328/1111 [00:45<02:17,  5.70it/s]\u001b[A\n",
      "Chips Traversed:  31%|██████▋               | 340/1111 [00:47<02:20,  5.47it/s]\u001b[A\n",
      "Chips Traversed:  32%|██████▉               | 351/1111 [00:50<02:20,  5.42it/s]\u001b[A\n",
      "Chips Traversed:  33%|███████▏              | 362/1111 [00:52<02:26,  5.12it/s]\u001b[A\n",
      "Chips Traversed:  34%|███████▍              | 373/1111 [00:54<02:25,  5.07it/s]\u001b[A\n",
      "Chips Traversed:  35%|███████▌              | 384/1111 [00:56<02:23,  5.06it/s]\u001b[A\n",
      "Chips Traversed:  36%|███████▊              | 395/1111 [00:59<02:21,  5.05it/s]\u001b[A\n",
      "Chips Traversed:  37%|████████              | 406/1111 [01:01<02:20,  5.03it/s]\u001b[A\n",
      "Chips Traversed:  38%|████████▎             | 417/1111 [01:03<02:18,  5.03it/s]\u001b[A\n",
      "Chips Traversed:  39%|████████▍             | 428/1111 [01:05<02:18,  4.92it/s]\u001b[A\n",
      "Chips Traversed:  39%|████████▋             | 438/1111 [01:08<02:18,  4.84it/s]\u001b[A\n",
      "Chips Traversed:  40%|████████▊             | 448/1111 [01:10<02:18,  4.80it/s]\u001b[A\n",
      "Chips Traversed:  41%|█████████             | 458/1111 [01:12<02:18,  4.72it/s]\u001b[A\n",
      "Chips Traversed:  42%|█████████▎            | 468/1111 [01:14<02:19,  4.61it/s]\u001b[A\n",
      "Chips Traversed:  43%|█████████▍            | 478/1111 [01:17<02:22,  4.44it/s]\u001b[A\n",
      "Chips Traversed:  44%|█████████▋            | 487/1111 [01:19<02:21,  4.40it/s]\u001b[A\n",
      "Chips Traversed:  45%|█████████▊            | 496/1111 [01:21<02:20,  4.37it/s]\u001b[A\n",
      "Chips Traversed:  45%|██████████            | 505/1111 [01:23<02:19,  4.33it/s]\u001b[A\n",
      "Chips Traversed:  46%|██████████▏           | 514/1111 [01:25<02:18,  4.30it/s]\u001b[A\n",
      "Chips Traversed:  47%|██████████▎           | 523/1111 [01:27<02:17,  4.28it/s]\u001b[A\n",
      "Chips Traversed:  48%|██████████▌           | 532/1111 [01:29<02:18,  4.19it/s]\u001b[A\n",
      "Chips Traversed:  49%|██████████▋           | 541/1111 [01:31<02:14,  4.23it/s]\u001b[A\n",
      "Chips Traversed:  50%|██████████▉           | 550/1111 [01:34<02:12,  4.25it/s]\u001b[A\n",
      "Chips Traversed:  50%|███████████           | 559/1111 [01:36<02:10,  4.25it/s]\u001b[A\n",
      "Chips Traversed:  51%|███████████▏          | 568/1111 [01:38<02:07,  4.24it/s]\u001b[A\n",
      "Chips Traversed:  52%|███████████▍          | 577/1111 [01:40<02:04,  4.28it/s]\u001b[A\n",
      "Chips Traversed:  53%|███████████▌          | 586/1111 [01:42<02:02,  4.28it/s]\u001b[A\n",
      "Chips Traversed:  54%|███████████▊          | 595/1111 [01:44<02:02,  4.20it/s]\u001b[A\n",
      "Chips Traversed:  54%|███████████▉          | 604/1111 [01:46<01:59,  4.24it/s]\u001b[A\n",
      "Chips Traversed:  55%|████████████▏         | 613/1111 [01:48<01:56,  4.26it/s]\u001b[A\n",
      "Chips Traversed:  56%|████████████▎         | 622/1111 [01:51<01:54,  4.26it/s]\u001b[A\n",
      "Chips Traversed:  57%|████████████▍         | 631/1111 [01:53<01:51,  4.30it/s]\u001b[A\n",
      "Chips Traversed:  58%|████████████▋         | 640/1111 [01:55<01:48,  4.32it/s]\u001b[A\n",
      "Chips Traversed:  58%|████████████▊         | 649/1111 [01:57<01:47,  4.28it/s]\u001b[A\n",
      "Chips Traversed:  59%|█████████████         | 659/1111 [01:59<01:43,  4.38it/s]\u001b[A\n",
      "Chips Traversed:  60%|█████████████▏        | 668/1111 [02:01<01:40,  4.39it/s]\u001b[A\n",
      "Chips Traversed:  61%|█████████████▍        | 678/1111 [02:03<01:37,  4.43it/s]\u001b[A\n",
      "Chips Traversed:  62%|█████████████▌        | 688/1111 [02:05<01:34,  4.47it/s]\u001b[A\n",
      "Chips Traversed:  63%|█████████████▊        | 699/1111 [02:07<01:26,  4.74it/s]\u001b[A\n",
      "Chips Traversed:  64%|██████████████        | 710/1111 [02:10<01:22,  4.84it/s]\u001b[A\n",
      "Chips Traversed:  65%|██████████████▎       | 721/1111 [02:12<01:19,  4.92it/s]\u001b[A\n",
      "Chips Traversed:  66%|██████████████▍       | 732/1111 [02:14<01:14,  5.08it/s]\u001b[A\n",
      "Chips Traversed:  67%|██████████████▋       | 743/1111 [02:16<01:11,  5.17it/s]\u001b[A\n",
      "Chips Traversed:  68%|██████████████▉       | 755/1111 [02:18<01:07,  5.31it/s]\u001b[A\n",
      "Chips Traversed:  69%|███████████████▏      | 767/1111 [02:20<01:02,  5.47it/s]\u001b[A\n",
      "Chips Traversed:  70%|███████████████▍      | 779/1111 [02:22<00:59,  5.56it/s]\u001b[A\n",
      "Chips Traversed:  71%|███████████████▋      | 792/1111 [02:24<00:55,  5.74it/s]\u001b[A\n",
      "Chips Traversed:  72%|███████████████▉      | 804/1111 [02:26<00:54,  5.67it/s]\u001b[A\n",
      "Chips Traversed:  73%|████████████████▏     | 816/1111 [02:28<00:51,  5.71it/s]\u001b[A\n",
      "Chips Traversed:  75%|████████████████▍     | 828/1111 [02:31<00:49,  5.68it/s]\u001b[A\n",
      "Chips Traversed:  76%|████████████████▋     | 840/1111 [02:33<00:47,  5.67it/s]\u001b[A\n",
      "Chips Traversed:  77%|████████████████▉     | 853/1111 [02:35<00:45,  5.70it/s]\u001b[A\n",
      "Chips Traversed:  78%|█████████████████▏    | 865/1111 [02:37<00:43,  5.71it/s]\u001b[A\n",
      "Chips Traversed:  79%|█████████████████▎    | 877/1111 [02:39<00:41,  5.68it/s]\u001b[A\n",
      "Chips Traversed:  80%|█████████████████▌    | 889/1111 [02:41<00:39,  5.68it/s]\u001b[A\n",
      "Chips Traversed:  81%|█████████████████▊    | 902/1111 [02:43<00:35,  5.81it/s]\u001b[A\n",
      "Chips Traversed:  82%|██████████████████    | 915/1111 [02:45<00:32,  6.01it/s]\u001b[A\n",
      "Chips Traversed:  84%|██████████████████▍   | 928/1111 [02:48<00:31,  5.85it/s]\u001b[A\n",
      "Chips Traversed:  85%|██████████████████▋   | 943/1111 [02:50<00:27,  6.19it/s]\u001b[A\n",
      "Chips Traversed:  86%|██████████████████▉   | 958/1111 [02:52<00:23,  6.51it/s]\u001b[A\n",
      "Chips Traversed:  88%|███████████████████▍  | 982/1111 [02:54<00:16,  7.95it/s]\u001b[A\n",
      "Chips Traversed:  90%|███████████████████▊  | 998/1111 [02:56<00:14,  7.72it/s]\u001b[A\n",
      "Chips Traversed:  91%|███████████████████▏ | 1014/1111 [02:59<00:13,  7.27it/s]\u001b[A\n",
      "Chips Traversed:  93%|███████████████████▍ | 1029/1111 [03:01<00:11,  6.99it/s]\u001b[A\n",
      "Chips Traversed:  94%|███████████████████▋ | 1044/1111 [03:04<00:09,  6.71it/s]\u001b[A\n",
      "Chips Traversed:  95%|███████████████████▉ | 1058/1111 [03:06<00:08,  6.58it/s]\u001b[A\n",
      "Chips Traversed:  96%|████████████████████▎| 1072/1111 [03:08<00:06,  6.48it/s]\u001b[A\n",
      "Chips Traversed:  98%|████████████████████▌| 1085/1111 [03:10<00:04,  6.47it/s]\u001b[A\n",
      "Chips Traversed:  99%|████████████████████▊| 1098/1111 [03:12<00:02,  6.40it/s]\u001b[A\n",
      "Chips Traversed: 100%|█████████████████████| 1111/1111 [03:14<00:00,  5.70it/s]\u001b[A\n",
      "burst_id:  50%|████████████████▌                | 4/8 [13:12<13:30, 202.63s/it]\n",
      "Chips Traversed:   0%|                                | 0/1245 [00:00<?, ?it/s]\u001b[A\n",
      "Chips Traversed:   3%|▋                      | 36/1245 [00:02<01:08, 17.64it/s]\u001b[A\n",
      "Chips Traversed:   6%|█▎                     | 72/1245 [00:06<01:47, 10.92it/s]\u001b[A\n",
      "Chips Traversed:   8%|█▊                     | 97/1245 [00:09<01:55,  9.92it/s]\u001b[A\n",
      "Chips Traversed:  10%|██                    | 119/1245 [00:11<01:58,  9.47it/s]\u001b[A\n",
      "Chips Traversed:  11%|██▍                   | 139/1245 [00:14<02:00,  9.20it/s]\u001b[A\n",
      "Chips Traversed:  13%|██▊                   | 158/1245 [00:16<02:00,  9.01it/s]\u001b[A\n",
      "Chips Traversed:  14%|███▏                  | 177/1245 [00:18<02:00,  8.84it/s]\u001b[A\n",
      "Chips Traversed:  16%|███▍                  | 195/1245 [00:22<02:29,  7.04it/s]\u001b[A\n",
      "Chips Traversed:  17%|███▋                  | 211/1245 [00:24<02:32,  6.79it/s]\u001b[A\n",
      "Chips Traversed:  18%|███▉                  | 226/1245 [00:27<02:34,  6.58it/s]\u001b[A\n",
      "Chips Traversed:  19%|████▏                 | 240/1245 [00:29<02:30,  6.66it/s]\u001b[A\n",
      "Chips Traversed:  20%|████▍                 | 254/1245 [00:31<02:35,  6.35it/s]\u001b[A\n",
      "Chips Traversed:  21%|████▋                 | 267/1245 [00:34<02:36,  6.26it/s]\u001b[A\n",
      "Chips Traversed:  22%|████▉                 | 280/1245 [00:36<02:36,  6.16it/s]\u001b[A\n",
      "Chips Traversed:  24%|█████▏                | 293/1245 [00:38<02:35,  6.11it/s]\u001b[A\n",
      "Chips Traversed:  25%|█████▍                | 306/1245 [00:40<02:38,  5.91it/s]\u001b[A\n",
      "Chips Traversed:  26%|█████▋                | 319/1245 [00:42<02:34,  5.99it/s]\u001b[A\n",
      "Chips Traversed:  27%|█████▊                | 332/1245 [00:45<02:30,  6.07it/s]\u001b[A\n",
      "Chips Traversed:  28%|██████                | 345/1245 [00:47<02:25,  6.17it/s]\u001b[A\n",
      "Chips Traversed:  29%|██████▎               | 358/1245 [00:49<02:25,  6.08it/s]\u001b[A\n",
      "Chips Traversed:  30%|██████▌               | 371/1245 [00:51<02:25,  6.02it/s]\u001b[A\n",
      "Chips Traversed:  31%|██████▊               | 384/1245 [00:53<02:25,  5.92it/s]\u001b[A\n",
      "Chips Traversed:  32%|██████▉               | 396/1245 [00:55<02:26,  5.81it/s]\u001b[A\n",
      "Chips Traversed:  33%|███████▏              | 408/1245 [00:58<02:25,  5.75it/s]\u001b[A\n",
      "Chips Traversed:  34%|███████▍              | 420/1245 [01:00<02:24,  5.70it/s]\u001b[A\n",
      "Chips Traversed:  35%|███████▋              | 432/1245 [01:02<02:27,  5.49it/s]\u001b[A\n",
      "Chips Traversed:  36%|███████▊              | 444/1245 [01:05<02:33,  5.22it/s]\u001b[A\n",
      "Chips Traversed:  37%|████████              | 455/1245 [01:07<02:35,  5.09it/s]\u001b[A\n",
      "Chips Traversed:  37%|████████▏             | 466/1245 [01:09<02:37,  4.93it/s]\u001b[A\n",
      "Chips Traversed:  38%|████████▍             | 476/1245 [01:11<02:36,  4.92it/s]\u001b[A\n",
      "Chips Traversed:  39%|████████▌             | 487/1245 [01:14<02:32,  4.96it/s]\u001b[A\n",
      "Chips Traversed:  40%|████████▊             | 497/1245 [01:16<02:34,  4.86it/s]\u001b[A\n",
      "Chips Traversed:  41%|████████▉             | 507/1245 [01:18<02:33,  4.81it/s]\u001b[A\n",
      "Chips Traversed:  42%|█████████▏            | 517/1245 [01:20<02:34,  4.73it/s]\u001b[A\n",
      "Chips Traversed:  42%|█████████▎            | 527/1245 [01:22<02:33,  4.68it/s]\u001b[A\n",
      "Chips Traversed:  43%|█████████▍            | 537/1245 [01:24<02:30,  4.72it/s]\u001b[A\n",
      "Chips Traversed:  44%|█████████▋            | 547/1245 [01:26<02:27,  4.72it/s]\u001b[A\n",
      "Chips Traversed:  45%|█████████▊            | 557/1245 [01:29<02:24,  4.77it/s]\u001b[A\n",
      "Chips Traversed:  46%|██████████            | 568/1245 [01:31<02:19,  4.85it/s]\u001b[A\n",
      "Chips Traversed:  47%|██████████▏           | 579/1245 [01:33<02:16,  4.89it/s]\u001b[A\n",
      "Chips Traversed:  47%|██████████▍           | 590/1245 [01:35<02:11,  4.99it/s]\u001b[A\n",
      "Chips Traversed:  48%|██████████▌           | 600/1245 [01:37<02:13,  4.82it/s]\u001b[A\n",
      "Chips Traversed:  49%|██████████▊           | 611/1245 [01:39<02:10,  4.87it/s]\u001b[A\n",
      "Chips Traversed:  50%|██████████▉           | 622/1245 [01:42<02:05,  4.98it/s]\u001b[A\n",
      "Chips Traversed:  51%|███████████▏          | 633/1245 [01:44<02:02,  5.01it/s]\u001b[A\n",
      "Chips Traversed:  52%|███████████▍          | 644/1245 [01:46<02:00,  4.99it/s]\u001b[A\n",
      "Chips Traversed:  53%|███████████▌          | 654/1245 [01:48<01:58,  4.97it/s]\u001b[A\n",
      "Chips Traversed:  53%|███████████▋          | 664/1245 [01:50<01:58,  4.92it/s]\u001b[A\n",
      "Chips Traversed:  54%|███████████▉          | 674/1245 [01:52<01:59,  4.78it/s]\u001b[A\n",
      "Chips Traversed:  55%|████████████          | 684/1245 [01:55<02:00,  4.67it/s]\u001b[A\n",
      "Chips Traversed:  56%|████████████▎         | 694/1245 [01:57<01:57,  4.70it/s]\u001b[A\n",
      "Chips Traversed:  57%|████████████▍         | 704/1245 [01:59<01:55,  4.69it/s]\u001b[A\n",
      "Chips Traversed:  57%|████████████▌         | 714/1245 [02:01<01:55,  4.61it/s]\u001b[A\n",
      "Chips Traversed:  58%|████████████▊         | 724/1245 [02:03<01:52,  4.63it/s]\u001b[A\n",
      "Chips Traversed:  59%|████████████▉         | 734/1245 [02:05<01:48,  4.70it/s]\u001b[A\n",
      "Chips Traversed:  60%|█████████████▏        | 744/1245 [02:07<01:44,  4.78it/s]\u001b[A\n",
      "Chips Traversed:  61%|█████████████▎        | 754/1245 [02:09<01:42,  4.80it/s]\u001b[A\n",
      "Chips Traversed:  61%|█████████████▌        | 765/1245 [02:11<01:36,  4.96it/s]\u001b[A\n",
      "Chips Traversed:  62%|█████████████▋        | 776/1245 [02:14<01:34,  4.98it/s]\u001b[A\n",
      "Chips Traversed:  63%|█████████████▉        | 787/1245 [02:16<01:30,  5.05it/s]\u001b[A\n",
      "Chips Traversed:  64%|██████████████        | 798/1245 [02:18<01:28,  5.07it/s]\u001b[A\n",
      "Chips Traversed:  65%|██████████████▎       | 809/1245 [02:20<01:27,  4.97it/s]\u001b[A\n",
      "Chips Traversed:  66%|██████████████▍       | 819/1245 [02:22<01:26,  4.94it/s]\u001b[A\n",
      "Chips Traversed:  67%|██████████████▋       | 831/1245 [02:24<01:20,  5.14it/s]\u001b[A\n",
      "Chips Traversed:  68%|██████████████▉       | 843/1245 [02:27<01:17,  5.17it/s]\u001b[A\n",
      "Chips Traversed:  69%|███████████████       | 855/1245 [02:29<01:14,  5.27it/s]\u001b[A\n",
      "Chips Traversed:  70%|███████████████▎      | 868/1245 [02:31<01:10,  5.38it/s]\u001b[A\n",
      "Chips Traversed:  71%|███████████████▌      | 879/1245 [02:33<01:07,  5.39it/s]\u001b[A\n",
      "Chips Traversed:  71%|███████████████▋      | 890/1245 [02:35<01:07,  5.26it/s]\u001b[A\n",
      "Chips Traversed:  72%|███████████████▉      | 901/1245 [02:38<01:06,  5.18it/s]\u001b[A\n",
      "Chips Traversed:  73%|████████████████▏     | 913/1245 [02:40<01:04,  5.15it/s]\u001b[A\n",
      "Chips Traversed:  74%|████████████████▎     | 924/1245 [02:42<01:01,  5.23it/s]\u001b[A\n",
      "Chips Traversed:  75%|████████████████▌     | 936/1245 [02:44<00:57,  5.33it/s]\u001b[A\n",
      "Chips Traversed:  76%|████████████████▊     | 949/1245 [02:46<00:52,  5.62it/s]\u001b[A\n",
      "Chips Traversed:  77%|████████████████▉     | 961/1245 [02:48<00:50,  5.67it/s]\u001b[A\n",
      "Chips Traversed:  78%|█████████████████▏    | 973/1245 [02:50<00:47,  5.73it/s]\u001b[A\n",
      "Chips Traversed:  79%|█████████████████▍    | 986/1245 [02:53<00:45,  5.70it/s]\u001b[A\n",
      "Chips Traversed:  80%|█████████████████▋    | 998/1245 [02:55<00:44,  5.56it/s]\u001b[A\n",
      "Chips Traversed:  81%|█████████████████    | 1010/1245 [02:57<00:41,  5.65it/s]\u001b[A\n",
      "Chips Traversed:  82%|█████████████████▏   | 1022/1245 [02:59<00:40,  5.57it/s]\u001b[A\n",
      "Chips Traversed:  83%|█████████████████▍   | 1034/1245 [03:01<00:38,  5.50it/s]\u001b[A\n",
      "Chips Traversed:  84%|█████████████████▋   | 1046/1245 [03:04<00:36,  5.53it/s]\u001b[A\n",
      "Chips Traversed:  85%|█████████████████▊   | 1058/1245 [03:06<00:33,  5.55it/s]\u001b[A\n",
      "Chips Traversed:  86%|██████████████████   | 1071/1245 [03:08<00:30,  5.64it/s]\u001b[A\n",
      "Chips Traversed:  87%|██████████████████▎  | 1083/1245 [03:10<00:28,  5.70it/s]\u001b[A\n",
      "Chips Traversed:  88%|██████████████████▌  | 1098/1245 [03:12<00:23,  6.15it/s]\u001b[A\n",
      "Chips Traversed:  90%|██████████████████▉  | 1120/1245 [03:14<00:16,  7.52it/s]\u001b[A\n",
      "Chips Traversed:  91%|███████████████████▏ | 1136/1245 [03:17<00:16,  6.75it/s]\u001b[A\n",
      "Chips Traversed:  92%|███████████████████▍ | 1150/1245 [03:20<00:15,  6.24it/s]\u001b[A\n",
      "Chips Traversed:  93%|███████████████████▌ | 1163/1245 [03:22<00:13,  6.00it/s]\u001b[A\n",
      "Chips Traversed:  94%|███████████████████▊ | 1176/1245 [03:25<00:11,  5.76it/s]\u001b[A\n",
      "Chips Traversed:  95%|████████████████████ | 1188/1245 [03:27<00:10,  5.65it/s]\u001b[A\n",
      "Chips Traversed:  96%|████████████████████▏| 1200/1245 [03:29<00:08,  5.55it/s]\u001b[A\n",
      "Chips Traversed:  97%|████████████████████▍| 1212/1245 [03:31<00:06,  5.50it/s]\u001b[A\n",
      "Chips Traversed:  98%|████████████████████▋| 1224/1245 [03:34<00:03,  5.42it/s]\u001b[A\n",
      "Chips Traversed: 100%|█████████████████████| 1245/1245 [03:37<00:00,  5.71it/s]\u001b[A\n",
      "burst_id:  62%|████████████████████▋            | 5/8 [16:59<10:34, 211.48s/it]\n",
      "Chips Traversed:   0%|                                | 0/1109 [00:00<?, ?it/s]\u001b[A\n",
      "Chips Traversed:   3%|▋                      | 36/1109 [00:02<01:00, 17.61it/s]\u001b[A\n",
      "Chips Traversed:   6%|█▍                     | 72/1109 [00:06<01:35, 10.90it/s]\u001b[A"
     ]
    }
   ],
   "source": [
    "metric_paths = list(map(compute_metric_and_serialize, tqdm(burst_ids_unique, desc='burst_id')))"
   ]
  },
  {
   "cell_type": "markdown",
   "id": "804c8c59-efb3-43fe-af18-656cc2cdcd98",
   "metadata": {},
   "source": [
    "### Merge and Serialize"
   ]
  },
  {
   "cell_type": "code",
   "execution_count": null,
   "id": "4c11375d-8ab3-45ba-b5b3-2b6e3aa65c3d",
   "metadata": {},
   "outputs": [],
   "source": [
    "metric_crs_dir = rtc_ts_dir.parents[1] / 'metrics_crs' / f'track{TRACK_NUMBER}'\n",
    "metric_crs_dir.mkdir(exist_ok=True, parents=True)"
   ]
  },
  {
   "cell_type": "markdown",
   "id": "dcf2ccd6-eef8-4b6b-aa55-9e9ed554fc73",
   "metadata": {},
   "source": [
    "### Most frequent CRS"
   ]
  },
  {
   "cell_type": "code",
   "execution_count": null,
   "id": "c0f3667e-0d0c-459d-8c32-36b2ecb333d6",
   "metadata": {},
   "outputs": [],
   "source": [
    "def get_crs(path: Path) -> CRS:\n",
    "    with rasterio.open(path) as ds:\n",
    "        crs = ds.crs\n",
    "    return crs"
   ]
  },
  {
   "cell_type": "code",
   "execution_count": null,
   "id": "23205f70-5640-46d4-805e-4a142d23910e",
   "metadata": {},
   "outputs": [],
   "source": [
    "crs_l = list(map(get_crs, metric_paths))\n",
    "def most_common(lst):\n",
    "    return max(set(lst), key=lst.count)\n",
    "\n",
    "crs_ref = most_common(crs_l)\n",
    "crs_ref"
   ]
  },
  {
   "cell_type": "code",
   "execution_count": null,
   "id": "94e2ec78-72d5-430f-b6e8-762cf1dd6e28",
   "metadata": {},
   "outputs": [],
   "source": [
    "def reproject_to_shared_crs_and_serialize(path: Path, ref_crs: CRS):\n",
    "    with rasterio.open(path) as ds:\n",
    "        X = ds.read(1)\n",
    "        p = ds.profile\n",
    "\n",
    "    out_path = metric_crs_dir / path.name\n",
    "    \n",
    "    if p['crs'] == ref_crs:\n",
    "        shutil.copy(path, out_path)\n",
    "        return out_path\n",
    "    else:\n",
    "        p_crs = reproject_profile_to_new_crs(p_src, ref_crs)\n",
    "        X_r, p_r = reproject_arr_to_match_profile(X, p, p_crs)\n",
    "        with rasterio.open(out_path, 'w', **p_r) as ds:\n",
    "            ds.write(X_r)\n",
    "    return out_path"
   ]
  },
  {
   "cell_type": "code",
   "execution_count": null,
   "id": "cf7cfc86-f935-4313-95b7-d6e6021258eb",
   "metadata": {},
   "outputs": [],
   "source": [
    "reproject_to_shared_crs_and_serialize_p = lambda path: reproject_to_shared_crs_and_serialize(path, crs_ref)\n",
    "metric_paths_crs = list(map(reproject_to_shared_crs_and_serialize_p, tqdm(metric_paths)))\n",
    "metric_paths_crs[:3]"
   ]
  },
  {
   "cell_type": "code",
   "execution_count": null,
   "id": "b4f40b74-d842-4887-b718-30514c7dd50d",
   "metadata": {},
   "outputs": [],
   "source": [
    "from rasterio.merge import merge"
   ]
  },
  {
   "cell_type": "code",
   "execution_count": null,
   "id": "7cf812dd-221a-402c-89eb-8efe529b0d5d",
   "metadata": {},
   "outputs": [],
   "source": [
    "X_m, t_m = merge(metric_paths, method='first')"
   ]
  },
  {
   "cell_type": "code",
   "execution_count": null,
   "id": "624fb9d7-ba80-438b-a858-97748784af9b",
   "metadata": {},
   "outputs": [],
   "source": [
    "with rasterio.open(metric_paths[0]) as ds:\n",
    "    p_met = ds.profile\n",
    "\n",
    "p_met['transform'] = t_m\n",
    "p_met['height'], p_met['width'] = X_m.shape[-2:]\n",
    "tokens = metric_paths[0].stem.split('_')"
   ]
  },
  {
   "cell_type": "code",
   "execution_count": null,
   "id": "8754cf9f-7e01-46b6-8442-b6744c92c56d",
   "metadata": {},
   "outputs": [],
   "source": [
    "track_num_token = tokens[1].split(\"-\")[0]\n",
    "date_token = tokens[2]\n",
    "with rasterio.open(metric_crs_dir / f'__merged_{track_num_token}_{tokens[2]}.tif', 'w', **p_met) as ds:\n",
    "    ds.write(X_m)"
   ]
  },
  {
   "cell_type": "markdown",
   "id": "93c3ddb7-f85e-4153-abc3-42f479e35b79",
   "metadata": {},
   "source": [
    "# Water Mask (TODO)"
   ]
  },
  {
   "cell_type": "code",
   "execution_count": null,
   "id": "271d2112-1a10-4796-a556-543a73c990f7",
   "metadata": {},
   "outputs": [],
   "source": []
  },
  {
   "cell_type": "markdown",
   "id": "5bdca720-411f-49bc-ad5f-1a36d9a2e297",
   "metadata": {},
   "source": [
    "# Generate Disturbance Map"
   ]
  },
  {
   "cell_type": "code",
   "execution_count": null,
   "id": "4c38559e-c90a-4292-8a3a-9df0488a688d",
   "metadata": {},
   "outputs": [],
   "source": [
    "dist_dir = rtc_ts_dir.parents[1] / 'dist_map' #/ f'track{TRACK_NUMBER}'\n",
    "dist_dir.mkdir(exist_ok=True, parents=True)\n",
    "dist_dir"
   ]
  },
  {
   "cell_type": "code",
   "execution_count": null,
   "id": "2e0dfbeb-d8e8-410d-a152-1dc5fc3c7776",
   "metadata": {},
   "outputs": [],
   "source": [
    "X_d = np.zeros(X_m.shape[-2:], dtype=np.uint8)"
   ]
  },
  {
   "cell_type": "code",
   "execution_count": null,
   "id": "8f98fb3c-7ecb-4e35-aefc-d07bfa45a03d",
   "metadata": {},
   "outputs": [],
   "source": [
    "spatial_mask = np.isnan(X_m[0, ...])\n",
    "X_d[spatial_mask] = 255\n",
    "\n",
    "# order will matter here\n",
    "aggressive_range = (X_m[0, ...] >=2.5)\n",
    "X_d[aggressive_range] = 1\n",
    "conservative_range = (X_m[0, ...] >=4.5)\n",
    "X_d[conservative_range] = 2"
   ]
  },
  {
   "cell_type": "markdown",
   "id": "25b17074-5b13-4414-b81d-cad4f8cb4319",
   "metadata": {},
   "source": [
    "## Nice Colormap"
   ]
  },
  {
   "cell_type": "code",
   "execution_count": null,
   "id": "dc89d285-456e-4b24-878a-21efd3a3556a",
   "metadata": {},
   "outputs": [],
   "source": [
    "colormap = {\n",
    "    0: (255, 255, 255, 255),  # white, fully opaque\n",
    "    1: (255, 204, 204, 255),  # light red, fully opaque\n",
    "    2: (255, 0, 0, 255),      # red, fully opaque\n",
    "    255: (0, 0, 0, 0)         # transparent for nodata\n",
    "}"
   ]
  },
  {
   "cell_type": "code",
   "execution_count": null,
   "id": "dddbb989-f26a-40a5-a5e3-ec13f37ca946",
   "metadata": {},
   "outputs": [],
   "source": [
    "tokens = metric_paths[0].stem.split('_')\n",
    "tokens"
   ]
  },
  {
   "cell_type": "code",
   "execution_count": null,
   "id": "8e37370a-8d95-4a34-ad90-76bddb16fff2",
   "metadata": {},
   "outputs": [],
   "source": [
    "date_token = tokens[-1]"
   ]
  },
  {
   "cell_type": "code",
   "execution_count": null,
   "id": "c78ae5e5-03e0-405f-8fd3-bf5e956b396c",
   "metadata": {},
   "outputs": [],
   "source": [
    "p_dist = p_met.copy()\n",
    "p_dist['dtype'] = 'uint8'\n",
    "p_dist['nodata'] = 255\n",
    "\n",
    "out_dist_path = dist_dir / f'disturbance_track{TRACK_NUMBER}_{date_token}.tif'\n",
    "with rasterio.open(out_dist_path, 'w', **p_dist) as ds:\n",
    "    ds.write(X_d, 1)\n",
    "    ds.write_colormap(1, colormap)"
   ]
  },
  {
   "cell_type": "code",
   "execution_count": null,
   "id": "9fb6d6e8-c252-470f-b960-fa0b74ac3a51",
   "metadata": {},
   "outputs": [],
   "source": [
    "cmap = ListedColormap([np.array(colormap.get(key, (255, 255, 255, 255))) / 255 for key in range(256)])"
   ]
  },
  {
   "cell_type": "code",
   "execution_count": null,
   "id": "0b2680f8-6579-4c91-873a-a4efb61e7b09",
   "metadata": {},
   "outputs": [],
   "source": [
    "plt.imshow(X_d, cmap=cmap, interpolation='none')"
   ]
  },
  {
   "cell_type": "markdown",
   "id": "08217589-d664-4ce8-9596-7d90281035da",
   "metadata": {},
   "source": [
    "# TODOS (other notebook)\n",
    "\n",
    "1. MGRS should be an input and we reproject to that frame\n",
    "2. Confirmation."
   ]
  }
 ],
 "metadata": {
  "kernelspec": {
   "display_name": "dist-s1",
   "language": "python",
   "name": "dist-s1"
  },
  "language_info": {
   "codemirror_mode": {
    "name": "ipython",
    "version": 3
   },
   "file_extension": ".py",
   "mimetype": "text/x-python",
   "name": "python",
   "nbconvert_exporter": "python",
   "pygments_lexer": "ipython3",
   "version": "3.12.4"
  }
 },
 "nbformat": 4,
 "nbformat_minor": 5
}
