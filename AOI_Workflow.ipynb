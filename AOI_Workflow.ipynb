{
 "cells": [
  {
   "cell_type": "code",
   "execution_count": 1,
   "id": "9adf9014-e171-454d-9ef2-000b63f59499",
   "metadata": {},
   "outputs": [],
   "source": [
    "%load_ext autoreload\n",
    "%autoreload 2"
   ]
  },
  {
   "cell_type": "code",
   "execution_count": 2,
   "id": "406906be-3c21-4204-b1c5-29996b8a6da2",
   "metadata": {},
   "outputs": [],
   "source": [
    "import geopandas as gpd\n",
    "import rasterio\n",
    "from distmetrics import compute_transformer_zscore, load_trained_transformer_model\n",
    "import asf_search as asf\n",
    "from rasterio.crs import CRS\n",
    "from shapely.geometry import Point\n",
    "from datetime import datetime, timedelta\n",
    "import pandas as pd\n",
    "import matplotlib.pyplot as plt\n",
    "from tqdm import tqdm\n",
    "import requests\n",
    "import numpy as np\n",
    "from requests.exceptions import HTTPError\n",
    "import backoff\n",
    "from rasterio.errors import RasterioIOError\n",
    "from pathlib import Path\n",
    "from dem_stitcher.rio_tools import reproject_profile_to_new_crs, reproject_arr_to_match_profile\n",
    "import shutil\n",
    "from matplotlib.colors import ListedColormap\n",
    "import shapely"
   ]
  },
  {
   "cell_type": "markdown",
   "id": "70778098-0c58-415c-af84-99b17f4d85b6",
   "metadata": {},
   "source": [
    "# Parameters"
   ]
  },
  {
   "cell_type": "code",
   "execution_count": 3,
   "id": "1734723c-ff93-4086-8777-46c7d9c9cd25",
   "metadata": {},
   "outputs": [],
   "source": [
    "PRE_IMAGE_WINDOW_DAYS = 180\n",
    "POST_IMAGE_WINDOW_DAYS = 30\n",
    "EVENT_DATE = '2024-09-26'\n",
    "\n",
    "AOI_NAME = 'Helene_Sparta'"
   ]
  },
  {
   "cell_type": "code",
   "execution_count": 4,
   "id": "d727c4ac-3078-4268-abe3-ceaf1b260903",
   "metadata": {},
   "outputs": [],
   "source": [
    "# # NC Landslide\n",
    "# aoi = Point(-81, 36.4).buffer(1)\n",
    "\n",
    "# Later helene\n",
    "wkt_str = 'POLYGON((-82.5825 35.5931,-82.5943 35.5614,-82.5232 35.3891,-82.4471 35.3559,-82.3489 35.3642,-82.2559 35.4346,-82.2136 35.549,-82.1306 35.6357,-82.0392 35.6853,-81.98 35.7306,-81.9665 35.8076,-81.9496 35.8721,-82.0697 35.8995,-82.1932 35.9036,-82.2694 35.9063,-82.3439 35.8967,-82.3828 35.8309,-82.4809 35.7512,-82.5402 35.6467,-82.5825 35.5931))'\n",
    "aoi = shapely.from_wkt(wkt_str)"
   ]
  },
  {
   "cell_type": "markdown",
   "id": "a560d117-ad39-457a-a82e-f27aa7c5ddf3",
   "metadata": {},
   "source": [
    "# Datetimes"
   ]
  },
  {
   "cell_type": "code",
   "execution_count": 5,
   "id": "5f5b5d97-03f9-4328-8ff1-53c25e722b38",
   "metadata": {},
   "outputs": [
    {
     "data": {
      "text/plain": [
       "datetime.datetime(2024, 9, 26, 0, 0)"
      ]
     },
     "execution_count": 5,
     "metadata": {},
     "output_type": "execute_result"
    }
   ],
   "source": [
    "event_date = datetime.strptime(EVENT_DATE, '%Y-%m-%d')\n",
    "event_date"
   ]
  },
  {
   "cell_type": "markdown",
   "id": "0eb5fe4d-c88b-4f22-a014-59d0c3741ea9",
   "metadata": {},
   "source": [
    "# Directory"
   ]
  },
  {
   "cell_type": "code",
   "execution_count": 6,
   "id": "0176a346-faae-470a-8064-eba7327f3cec",
   "metadata": {},
   "outputs": [],
   "source": [
    "out_dir = Path(f'out/{AOI_NAME}')\n",
    "out_dir.mkdir(exist_ok=True, parents=True)"
   ]
  },
  {
   "cell_type": "markdown",
   "id": "e9eda9ec-4e8a-4063-bf3a-4cbbb178042d",
   "metadata": {},
   "source": [
    "# AOI and Search - Interactive Portion"
   ]
  },
  {
   "cell_type": "code",
   "execution_count": 7,
   "id": "1a46b271-62c8-47bb-ae27-8e5c3edaebdb",
   "metadata": {},
   "outputs": [
    {
     "data": {
      "text/html": [
       "<div style=\"width:100%;\"><div style=\"position:relative;width:100%;height:0;padding-bottom:60%;\"><span style=\"color:#565656\">Make this Notebook Trusted to load map: File -> Trust Notebook</span><iframe srcdoc=\"&lt;!DOCTYPE html&gt;\n",
       "&lt;html&gt;\n",
       "&lt;head&gt;\n",
       "    \n",
       "    &lt;meta http-equiv=&quot;content-type&quot; content=&quot;text/html; charset=UTF-8&quot; /&gt;\n",
       "    \n",
       "        &lt;script&gt;\n",
       "            L_NO_TOUCH = false;\n",
       "            L_DISABLE_3D = false;\n",
       "        &lt;/script&gt;\n",
       "    \n",
       "    &lt;style&gt;html, body {width: 100%;height: 100%;margin: 0;padding: 0;}&lt;/style&gt;\n",
       "    &lt;style&gt;#map {position:absolute;top:0;bottom:0;right:0;left:0;}&lt;/style&gt;\n",
       "    &lt;script src=&quot;https://cdn.jsdelivr.net/npm/leaflet@1.9.3/dist/leaflet.js&quot;&gt;&lt;/script&gt;\n",
       "    &lt;script src=&quot;https://code.jquery.com/jquery-3.7.1.min.js&quot;&gt;&lt;/script&gt;\n",
       "    &lt;script src=&quot;https://cdn.jsdelivr.net/npm/bootstrap@5.2.2/dist/js/bootstrap.bundle.min.js&quot;&gt;&lt;/script&gt;\n",
       "    &lt;script src=&quot;https://cdnjs.cloudflare.com/ajax/libs/Leaflet.awesome-markers/2.0.2/leaflet.awesome-markers.js&quot;&gt;&lt;/script&gt;\n",
       "    &lt;link rel=&quot;stylesheet&quot; href=&quot;https://cdn.jsdelivr.net/npm/leaflet@1.9.3/dist/leaflet.css&quot;/&gt;\n",
       "    &lt;link rel=&quot;stylesheet&quot; href=&quot;https://cdn.jsdelivr.net/npm/bootstrap@5.2.2/dist/css/bootstrap.min.css&quot;/&gt;\n",
       "    &lt;link rel=&quot;stylesheet&quot; href=&quot;https://netdna.bootstrapcdn.com/bootstrap/3.0.0/css/bootstrap-glyphicons.css&quot;/&gt;\n",
       "    &lt;link rel=&quot;stylesheet&quot; href=&quot;https://cdn.jsdelivr.net/npm/@fortawesome/fontawesome-free@6.2.0/css/all.min.css&quot;/&gt;\n",
       "    &lt;link rel=&quot;stylesheet&quot; href=&quot;https://cdnjs.cloudflare.com/ajax/libs/Leaflet.awesome-markers/2.0.2/leaflet.awesome-markers.css&quot;/&gt;\n",
       "    &lt;link rel=&quot;stylesheet&quot; href=&quot;https://cdn.jsdelivr.net/gh/python-visualization/folium/folium/templates/leaflet.awesome.rotate.min.css&quot;/&gt;\n",
       "    \n",
       "            &lt;meta name=&quot;viewport&quot; content=&quot;width=device-width,\n",
       "                initial-scale=1.0, maximum-scale=1.0, user-scalable=no&quot; /&gt;\n",
       "            &lt;style&gt;\n",
       "                #map_c04fc796b4971f1b965d451222f12edb {\n",
       "                    position: relative;\n",
       "                    width: 100.0%;\n",
       "                    height: 100.0%;\n",
       "                    left: 0.0%;\n",
       "                    top: 0.0%;\n",
       "                }\n",
       "                .leaflet-container { font-size: 1rem; }\n",
       "            &lt;/style&gt;\n",
       "        \n",
       "    \n",
       "                    &lt;style&gt;\n",
       "                        .foliumtooltip {\n",
       "                            \n",
       "                        }\n",
       "                       .foliumtooltip table{\n",
       "                            margin: auto;\n",
       "                        }\n",
       "                        .foliumtooltip tr{\n",
       "                            text-align: left;\n",
       "                        }\n",
       "                        .foliumtooltip th{\n",
       "                            padding: 2px; padding-right: 8px;\n",
       "                        }\n",
       "                    &lt;/style&gt;\n",
       "            \n",
       "&lt;/head&gt;\n",
       "&lt;body&gt;\n",
       "    \n",
       "    \n",
       "            &lt;div class=&quot;folium-map&quot; id=&quot;map_c04fc796b4971f1b965d451222f12edb&quot; &gt;&lt;/div&gt;\n",
       "        \n",
       "&lt;/body&gt;\n",
       "&lt;script&gt;\n",
       "    \n",
       "    \n",
       "            var map_c04fc796b4971f1b965d451222f12edb = L.map(\n",
       "                &quot;map_c04fc796b4971f1b965d451222f12edb&quot;,\n",
       "                {\n",
       "                    center: [35.6311, -82.27195],\n",
       "                    crs: L.CRS.EPSG3857,\n",
       "                    zoom: 10,\n",
       "                    zoomControl: true,\n",
       "                    preferCanvas: false,\n",
       "                }\n",
       "            );\n",
       "            L.control.scale().addTo(map_c04fc796b4971f1b965d451222f12edb);\n",
       "\n",
       "            \n",
       "\n",
       "        \n",
       "    \n",
       "            var tile_layer_093d44c24899ceb158d275047752399c = L.tileLayer(\n",
       "                &quot;https://tile.openstreetmap.org/{z}/{x}/{y}.png&quot;,\n",
       "                {&quot;attribution&quot;: &quot;\\u0026copy; \\u003ca href=\\&quot;https://www.openstreetmap.org/copyright\\&quot;\\u003eOpenStreetMap\\u003c/a\\u003e contributors&quot;, &quot;detectRetina&quot;: false, &quot;maxNativeZoom&quot;: 19, &quot;maxZoom&quot;: 19, &quot;minZoom&quot;: 0, &quot;noWrap&quot;: false, &quot;opacity&quot;: 1, &quot;subdomains&quot;: &quot;abc&quot;, &quot;tms&quot;: false}\n",
       "            );\n",
       "        \n",
       "    \n",
       "            tile_layer_093d44c24899ceb158d275047752399c.addTo(map_c04fc796b4971f1b965d451222f12edb);\n",
       "        \n",
       "    \n",
       "            map_c04fc796b4971f1b965d451222f12edb.fitBounds(\n",
       "                [[35.3559, -82.5943], [35.9063, -81.9496]],\n",
       "                {}\n",
       "            );\n",
       "        \n",
       "    \n",
       "        function geo_json_1be368458e2c96e71397dec865cd9610_styler(feature) {\n",
       "            switch(feature.id) {\n",
       "                default:\n",
       "                    return {&quot;fillOpacity&quot;: 0.5, &quot;weight&quot;: 2};\n",
       "            }\n",
       "        }\n",
       "        function geo_json_1be368458e2c96e71397dec865cd9610_highlighter(feature) {\n",
       "            switch(feature.id) {\n",
       "                default:\n",
       "                    return {&quot;fillOpacity&quot;: 0.75};\n",
       "            }\n",
       "        }\n",
       "        function geo_json_1be368458e2c96e71397dec865cd9610_pointToLayer(feature, latlng) {\n",
       "            var opts = {&quot;bubblingMouseEvents&quot;: true, &quot;color&quot;: &quot;#3388ff&quot;, &quot;dashArray&quot;: null, &quot;dashOffset&quot;: null, &quot;fill&quot;: true, &quot;fillColor&quot;: &quot;#3388ff&quot;, &quot;fillOpacity&quot;: 0.2, &quot;fillRule&quot;: &quot;evenodd&quot;, &quot;lineCap&quot;: &quot;round&quot;, &quot;lineJoin&quot;: &quot;round&quot;, &quot;opacity&quot;: 1.0, &quot;radius&quot;: 2, &quot;stroke&quot;: true, &quot;weight&quot;: 3};\n",
       "            \n",
       "            let style = geo_json_1be368458e2c96e71397dec865cd9610_styler(feature)\n",
       "            Object.assign(opts, style)\n",
       "            \n",
       "            return new L.CircleMarker(latlng, opts)\n",
       "        }\n",
       "\n",
       "        function geo_json_1be368458e2c96e71397dec865cd9610_onEachFeature(feature, layer) {\n",
       "            layer.on({\n",
       "                mouseout: function(e) {\n",
       "                    if(typeof e.target.setStyle === &quot;function&quot;){\n",
       "                            geo_json_1be368458e2c96e71397dec865cd9610.resetStyle(e.target);\n",
       "                    }\n",
       "                },\n",
       "                mouseover: function(e) {\n",
       "                    if(typeof e.target.setStyle === &quot;function&quot;){\n",
       "                        const highlightStyle = geo_json_1be368458e2c96e71397dec865cd9610_highlighter(e.target.feature)\n",
       "                        e.target.setStyle(highlightStyle);\n",
       "                    }\n",
       "                },\n",
       "            });\n",
       "        };\n",
       "        var geo_json_1be368458e2c96e71397dec865cd9610 = L.geoJson(null, {\n",
       "                onEachFeature: geo_json_1be368458e2c96e71397dec865cd9610_onEachFeature,\n",
       "            \n",
       "                style: geo_json_1be368458e2c96e71397dec865cd9610_styler,\n",
       "                pointToLayer: geo_json_1be368458e2c96e71397dec865cd9610_pointToLayer,\n",
       "        });\n",
       "\n",
       "        function geo_json_1be368458e2c96e71397dec865cd9610_add (data) {\n",
       "            geo_json_1be368458e2c96e71397dec865cd9610\n",
       "                .addData(data);\n",
       "        }\n",
       "            geo_json_1be368458e2c96e71397dec865cd9610_add({&quot;bbox&quot;: [-82.5943, 35.3559, -81.9496, 35.9063], &quot;features&quot;: [{&quot;bbox&quot;: [-82.5943, 35.3559, -81.9496, 35.9063], &quot;geometry&quot;: {&quot;coordinates&quot;: [[[-82.5825, 35.5931], [-82.5943, 35.5614], [-82.5232, 35.3891], [-82.4471, 35.3559], [-82.3489, 35.3642], [-82.2559, 35.4346], [-82.2136, 35.549], [-82.1306, 35.6357], [-82.0392, 35.6853], [-81.98, 35.7306], [-81.9665, 35.8076], [-81.9496, 35.8721], [-82.0697, 35.8995], [-82.1932, 35.9036], [-82.2694, 35.9063], [-82.3439, 35.8967], [-82.3828, 35.8309], [-82.4809, 35.7512], [-82.5402, 35.6467], [-82.5825, 35.5931]]], &quot;type&quot;: &quot;Polygon&quot;}, &quot;id&quot;: &quot;0&quot;, &quot;properties&quot;: {}, &quot;type&quot;: &quot;Feature&quot;}], &quot;type&quot;: &quot;FeatureCollection&quot;});\n",
       "\n",
       "        \n",
       "    \n",
       "    geo_json_1be368458e2c96e71397dec865cd9610.bindTooltip(\n",
       "    function(layer){\n",
       "    let div = L.DomUtil.create(&#x27;div&#x27;);\n",
       "    \n",
       "    return div\n",
       "    }\n",
       "    ,{&quot;className&quot;: &quot;foliumtooltip&quot;, &quot;sticky&quot;: true});\n",
       "                     \n",
       "    \n",
       "            geo_json_1be368458e2c96e71397dec865cd9610.addTo(map_c04fc796b4971f1b965d451222f12edb);\n",
       "        \n",
       "&lt;/script&gt;\n",
       "&lt;/html&gt;\" style=\"position:absolute;width:100%;height:100%;left:0;top:0;border:none !important;\" allowfullscreen webkitallowfullscreen mozallowfullscreen></iframe></div></div>"
      ],
      "text/plain": [
       "<folium.folium.Map at 0x7f01f952d6a0>"
      ]
     },
     "execution_count": 7,
     "metadata": {},
     "output_type": "execute_result"
    }
   ],
   "source": [
    "df_aoi = gpd.GeoDataFrame(geometry=[aoi], crs=CRS.from_epsg(4326))\n",
    "df_aoi.explore()"
   ]
  },
  {
   "cell_type": "code",
   "execution_count": 8,
   "id": "ff42edd9-6c55-420d-9dff-99e54e663388",
   "metadata": {},
   "outputs": [
    {
     "name": "stderr",
     "output_type": "stream",
     "text": [
      "WARNING:asf_search:WKT REPAIR/VALIDATION: The following repairs were performedon the provided AOI:\n",
      "[\"'type': 'GEOMETRY_SIMPLIFICATION': 'report': 'Shape Simplified: shape of 19 simplified to {coords_length} with proximity threshold of {threshold}'\"]\n",
      "WARNING:asf_search:Query Time Elapsed 0.77181077003479\n",
      "WARNING:asf_search:Product Subclassing Time 0.08588695526123047\n",
      "WARNING:asf_search:Page Processing Time 1.3828277587890625e-05\n",
      "WARNING:asf_search:Page Time Elapsed 0.9638240337371826\n"
     ]
    }
   ],
   "source": [
    "resp = asf.geo_search(intersectsWith=aoi.wkt,\n",
    "                                 processingLevel='RTC',\n",
    "                                 platform=asf.constants.SENTINEL1, \n",
    "                                 start=event_date - timedelta(days=PRE_IMAGE_WINDOW_DAYS),\n",
    "                                 polarization=['VV'],\n",
    "                                 end=event_date + timedelta(days=POST_IMAGE_WINDOW_DAYS),\n",
    "                                )"
   ]
  },
  {
   "cell_type": "code",
   "execution_count": 9,
   "id": "d002679f-cae3-4fab-ab9f-6521c9b9cf3b",
   "metadata": {},
   "outputs": [
    {
     "data": {
      "text/html": [
       "<div>\n",
       "<style scoped>\n",
       "    .dataframe tbody tr th:only-of-type {\n",
       "        vertical-align: middle;\n",
       "    }\n",
       "\n",
       "    .dataframe tbody tr th {\n",
       "        vertical-align: top;\n",
       "    }\n",
       "\n",
       "    .dataframe thead th {\n",
       "        text-align: right;\n",
       "    }\n",
       "</style>\n",
       "<table border=\"1\" class=\"dataframe\">\n",
       "  <thead>\n",
       "    <tr style=\"text-align: right;\">\n",
       "      <th></th>\n",
       "      <th>geometry</th>\n",
       "      <th>centerLat</th>\n",
       "      <th>centerLon</th>\n",
       "      <th>stopTime</th>\n",
       "      <th>fileID</th>\n",
       "      <th>flightDirection</th>\n",
       "      <th>pathNumber</th>\n",
       "      <th>processingLevel</th>\n",
       "      <th>url</th>\n",
       "      <th>startTime</th>\n",
       "      <th>...</th>\n",
       "      <th>beamModeType</th>\n",
       "      <th>s3Urls</th>\n",
       "      <th>beamMode</th>\n",
       "      <th>additionalUrls</th>\n",
       "      <th>bistaticDelayCorrection</th>\n",
       "      <th>noiseCorrection</th>\n",
       "      <th>postProcessingFilter</th>\n",
       "      <th>acq_dt</th>\n",
       "      <th>acq_date</th>\n",
       "      <th>opera_dedup_id</th>\n",
       "    </tr>\n",
       "  </thead>\n",
       "  <tbody>\n",
       "    <tr>\n",
       "      <th>0</th>\n",
       "      <td>POLYGON ((-82.38873 35.87119, -81.49209 35.993...</td>\n",
       "      <td>36.015113</td>\n",
       "      <td>-81.957371</td>\n",
       "      <td>2024-10-03T23:31:26Z</td>\n",
       "      <td>OPERA_L2_RTC-S1_T048-101162-IW3_20241003T23312...</td>\n",
       "      <td>ASCENDING</td>\n",
       "      <td>48</td>\n",
       "      <td>RTC</td>\n",
       "      <td>https://datapool.asf.alaska.edu/RTC/OPERA-S1/O...</td>\n",
       "      <td>2024-10-03T23:31:23Z</td>\n",
       "      <td>...</td>\n",
       "      <td>IW</td>\n",
       "      <td>[s3://asf-cumulus-prod-opera-browse/OPERA_L2_R...</td>\n",
       "      <td>IW</td>\n",
       "      <td>[https://datapool.asf.alaska.edu/RTC/OPERA-S1/...</td>\n",
       "      <td>TRUE</td>\n",
       "      <td>TRUE</td>\n",
       "      <td>FALSE</td>\n",
       "      <td>2024-10-03 23:31:23+00:00</td>\n",
       "      <td>2024-10-04</td>\n",
       "      <td>OPERA_L2_RTC-S1_T048-101162-IW3_20241003T233123Z</td>\n",
       "    </tr>\n",
       "    <tr>\n",
       "      <th>1</th>\n",
       "      <td>POLYGON ((-83.34085 35.67455, -82.81556 35.751...</td>\n",
       "      <td>35.831301</td>\n",
       "      <td>-82.848467</td>\n",
       "      <td>2024-10-03T23:31:25Z</td>\n",
       "      <td>OPERA_L2_RTC-S1_T048-101162-IW2_20241003T23312...</td>\n",
       "      <td>ASCENDING</td>\n",
       "      <td>48</td>\n",
       "      <td>RTC</td>\n",
       "      <td>https://datapool.asf.alaska.edu/RTC/OPERA-S1/O...</td>\n",
       "      <td>2024-10-03T23:31:22Z</td>\n",
       "      <td>...</td>\n",
       "      <td>IW</td>\n",
       "      <td>[s3://asf-cumulus-prod-opera-browse/OPERA_L2_R...</td>\n",
       "      <td>IW</td>\n",
       "      <td>[https://datapool.asf.alaska.edu/RTC/OPERA-S1/...</td>\n",
       "      <td>TRUE</td>\n",
       "      <td>TRUE</td>\n",
       "      <td>FALSE</td>\n",
       "      <td>2024-10-03 23:31:22+00:00</td>\n",
       "      <td>2024-10-04</td>\n",
       "      <td>OPERA_L2_RTC-S1_T048-101162-IW2_20241003T233122Z</td>\n",
       "    </tr>\n",
       "    <tr>\n",
       "      <th>2</th>\n",
       "      <td>POLYGON ((-82.35077 35.70575, -81.45975 35.827...</td>\n",
       "      <td>35.849389</td>\n",
       "      <td>-81.923013</td>\n",
       "      <td>2024-10-03T23:31:23Z</td>\n",
       "      <td>OPERA_L2_RTC-S1_T048-101161-IW3_20241003T23312...</td>\n",
       "      <td>ASCENDING</td>\n",
       "      <td>48</td>\n",
       "      <td>RTC</td>\n",
       "      <td>https://datapool.asf.alaska.edu/RTC/OPERA-S1/O...</td>\n",
       "      <td>2024-10-03T23:31:20Z</td>\n",
       "      <td>...</td>\n",
       "      <td>IW</td>\n",
       "      <td>[s3://asf-cumulus-prod-opera-browse/OPERA_L2_R...</td>\n",
       "      <td>IW</td>\n",
       "      <td>[https://datapool.asf.alaska.edu/RTC/OPERA-S1/...</td>\n",
       "      <td>TRUE</td>\n",
       "      <td>TRUE</td>\n",
       "      <td>FALSE</td>\n",
       "      <td>2024-10-03 23:31:20+00:00</td>\n",
       "      <td>2024-10-04</td>\n",
       "      <td>OPERA_L2_RTC-S1_T048-101161-IW3_20241003T233120Z</td>\n",
       "    </tr>\n",
       "    <tr>\n",
       "      <th>3</th>\n",
       "      <td>POLYGON ((-83.30305 35.50874, -82.28436 35.655...</td>\n",
       "      <td>35.665525</td>\n",
       "      <td>-82.810511</td>\n",
       "      <td>2024-10-03T23:31:22Z</td>\n",
       "      <td>OPERA_L2_RTC-S1_T048-101161-IW2_20241003T23311...</td>\n",
       "      <td>ASCENDING</td>\n",
       "      <td>48</td>\n",
       "      <td>RTC</td>\n",
       "      <td>https://datapool.asf.alaska.edu/RTC/OPERA-S1/O...</td>\n",
       "      <td>2024-10-03T23:31:19Z</td>\n",
       "      <td>...</td>\n",
       "      <td>IW</td>\n",
       "      <td>[s3://asf-cumulus-prod-opera-browse/OPERA_L2_R...</td>\n",
       "      <td>IW</td>\n",
       "      <td>[https://datapool.asf.alaska.edu/RTC/OPERA-S1/...</td>\n",
       "      <td>TRUE</td>\n",
       "      <td>TRUE</td>\n",
       "      <td>FALSE</td>\n",
       "      <td>2024-10-03 23:31:19+00:00</td>\n",
       "      <td>2024-10-04</td>\n",
       "      <td>OPERA_L2_RTC-S1_T048-101161-IW2_20241003T233119Z</td>\n",
       "    </tr>\n",
       "    <tr>\n",
       "      <th>4</th>\n",
       "      <td>POLYGON ((-82.32021 35.53915, -81.4263 35.6614...</td>\n",
       "      <td>35.683331</td>\n",
       "      <td>-81.889417</td>\n",
       "      <td>2024-10-03T23:31:20Z</td>\n",
       "      <td>OPERA_L2_RTC-S1_T048-101160-IW3_20241003T23311...</td>\n",
       "      <td>ASCENDING</td>\n",
       "      <td>48</td>\n",
       "      <td>RTC</td>\n",
       "      <td>https://datapool.asf.alaska.edu/RTC/OPERA-S1/O...</td>\n",
       "      <td>2024-10-03T23:31:17Z</td>\n",
       "      <td>...</td>\n",
       "      <td>IW</td>\n",
       "      <td>[s3://asf-cumulus-prod-opera-browse/OPERA_L2_R...</td>\n",
       "      <td>IW</td>\n",
       "      <td>[https://datapool.asf.alaska.edu/RTC/OPERA-S1/...</td>\n",
       "      <td>TRUE</td>\n",
       "      <td>TRUE</td>\n",
       "      <td>FALSE</td>\n",
       "      <td>2024-10-03 23:31:17+00:00</td>\n",
       "      <td>2024-10-04</td>\n",
       "      <td>OPERA_L2_RTC-S1_T048-101160-IW3_20241003T233117Z</td>\n",
       "    </tr>\n",
       "  </tbody>\n",
       "</table>\n",
       "<p>5 rows × 36 columns</p>\n",
       "</div>"
      ],
      "text/plain": [
       "                                            geometry  centerLat  centerLon  \\\n",
       "0  POLYGON ((-82.38873 35.87119, -81.49209 35.993...  36.015113 -81.957371   \n",
       "1  POLYGON ((-83.34085 35.67455, -82.81556 35.751...  35.831301 -82.848467   \n",
       "2  POLYGON ((-82.35077 35.70575, -81.45975 35.827...  35.849389 -81.923013   \n",
       "3  POLYGON ((-83.30305 35.50874, -82.28436 35.655...  35.665525 -82.810511   \n",
       "4  POLYGON ((-82.32021 35.53915, -81.4263 35.6614...  35.683331 -81.889417   \n",
       "\n",
       "               stopTime                                             fileID  \\\n",
       "0  2024-10-03T23:31:26Z  OPERA_L2_RTC-S1_T048-101162-IW3_20241003T23312...   \n",
       "1  2024-10-03T23:31:25Z  OPERA_L2_RTC-S1_T048-101162-IW2_20241003T23312...   \n",
       "2  2024-10-03T23:31:23Z  OPERA_L2_RTC-S1_T048-101161-IW3_20241003T23312...   \n",
       "3  2024-10-03T23:31:22Z  OPERA_L2_RTC-S1_T048-101161-IW2_20241003T23311...   \n",
       "4  2024-10-03T23:31:20Z  OPERA_L2_RTC-S1_T048-101160-IW3_20241003T23311...   \n",
       "\n",
       "  flightDirection  pathNumber processingLevel  \\\n",
       "0       ASCENDING          48             RTC   \n",
       "1       ASCENDING          48             RTC   \n",
       "2       ASCENDING          48             RTC   \n",
       "3       ASCENDING          48             RTC   \n",
       "4       ASCENDING          48             RTC   \n",
       "\n",
       "                                                 url             startTime  \\\n",
       "0  https://datapool.asf.alaska.edu/RTC/OPERA-S1/O...  2024-10-03T23:31:23Z   \n",
       "1  https://datapool.asf.alaska.edu/RTC/OPERA-S1/O...  2024-10-03T23:31:22Z   \n",
       "2  https://datapool.asf.alaska.edu/RTC/OPERA-S1/O...  2024-10-03T23:31:20Z   \n",
       "3  https://datapool.asf.alaska.edu/RTC/OPERA-S1/O...  2024-10-03T23:31:19Z   \n",
       "4  https://datapool.asf.alaska.edu/RTC/OPERA-S1/O...  2024-10-03T23:31:17Z   \n",
       "\n",
       "   ... beamModeType                                             s3Urls  \\\n",
       "0  ...           IW  [s3://asf-cumulus-prod-opera-browse/OPERA_L2_R...   \n",
       "1  ...           IW  [s3://asf-cumulus-prod-opera-browse/OPERA_L2_R...   \n",
       "2  ...           IW  [s3://asf-cumulus-prod-opera-browse/OPERA_L2_R...   \n",
       "3  ...           IW  [s3://asf-cumulus-prod-opera-browse/OPERA_L2_R...   \n",
       "4  ...           IW  [s3://asf-cumulus-prod-opera-browse/OPERA_L2_R...   \n",
       "\n",
       "  beamMode                                     additionalUrls  \\\n",
       "0       IW  [https://datapool.asf.alaska.edu/RTC/OPERA-S1/...   \n",
       "1       IW  [https://datapool.asf.alaska.edu/RTC/OPERA-S1/...   \n",
       "2       IW  [https://datapool.asf.alaska.edu/RTC/OPERA-S1/...   \n",
       "3       IW  [https://datapool.asf.alaska.edu/RTC/OPERA-S1/...   \n",
       "4       IW  [https://datapool.asf.alaska.edu/RTC/OPERA-S1/...   \n",
       "\n",
       "  bistaticDelayCorrection noiseCorrection  postProcessingFilter  \\\n",
       "0                    TRUE            TRUE                 FALSE   \n",
       "1                    TRUE            TRUE                 FALSE   \n",
       "2                    TRUE            TRUE                 FALSE   \n",
       "3                    TRUE            TRUE                 FALSE   \n",
       "4                    TRUE            TRUE                 FALSE   \n",
       "\n",
       "                     acq_dt    acq_date  \\\n",
       "0 2024-10-03 23:31:23+00:00  2024-10-04   \n",
       "1 2024-10-03 23:31:22+00:00  2024-10-04   \n",
       "2 2024-10-03 23:31:20+00:00  2024-10-04   \n",
       "3 2024-10-03 23:31:19+00:00  2024-10-04   \n",
       "4 2024-10-03 23:31:17+00:00  2024-10-04   \n",
       "\n",
       "                                     opera_dedup_id  \n",
       "0  OPERA_L2_RTC-S1_T048-101162-IW3_20241003T233123Z  \n",
       "1  OPERA_L2_RTC-S1_T048-101162-IW2_20241003T233122Z  \n",
       "2  OPERA_L2_RTC-S1_T048-101161-IW3_20241003T233120Z  \n",
       "3  OPERA_L2_RTC-S1_T048-101161-IW2_20241003T233119Z  \n",
       "4  OPERA_L2_RTC-S1_T048-101160-IW3_20241003T233117Z  \n",
       "\n",
       "[5 rows x 36 columns]"
      ]
     },
     "execution_count": 9,
     "metadata": {},
     "output_type": "execute_result"
    }
   ],
   "source": [
    "df_rtc_resp = gpd.GeoDataFrame.from_features(resp.geojson(), crs=CRS.from_epsg(4326))\n",
    "df_rtc_resp['acq_dt'] = pd.to_datetime(df_rtc_resp.startTime)\n",
    "df_rtc_resp['acq_date'] = pd.to_datetime(df_rtc_resp.startTime).dt.round('D').dt.date\n",
    "df_rtc_resp['opera_dedup_id'] = df_rtc_resp.fileID.map(lambda file_id: '_'.join(file_id.split('_')[:5]))\n",
    "df_rtc_resp.drop_duplicates(subset='opera_dedup_id', inplace=True)\n",
    "df_rtc_resp.head()"
   ]
  },
  {
   "cell_type": "code",
   "execution_count": 10,
   "id": "0c7feb27-59b8-4df3-80bd-1374967715fe",
   "metadata": {},
   "outputs": [
    {
     "data": {
      "text/plain": [
       "array([datetime.date(2024, 10, 4), datetime.date(2024, 9, 29),\n",
       "       datetime.date(2024, 9, 22), datetime.date(2024, 9, 17),\n",
       "       datetime.date(2024, 9, 10), datetime.date(2024, 9, 5),\n",
       "       datetime.date(2024, 8, 29), datetime.date(2024, 8, 24),\n",
       "       datetime.date(2024, 8, 17), datetime.date(2024, 8, 12),\n",
       "       datetime.date(2024, 8, 5), datetime.date(2024, 7, 31),\n",
       "       datetime.date(2024, 7, 19), datetime.date(2024, 7, 7),\n",
       "       datetime.date(2024, 6, 30), datetime.date(2024, 6, 25),\n",
       "       datetime.date(2024, 6, 13), datetime.date(2024, 6, 1),\n",
       "       datetime.date(2024, 5, 20), datetime.date(2024, 5, 13),\n",
       "       datetime.date(2024, 5, 8), datetime.date(2024, 5, 1),\n",
       "       datetime.date(2024, 4, 26), datetime.date(2024, 4, 19),\n",
       "       datetime.date(2024, 4, 14), datetime.date(2024, 4, 7),\n",
       "       datetime.date(2024, 4, 2)], dtype=object)"
      ]
     },
     "execution_count": 10,
     "metadata": {},
     "output_type": "execute_result"
    }
   ],
   "source": [
    "df_rtc_resp.acq_date.unique()"
   ]
  },
  {
   "cell_type": "code",
   "execution_count": 11,
   "id": "dfbdc850-3649-476a-9a7d-933056c367d9",
   "metadata": {},
   "outputs": [
    {
     "data": {
      "text/plain": [
       "array([ 48, 150])"
      ]
     },
     "execution_count": 11,
     "metadata": {},
     "output_type": "execute_result"
    }
   ],
   "source": [
    "df_rtc_resp.pathNumber.unique()"
   ]
  },
  {
   "cell_type": "code",
   "execution_count": 12,
   "id": "a0b09fe1-4d70-4b00-aedc-0825d592f822",
   "metadata": {},
   "outputs": [
    {
     "data": {
      "text/plain": [
       "<Axes: >"
      ]
     },
     "execution_count": 12,
     "metadata": {},
     "output_type": "execute_result"
    },
    {
     "data": {
      "image/png": "[encoded data removed]",
      "text/plain": [
       "<Figure size 640x480 with 1 Axes>"
      ]
     },
     "metadata": {},
     "output_type": "display_data"
    }
   ],
   "source": [
    "fig, ax = plt.subplots()\n",
    "\n",
    "df_aoi.plot(ax=ax)\n",
    "df_rtc_resp_plot = df_rtc_resp.copy()\n",
    "df_rtc_resp_plot.geometry = df_rtc_resp_plot.geometry.boundary\n",
    "df_rtc_resp_plot.plot(ax=ax, alpha=.5, column='pathNumber', categorical=True, legend=True)"
   ]
  },
  {
   "cell_type": "markdown",
   "id": "b97150f3-7427-4259-a600-f9811d370b80",
   "metadata": {},
   "source": [
    "## Select Path"
   ]
  },
  {
   "cell_type": "code",
   "execution_count": 13,
   "id": "fa6f9bca-f09c-41de-bc11-e799387e1e0e",
   "metadata": {},
   "outputs": [],
   "source": [
    "TRACK_NUMBER = 48"
   ]
  },
  {
   "cell_type": "code",
   "execution_count": 14,
   "id": "b39188d2-9a15-4076-b101-e801b5bd6d15",
   "metadata": {},
   "outputs": [
    {
     "data": {
      "text/plain": [
       "array([datetime.date(2024, 10, 4), datetime.date(2024, 9, 22),\n",
       "       datetime.date(2024, 9, 10), datetime.date(2024, 8, 29),\n",
       "       datetime.date(2024, 8, 17), datetime.date(2024, 8, 5),\n",
       "       datetime.date(2024, 6, 30), datetime.date(2024, 5, 13),\n",
       "       datetime.date(2024, 5, 1), datetime.date(2024, 4, 19),\n",
       "       datetime.date(2024, 4, 7)], dtype=object)"
      ]
     },
     "execution_count": 14,
     "metadata": {},
     "output_type": "execute_result"
    }
   ],
   "source": [
    "df_rtc_track = df_rtc_resp[df_rtc_resp.pathNumber== TRACK_NUMBER].reset_index(drop=True)\n",
    "df_rtc_track.acq_date.unique()"
   ]
  },
  {
   "cell_type": "code",
   "execution_count": 15,
   "id": "a3e8fed9-756c-4edf-adb6-a1685eaaffbc",
   "metadata": {},
   "outputs": [
    {
     "data": {
      "text/plain": [
       "8"
      ]
     },
     "execution_count": 15,
     "metadata": {},
     "output_type": "execute_result"
    }
   ],
   "source": [
    "(df_rtc_track.acq_dt > pd.to_datetime(EVENT_DATE, utc=True)).sum()"
   ]
  },
  {
   "cell_type": "code",
   "execution_count": 16,
   "id": "a746fc70-51c5-47d5-9af0-1391e3c83498",
   "metadata": {},
   "outputs": [],
   "source": [
    "df_rtc_track['vh_url'] = df_rtc_track.url\n",
    "df_rtc_track['vv_url'] = df_rtc_track.url.str.replace('VH.tif', 'VV.tif')\n",
    "df_rtc_track['burst_id'] = df_rtc_track.fileID.map(lambda file_id: file_id.split('_')[3])\n"
   ]
  },
  {
   "cell_type": "markdown",
   "id": "b9fd30c5-a74f-4449-b3a7-b43edd655309",
   "metadata": {},
   "source": [
    "# Download RTCs by Burst\n",
    "\n",
    "out/AOI_NAME/rtc_ts/{burst_id}/<tif_files>"
   ]
  },
  {
   "cell_type": "code",
   "execution_count": 17,
   "id": "577f9d5e-ef4e-4939-9867-2c6712df6292",
   "metadata": {},
   "outputs": [],
   "source": [
    "rtc_ts_dir = out_dir / 'rtc_ts' / f'track{TRACK_NUMBER}'\n",
    "rtc_ts_dir.mkdir(exist_ok=True, parents=True)"
   ]
  },
  {
   "cell_type": "code",
   "execution_count": 18,
   "id": "fc50566c-1c6c-43c5-aa8d-5288e96fe05c",
   "metadata": {},
   "outputs": [],
   "source": [
    "\n",
    "@backoff.on_exception(\n",
    "    backoff.expo,\n",
    "    [ConnectionError, HTTPError, RasterioIOError],\n",
    "    max_tries=10,\n",
    "    max_time=60,\n",
    "    jitter=backoff.full_jitter,\n",
    ")\n",
    "def localize_one_rtc(\n",
    "    url: str,\n",
    "    ts_dir: str | Path\n",
    ") -> Path:\n",
    "    local_fn = url.split(\"/\")[-1]\n",
    "    out_path = ts_dir / local_fn\n",
    "    if not ts_dir.exists():\n",
    "        ts_dir.mkdir(parents=True)\n",
    "    if out_path.exists():\n",
    "        return out_path\n",
    "        \n",
    "    with requests.get(url, stream=True) as r:\n",
    "        r.raise_for_status()\n",
    "        with open(out_path, 'wb') as f:\n",
    "            for chunk in r.iter_content(chunk_size=16384): \n",
    "                f.write(chunk)\n",
    "    return out_path"
   ]
  },
  {
   "cell_type": "code",
   "execution_count": 19,
   "id": "513b296e-873d-4883-8f12-a1392b0693e5",
   "metadata": {},
   "outputs": [],
   "source": [
    "burst_ids = df_rtc_track.burst_id.tolist()\n",
    "vv_urls = df_rtc_track.vv_url.tolist()\n",
    "vh_urls = df_rtc_track.vh_url.tolist()"
   ]
  },
  {
   "cell_type": "code",
   "execution_count": 20,
   "id": "572392a6-eb62-43fa-935a-221d86765adc",
   "metadata": {},
   "outputs": [
    {
     "data": {
      "text/plain": [
       "['https://datapool.asf.alaska.edu/RTC/OPERA-S1/OPERA_L2_RTC-S1_T048-101162-IW3_20241003T233123Z_20241004T090756Z_S1A_30_v1.0_VV.tif',\n",
       " PosixPath('out/Helene_Sparta/rtc_ts/track48/T048-101162-IW3')]"
      ]
     },
     "execution_count": 20,
     "metadata": {},
     "output_type": "execute_result"
    }
   ],
   "source": [
    "zipped_inputs = [[url, rtc_ts_dir/ burst_id] for (url, burst_id) in zip(vv_urls + vh_urls, burst_ids * 2)]\n",
    "zipped_inputs[0]"
   ]
  },
  {
   "cell_type": "code",
   "execution_count": 21,
   "id": "cbe52072-8f4e-4c7c-a124-c2f2b514d9b6",
   "metadata": {},
   "outputs": [],
   "source": [
    "def localize_one_rtc_p(data: tuple) -> Path:\n",
    "    return localize_one_rtc(*data)"
   ]
  },
  {
   "cell_type": "code",
   "execution_count": 22,
   "id": "603cf1f6-76ac-47a1-a951-e38a3e0cc779",
   "metadata": {},
   "outputs": [],
   "source": [
    "# localize_one_rtc(*zipped_inputs[0])"
   ]
  },
  {
   "cell_type": "code",
   "execution_count": 23,
   "id": "9b133155-968e-4dc5-b1ff-61fe8c1be1a5",
   "metadata": {},
   "outputs": [
    {
     "name": "stderr",
     "output_type": "stream",
     "text": [
      "100%|████████████████████████████████████████| 176/176 [00:57<00:00,  3.04it/s]\n"
     ]
    }
   ],
   "source": [
    "import concurrent.futures\n",
    "\n",
    "with concurrent.futures.ThreadPoolExecutor(max_workers=10) as executor:\n",
    "    out_paths_rtc = list(tqdm(executor.map(localize_one_rtc_p, zipped_inputs[:]), total=len(zipped_inputs)))"
   ]
  },
  {
   "cell_type": "markdown",
   "id": "c48f28ca-e82a-4381-aa27-a39fdfe6f571",
   "metadata": {},
   "source": [
    "# Despeckle"
   ]
  },
  {
   "cell_type": "code",
   "execution_count": 24,
   "id": "03db1e86-7f38-4d43-a56d-500573a1a396",
   "metadata": {},
   "outputs": [],
   "source": [
    "from distmetrics import despeckle_rtc_arrs_with_tv"
   ]
  },
  {
   "cell_type": "code",
   "execution_count": 25,
   "id": "3c27fbe7-bc1e-42b6-8c3a-e469826859c3",
   "metadata": {},
   "outputs": [
    {
     "data": {
      "text/plain": [
       "PosixPath('out/Helene_Sparta/rtc_ts/track48')"
      ]
     },
     "execution_count": 25,
     "metadata": {},
     "output_type": "execute_result"
    }
   ],
   "source": [
    "rtc_ts_dir"
   ]
  },
  {
   "cell_type": "code",
   "execution_count": 26,
   "id": "7ad65e74-fabc-4ed0-b584-c977941e6ef3",
   "metadata": {},
   "outputs": [
    {
     "data": {
      "text/plain": [
       "PosixPath('out/Helene_Sparta/rtc_ts_tv/track48')"
      ]
     },
     "execution_count": 26,
     "metadata": {},
     "output_type": "execute_result"
    }
   ],
   "source": [
    "tv_dir = rtc_ts_dir.parents[1] / 'rtc_ts_tv' / f'track{TRACK_NUMBER}'\n",
    "tv_dir.mkdir(exist_ok=True, parents=True)\n",
    "tv_dir"
   ]
  },
  {
   "cell_type": "code",
   "execution_count": 27,
   "id": "62c71f40-3c58-4519-920c-b1df364c8dd2",
   "metadata": {},
   "outputs": [
    {
     "data": {
      "text/plain": [
       "['T048-101162-IW3', 'T048-101162-IW2', 'T048-101161-IW3']"
      ]
     },
     "execution_count": 27,
     "metadata": {},
     "output_type": "execute_result"
    }
   ],
   "source": [
    "burst_ids = [p.parent.stem for p in out_paths_rtc]\n",
    "burst_ids[:3]"
   ]
  },
  {
   "cell_type": "code",
   "execution_count": 28,
   "id": "b7b1d842-8cd0-4302-81e0-b49dabd47944",
   "metadata": {},
   "outputs": [
    {
     "data": {
      "text/plain": [
       "[PosixPath('out/Helene_Sparta/rtc_ts_tv/track48/T048-101162-IW3/OPERA_L2_RTC-S1_T048-101162-IW3_20241003T233123Z_20241004T090756Z_S1A_30_v1.0_VV.tif'),\n",
       " PosixPath('out/Helene_Sparta/rtc_ts_tv/track48/T048-101162-IW2/OPERA_L2_RTC-S1_T048-101162-IW2_20241003T233122Z_20241004T090756Z_S1A_30_v1.0_VV.tif'),\n",
       " PosixPath('out/Helene_Sparta/rtc_ts_tv/track48/T048-101161-IW3/OPERA_L2_RTC-S1_T048-101161-IW3_20241003T233120Z_20241004T090756Z_S1A_30_v1.0_VV.tif')]"
      ]
     },
     "execution_count": 28,
     "metadata": {},
     "output_type": "execute_result"
    }
   ],
   "source": [
    "out_paths_rtc_d = [tv_dir / burst_id / p.name for (burst_id, p) in zip(burst_ids, out_paths_rtc)]\n",
    "out_paths_rtc_d[:3]"
   ]
  },
  {
   "cell_type": "code",
   "execution_count": 29,
   "id": "3f918d04-b402-4d5b-b69a-5d8fa391910f",
   "metadata": {},
   "outputs": [],
   "source": [
    "def open_one(path: Path):\n",
    "    with rasterio.open(path) as ds:\n",
    "        X = ds.read(1)\n",
    "        p = ds.profile\n",
    "    return X, p\n",
    "\n",
    "def serialize_one(arr:np.ndarray, p: dict, out_path: Path):\n",
    "    with rasterio.open(out_path, 'w', **p) as ds:\n",
    "        ds.write(arr, 1)\n",
    "    return out_path\n",
    "\n",
    "def despeckle_and_serialize(rtc_paths: list[Path],\n",
    "                            dst_paths: list[Path],\n",
    "                            batch_size=100) -> list:\n",
    "    # Ensure new directories exist\n",
    "    [p.parent.mkdir(exist_ok=True, parents=True) for p in dst_paths]\n",
    "    # one liner for math.ceil\n",
    "    n_batches = (len(rtc_paths) + batch_size - 1) // batch_size\n",
    "    for k in tqdm(range(n_batches), desc='batch'):\n",
    "        paths_subset = rtc_paths[k * batch_size: (k + 1) * batch_size]\n",
    "        dst_paths_subset = dst_paths[k * batch_size: (k + 1) * batch_size]\n",
    "\n",
    "        # don't overwrite\n",
    "        dst_paths_subset = [dst_p for dst_p in dst_paths_subset if not dst_p.exists()]\n",
    "        paths_subset = [src_p for (src_p, dst_p) in zip(paths_subset, dst_paths_subset) if not dst_p.exists()]\n",
    "        \n",
    "        # open\n",
    "        if dst_paths_subset:\n",
    "            arrs, ps = zip(*list(map(open_one, paths_subset)))\n",
    "            # despeckle\n",
    "            arrs_d = despeckle_rtc_arrs_with_tv(arrs)\n",
    "            # serialize\n",
    "            [serialize_one(arr, prof, dst_path) for (arr, prof, dst_path) in zip(arrs_d, ps, dst_paths_subset)]\n",
    "\n",
    "    return dst_paths"
   ]
  },
  {
   "cell_type": "code",
   "execution_count": 30,
   "id": "e693a0d8-434f-4ddc-bccc-343cc21b7b35",
   "metadata": {},
   "outputs": [
    {
     "name": "stderr",
     "output_type": "stream",
     "text": [
      "100%|████████████████████████████████████████| 100/100 [00:31<00:00,  1.94it/s]\n",
      "100%|██████████████████████████████████████████| 76/76 [00:22<00:00,  1.22it/s]\n",
      "batch: 100%|█████████████████████████████████████| 2/2 [01:43<00:00, 51.72s/it]\n"
     ]
    }
   ],
   "source": [
    "out_paths_rtc_d = despeckle_and_serialize(out_paths_rtc, out_paths_rtc_d, batch_size=100)"
   ]
  },
  {
   "cell_type": "code",
   "execution_count": 31,
   "id": "f590be7c-fe9c-4a67-93e2-bfe1cc8eaccd",
   "metadata": {},
   "outputs": [
    {
     "data": {
      "text/plain": [
       "'OPERA_L2_RTC-S1_T048-101162-IW3_20241003T233123Z_20241004T090756Z_S1A_30_v1.0_VV'"
      ]
     },
     "execution_count": 31,
     "metadata": {},
     "output_type": "execute_result"
    }
   ],
   "source": [
    "out_paths_rtc_d[0].stem"
   ]
  },
  {
   "cell_type": "markdown",
   "id": "2575189e-26af-48c5-b06c-7565f7244741",
   "metadata": {},
   "source": [
    "# Generate Disturbance Map - by Burst"
   ]
  },
  {
   "cell_type": "markdown",
   "id": "5641a3c9-65de-4151-9f47-b10b8f5bee5e",
   "metadata": {},
   "source": [
    "# Create LUT by burst to paths"
   ]
  },
  {
   "cell_type": "code",
   "execution_count": 32,
   "id": "79f2cf22-574e-4d22-a2d3-3c2f918dadcb",
   "metadata": {},
   "outputs": [
    {
     "data": {
      "text/plain": [
       "[{'burst_id': 'T048-101162-IW3',\n",
       "  'vv_path': 'out/Helene_Sparta/rtc_ts_tv/track48/T048-101162-IW3/OPERA_L2_RTC-S1_T048-101162-IW3_20241003T233123Z_20241004T090756Z_S1A_30_v1.0_VV.tif',\n",
       "  'acq_timestamp': Timestamp('2024-10-03 23:31:23+0000', tz='UTC')},\n",
       " {'burst_id': 'T048-101162-IW2',\n",
       "  'vv_path': 'out/Helene_Sparta/rtc_ts_tv/track48/T048-101162-IW2/OPERA_L2_RTC-S1_T048-101162-IW2_20241003T233122Z_20241004T090756Z_S1A_30_v1.0_VV.tif',\n",
       "  'acq_timestamp': Timestamp('2024-10-03 23:31:22+0000', tz='UTC')},\n",
       " {'burst_id': 'T048-101161-IW3',\n",
       "  'vv_path': 'out/Helene_Sparta/rtc_ts_tv/track48/T048-101161-IW3/OPERA_L2_RTC-S1_T048-101161-IW3_20241003T233120Z_20241004T090756Z_S1A_30_v1.0_VV.tif',\n",
       "  'acq_timestamp': Timestamp('2024-10-03 23:31:20+0000', tz='UTC')}]"
      ]
     },
     "execution_count": 32,
     "metadata": {},
     "output_type": "execute_result"
    }
   ],
   "source": [
    "vv_path_data = [{'burst_id': p.parent.stem, \n",
    "                 'vv_path': str(p),\n",
    "                 'acq_timestamp': pd.to_datetime(p.stem.split('_')[4])} for p in out_paths_rtc_d if 'VV.tif' in p.name]\n",
    "vv_path_data[:3]"
   ]
  },
  {
   "cell_type": "code",
   "execution_count": 33,
   "id": "00624c88-542b-4b54-adc1-0198ee08706d",
   "metadata": {},
   "outputs": [
    {
     "data": {
      "text/plain": [
       "[{'burst_id': 'T048-101162-IW3',\n",
       "  'vh_path': 'out/Helene_Sparta/rtc_ts_tv/track48/T048-101162-IW3/OPERA_L2_RTC-S1_T048-101162-IW3_20241003T233123Z_20241004T090756Z_S1A_30_v1.0_VH.tif',\n",
       "  'acq_timestamp': Timestamp('2024-10-03 23:31:23+0000', tz='UTC')},\n",
       " {'burst_id': 'T048-101162-IW2',\n",
       "  'vh_path': 'out/Helene_Sparta/rtc_ts_tv/track48/T048-101162-IW2/OPERA_L2_RTC-S1_T048-101162-IW2_20241003T233122Z_20241004T090756Z_S1A_30_v1.0_VH.tif',\n",
       "  'acq_timestamp': Timestamp('2024-10-03 23:31:22+0000', tz='UTC')},\n",
       " {'burst_id': 'T048-101161-IW3',\n",
       "  'vh_path': 'out/Helene_Sparta/rtc_ts_tv/track48/T048-101161-IW3/OPERA_L2_RTC-S1_T048-101161-IW3_20241003T233120Z_20241004T090756Z_S1A_30_v1.0_VH.tif',\n",
       "  'acq_timestamp': Timestamp('2024-10-03 23:31:20+0000', tz='UTC')}]"
      ]
     },
     "execution_count": 33,
     "metadata": {},
     "output_type": "execute_result"
    }
   ],
   "source": [
    "vh_path_data = [{'burst_id': p.parent.stem, \n",
    "                 'vh_path': str(p),\n",
    "                 'acq_timestamp': pd.to_datetime(p.stem.split('_')[4])} for p in out_paths_rtc_d if 'VH.tif' in p.name]\n",
    "vh_path_data[:3]"
   ]
  },
  {
   "cell_type": "code",
   "execution_count": 34,
   "id": "782d6820-94f7-42bd-a85c-3155682a052e",
   "metadata": {},
   "outputs": [
    {
     "data": {
      "text/plain": [
       "True"
      ]
     },
     "execution_count": 34,
     "metadata": {},
     "output_type": "execute_result"
    }
   ],
   "source": [
    "len(vh_path_data) == df_rtc_track.shape[0]"
   ]
  },
  {
   "cell_type": "code",
   "execution_count": 35,
   "id": "1a7742db-0ef1-4bf8-b4e1-b772883aa5e5",
   "metadata": {},
   "outputs": [
    {
     "data": {
      "text/html": [
       "<div>\n",
       "<style scoped>\n",
       "    .dataframe tbody tr th:only-of-type {\n",
       "        vertical-align: middle;\n",
       "    }\n",
       "\n",
       "    .dataframe tbody tr th {\n",
       "        vertical-align: top;\n",
       "    }\n",
       "\n",
       "    .dataframe thead th {\n",
       "        text-align: right;\n",
       "    }\n",
       "</style>\n",
       "<table border=\"1\" class=\"dataframe\">\n",
       "  <thead>\n",
       "    <tr style=\"text-align: right;\">\n",
       "      <th></th>\n",
       "      <th>burst_id</th>\n",
       "      <th>acq_timestamp</th>\n",
       "      <th>date_str</th>\n",
       "      <th>vv_path</th>\n",
       "      <th>vh_path</th>\n",
       "    </tr>\n",
       "  </thead>\n",
       "  <tbody>\n",
       "    <tr>\n",
       "      <th>0</th>\n",
       "      <td>T048-101159-IW2</td>\n",
       "      <td>2024-04-06 23:31:14+00:00</td>\n",
       "      <td>2024-04-06</td>\n",
       "      <td>out/Helene_Sparta/rtc_ts_tv/track48/T048-10115...</td>\n",
       "      <td>out/Helene_Sparta/rtc_ts_tv/track48/T048-10115...</td>\n",
       "    </tr>\n",
       "    <tr>\n",
       "      <th>1</th>\n",
       "      <td>T048-101159-IW2</td>\n",
       "      <td>2024-04-18 23:31:15+00:00</td>\n",
       "      <td>2024-04-18</td>\n",
       "      <td>out/Helene_Sparta/rtc_ts_tv/track48/T048-10115...</td>\n",
       "      <td>out/Helene_Sparta/rtc_ts_tv/track48/T048-10115...</td>\n",
       "    </tr>\n",
       "    <tr>\n",
       "      <th>2</th>\n",
       "      <td>T048-101159-IW2</td>\n",
       "      <td>2024-04-30 23:31:15+00:00</td>\n",
       "      <td>2024-04-30</td>\n",
       "      <td>out/Helene_Sparta/rtc_ts_tv/track48/T048-10115...</td>\n",
       "      <td>out/Helene_Sparta/rtc_ts_tv/track48/T048-10115...</td>\n",
       "    </tr>\n",
       "    <tr>\n",
       "      <th>3</th>\n",
       "      <td>T048-101159-IW2</td>\n",
       "      <td>2024-05-12 23:31:15+00:00</td>\n",
       "      <td>2024-05-12</td>\n",
       "      <td>out/Helene_Sparta/rtc_ts_tv/track48/T048-10115...</td>\n",
       "      <td>out/Helene_Sparta/rtc_ts_tv/track48/T048-10115...</td>\n",
       "    </tr>\n",
       "    <tr>\n",
       "      <th>4</th>\n",
       "      <td>T048-101159-IW2</td>\n",
       "      <td>2024-06-29 23:31:13+00:00</td>\n",
       "      <td>2024-06-29</td>\n",
       "      <td>out/Helene_Sparta/rtc_ts_tv/track48/T048-10115...</td>\n",
       "      <td>out/Helene_Sparta/rtc_ts_tv/track48/T048-10115...</td>\n",
       "    </tr>\n",
       "  </tbody>\n",
       "</table>\n",
       "</div>"
      ],
      "text/plain": [
       "          burst_id             acq_timestamp    date_str  \\\n",
       "0  T048-101159-IW2 2024-04-06 23:31:14+00:00  2024-04-06   \n",
       "1  T048-101159-IW2 2024-04-18 23:31:15+00:00  2024-04-18   \n",
       "2  T048-101159-IW2 2024-04-30 23:31:15+00:00  2024-04-30   \n",
       "3  T048-101159-IW2 2024-05-12 23:31:15+00:00  2024-05-12   \n",
       "4  T048-101159-IW2 2024-06-29 23:31:13+00:00  2024-06-29   \n",
       "\n",
       "                                             vv_path  \\\n",
       "0  out/Helene_Sparta/rtc_ts_tv/track48/T048-10115...   \n",
       "1  out/Helene_Sparta/rtc_ts_tv/track48/T048-10115...   \n",
       "2  out/Helene_Sparta/rtc_ts_tv/track48/T048-10115...   \n",
       "3  out/Helene_Sparta/rtc_ts_tv/track48/T048-10115...   \n",
       "4  out/Helene_Sparta/rtc_ts_tv/track48/T048-10115...   \n",
       "\n",
       "                                             vh_path  \n",
       "0  out/Helene_Sparta/rtc_ts_tv/track48/T048-10115...  \n",
       "1  out/Helene_Sparta/rtc_ts_tv/track48/T048-10115...  \n",
       "2  out/Helene_Sparta/rtc_ts_tv/track48/T048-10115...  \n",
       "3  out/Helene_Sparta/rtc_ts_tv/track48/T048-10115...  \n",
       "4  out/Helene_Sparta/rtc_ts_tv/track48/T048-10115...  "
      ]
     },
     "execution_count": 35,
     "metadata": {},
     "output_type": "execute_result"
    }
   ],
   "source": [
    "df_vv = pd.DataFrame(vv_path_data)\n",
    "df_vh = pd.DataFrame(vh_path_data)\n",
    "\n",
    "df_vv['date_str'] = df_vv.acq_timestamp.dt.date.astype(str)\n",
    "df_vh['date_str'] = df_vh.acq_timestamp.dt.date.astype(str)\n",
    "df_loc_ts = pd.merge(df_vv, df_vh[['burst_id', 'date_str', 'vh_path']], on=['burst_id', 'date_str'], how='inner')\n",
    "df_loc_ts = df_loc_ts[['burst_id', 'acq_timestamp', 'date_str', 'vv_path', 'vh_path']]\n",
    "df_loc_ts = df_loc_ts.sort_values(by=['burst_id', 'acq_timestamp']).reset_index(drop=True)\n",
    "assert df_loc_ts.shape[0] == len(vh_path_data)\n",
    "df_loc_ts.head()"
   ]
  },
  {
   "cell_type": "markdown",
   "id": "c9e3dd29-f660-4a35-a34c-f04b55520c2a",
   "metadata": {},
   "source": [
    "## Metric - by Burst"
   ]
  },
  {
   "cell_type": "code",
   "execution_count": 36,
   "id": "0f2503c4-1cc7-42c0-abbe-1d033d8c46cd",
   "metadata": {},
   "outputs": [],
   "source": [
    "transformer_model = load_trained_transformer_model()"
   ]
  },
  {
   "cell_type": "code",
   "execution_count": 37,
   "id": "9fbaa066-fa48-4b31-938e-d07f16bf21d8",
   "metadata": {},
   "outputs": [
    {
     "data": {
      "text/plain": [
       "8"
      ]
     },
     "execution_count": 37,
     "metadata": {},
     "output_type": "execute_result"
    }
   ],
   "source": [
    "burst_ids_unique = df_loc_ts.burst_id.unique().tolist()\n",
    "len(burst_ids_unique)"
   ]
  },
  {
   "cell_type": "code",
   "execution_count": 38,
   "id": "fa3ba919-3746-4bc2-bf27-560cad016a5c",
   "metadata": {},
   "outputs": [],
   "source": [
    "def open_one_arr(path: Path):\n",
    "    with rasterio.open(path) as ds:\n",
    "        X = ds.read(1)\n",
    "\n",
    "    return X\n",
    "\n",
    "def compute_distmetric(burst_id: str, \n",
    "                       post_image_proximity_to_event: str = 'closest', \n",
    "                       max_pre_images: int = 10,\n",
    "                       min_pre_images: int = 2) -> np.ndarray:\n",
    "    assert post_image_proximity_to_event in ['closest', 'farthest'] # or maybe earliest or latest is better\n",
    "\n",
    "    df_ts = df_loc_ts[df_loc_ts.burst_id == burst_id].reset_index(drop=True)\n",
    "    df_post = df_ts[df_ts.acq_timestamp >= pd.Timestamp(EVENT_DATE, tz='utc')].reset_index(drop=True)\n",
    "    df_pre = df_ts[df_ts.acq_timestamp < pd.Timestamp(EVENT_DATE, tz='utc')].reset_index(drop=True)\n",
    "\n",
    "    pre_vv_paths = df_pre.vv_path[-max_pre_images:].tolist()\n",
    "    pre_vh_paths = df_pre.vh_path[-max_pre_images:].tolist()\n",
    "\n",
    "    with rasterio.open(pre_vv_paths[0]) as ds:\n",
    "        ref_profile = ds.profile\n",
    "\n",
    "    post_ind = 0 if (post_image_proximity_to_event == 'closest') else -1\n",
    "    post_vv_path = df_post.vv_path.tolist()[post_ind]\n",
    "    post_vh_path = df_post.vh_path.tolist()[post_ind]\n",
    "    post_acq_ts = df_post.acq_timestamp.tolist()[post_ind]\n",
    "    \n",
    "    if len(pre_vv_paths) < min_pre_images:\n",
    "        raise ValueError('Not enough pre-images available')\n",
    "\n",
    "    pre_arrs_vv = list(map(open_one_arr, pre_vv_paths))\n",
    "    pre_arrs_vh = list(map(open_one_arr, pre_vh_paths))\n",
    "    post_vv = open_one_arr(post_vv_path)\n",
    "    post_vh = open_one_arr(post_vh_path)\n",
    "\n",
    "    metric_ob = compute_transformer_zscore(transformer_model,\n",
    "                                        pre_arrs_vv,\n",
    "                                        pre_arrs_vh,\n",
    "                                        post_vv,\n",
    "                                        post_vh,\n",
    "                                        stride=2, \n",
    "                                        batch_size=1024,\n",
    "                                        memory_strategy='high'\n",
    "                                        )\n",
    "    return metric_ob, ref_profile, post_acq_ts"
   ]
  },
  {
   "cell_type": "code",
   "execution_count": 39,
   "id": "b03aea99-9c1b-4866-959f-55f9a29c2faa",
   "metadata": {},
   "outputs": [],
   "source": [
    "# metric, ref_profile, post_acq_ts = compute_distmetric('T150-320248-IW2')"
   ]
  },
  {
   "cell_type": "code",
   "execution_count": 40,
   "id": "711ec5a2-2984-4e8c-a32e-e094c751f3d8",
   "metadata": {},
   "outputs": [
    {
     "data": {
      "text/plain": [
       "PosixPath('out/Helene_Sparta/metrics/track48')"
      ]
     },
     "execution_count": 40,
     "metadata": {},
     "output_type": "execute_result"
    }
   ],
   "source": [
    "metric_dir = rtc_ts_dir.parents[1] / 'metrics' / f'track{TRACK_NUMBER}'\n",
    "metric_dir.mkdir(exist_ok=True, parents=True)\n",
    "metric_dir"
   ]
  },
  {
   "cell_type": "code",
   "execution_count": 63,
   "id": "ed5337bf-8137-4d1c-8fbe-f35704852449",
   "metadata": {},
   "outputs": [
    {
     "name": "stderr",
     "output_type": "stream",
     "text": [
      "[autoreload of distmetrics.transformer failed: Traceback (most recent call last):\n",
      "  File \"/u/aurora-r0/cmarshak/miniforge3/envs/dist-s1/lib/python3.12/site-packages/IPython/extensions/autoreload.py\", line 276, in check\n",
      "    superreload(m, reload, self.old_objects)\n",
      "  File \"/u/aurora-r0/cmarshak/miniforge3/envs/dist-s1/lib/python3.12/site-packages/IPython/extensions/autoreload.py\", line 500, in superreload\n",
      "    update_generic(old_obj, new_obj)\n",
      "  File \"/u/aurora-r0/cmarshak/miniforge3/envs/dist-s1/lib/python3.12/site-packages/IPython/extensions/autoreload.py\", line 397, in update_generic\n",
      "    update(a, b)\n",
      "  File \"/u/aurora-r0/cmarshak/miniforge3/envs/dist-s1/lib/python3.12/site-packages/IPython/extensions/autoreload.py\", line 309, in update_function\n",
      "    setattr(old, name, getattr(new, name))\n",
      "ValueError: estimate_normal_params_as_logits_explicit() requires a code object with 0 free vars, not 2\n",
      "]\n"
     ]
    }
   ],
   "source": [
    "def compute_metric_and_serialize(burst_id: str) -> Path:\n",
    "    metric_ob, ref_profile, post_ts = compute_distmetric(burst_id)\n",
    "    burst_metric_dir = metric_dir / burst_id\n",
    "    burst_metric_dir.mkdir(exist_ok=True, parents=True)\n",
    "    out_path = burst_metric_dir / f'transformer_{burst_id}_{str(post_ts.date())}.tif'\n",
    "\n",
    "    dist = metric_ob.dist\n",
    "    with rasterio.open(out_path, 'w', **ref_profile) as ds:\n",
    "        ds.write(dist, 1)\n",
    "    return out_path"
   ]
  },
  {
   "cell_type": "code",
   "execution_count": 64,
   "id": "4af07787-ce81-4d8f-b01d-6595652c1e8d",
   "metadata": {},
   "outputs": [
    {
     "name": "stderr",
     "output_type": "stream",
     "text": [
      "burst_id:   0%|                                          | 0/8 [00:00<?, ?it/s]\n",
      "Chips Traversed:   0%|                                | 0/1246 [00:00<?, ?it/s]\u001b[A\n",
      "Chips Traversed:  18%|███▊                 | 223/1246 [00:02<00:09, 111.25it/s]\u001b[A\n",
      "Chips Traversed:  37%|███████▊             | 467/1246 [00:04<00:07, 105.82it/s]\u001b[A\n",
      "burst_id:   0%|                                          | 0/8 [00:13<?, ?it/s]\n"
     ]
    },
    {
     "ename": "KeyboardInterrupt",
     "evalue": "",
     "output_type": "error",
     "traceback": [
      "\u001b[0;31m---------------------------------------------------------------------------\u001b[0m",
      "\u001b[0;31mKeyboardInterrupt\u001b[0m                         Traceback (most recent call last)",
      "Cell \u001b[0;32mIn[64], line 1\u001b[0m\n\u001b[0;32m----> 1\u001b[0m metric_paths \u001b[38;5;241m=\u001b[39m \u001b[38;5;28;43mlist\u001b[39;49m\u001b[43m(\u001b[49m\u001b[38;5;28;43mmap\u001b[39;49m\u001b[43m(\u001b[49m\u001b[43mcompute_metric_and_serialize\u001b[49m\u001b[43m,\u001b[49m\u001b[43m \u001b[49m\u001b[43mtqdm\u001b[49m\u001b[43m(\u001b[49m\u001b[43mburst_ids_unique\u001b[49m\u001b[43m,\u001b[49m\u001b[43m \u001b[49m\u001b[43mdesc\u001b[49m\u001b[38;5;241;43m=\u001b[39;49m\u001b[38;5;124;43m'\u001b[39;49m\u001b[38;5;124;43mburst_id\u001b[39;49m\u001b[38;5;124;43m'\u001b[39;49m\u001b[43m)\u001b[49m\u001b[43m)\u001b[49m\u001b[43m)\u001b[49m\n",
      "Cell \u001b[0;32mIn[63], line 2\u001b[0m, in \u001b[0;36mcompute_metric_and_serialize\u001b[0;34m(burst_id)\u001b[0m\n\u001b[1;32m      1\u001b[0m \u001b[38;5;28;01mdef\u001b[39;00m \u001b[38;5;21mcompute_metric_and_serialize\u001b[39m(burst_id: \u001b[38;5;28mstr\u001b[39m) \u001b[38;5;241m-\u001b[39m\u001b[38;5;241m>\u001b[39m Path:\n\u001b[0;32m----> 2\u001b[0m     metric_ob, ref_profile, post_ts \u001b[38;5;241m=\u001b[39m \u001b[43mcompute_distmetric\u001b[49m\u001b[43m(\u001b[49m\u001b[43mburst_id\u001b[49m\u001b[43m)\u001b[49m\n\u001b[1;32m      3\u001b[0m     burst_metric_dir \u001b[38;5;241m=\u001b[39m metric_dir \u001b[38;5;241m/\u001b[39m burst_id\n\u001b[1;32m      4\u001b[0m     burst_metric_dir\u001b[38;5;241m.\u001b[39mmkdir(exist_ok\u001b[38;5;241m=\u001b[39m\u001b[38;5;28;01mTrue\u001b[39;00m, parents\u001b[38;5;241m=\u001b[39m\u001b[38;5;28;01mTrue\u001b[39;00m)\n",
      "Cell \u001b[0;32mIn[38], line 36\u001b[0m, in \u001b[0;36mcompute_distmetric\u001b[0;34m(burst_id, post_image_proximity_to_event, max_pre_images, min_pre_images)\u001b[0m\n\u001b[1;32m     33\u001b[0m post_vv \u001b[38;5;241m=\u001b[39m open_one_arr(post_vv_path)\n\u001b[1;32m     34\u001b[0m post_vh \u001b[38;5;241m=\u001b[39m open_one_arr(post_vh_path)\n\u001b[0;32m---> 36\u001b[0m metric_ob \u001b[38;5;241m=\u001b[39m \u001b[43mcompute_transformer_zscore\u001b[49m\u001b[43m(\u001b[49m\u001b[43mtransformer_model\u001b[49m\u001b[43m,\u001b[49m\n\u001b[1;32m     37\u001b[0m \u001b[43m                                    \u001b[49m\u001b[43mpre_arrs_vv\u001b[49m\u001b[43m,\u001b[49m\n\u001b[1;32m     38\u001b[0m \u001b[43m                                    \u001b[49m\u001b[43mpre_arrs_vh\u001b[49m\u001b[43m,\u001b[49m\n\u001b[1;32m     39\u001b[0m \u001b[43m                                    \u001b[49m\u001b[43mpost_vv\u001b[49m\u001b[43m,\u001b[49m\n\u001b[1;32m     40\u001b[0m \u001b[43m                                    \u001b[49m\u001b[43mpost_vh\u001b[49m\u001b[43m,\u001b[49m\n\u001b[1;32m     41\u001b[0m \u001b[43m                                    \u001b[49m\u001b[43mstride\u001b[49m\u001b[38;5;241;43m=\u001b[39;49m\u001b[38;5;241;43m2\u001b[39;49m\u001b[43m,\u001b[49m\u001b[43m \u001b[49m\n\u001b[1;32m     42\u001b[0m \u001b[43m                                    \u001b[49m\u001b[43mbatch_size\u001b[49m\u001b[38;5;241;43m=\u001b[39;49m\u001b[38;5;241;43m1024\u001b[39;49m\u001b[43m,\u001b[49m\n\u001b[1;32m     43\u001b[0m \u001b[43m                                    \u001b[49m\u001b[43mmemory_strategy\u001b[49m\u001b[38;5;241;43m=\u001b[39;49m\u001b[38;5;124;43m'\u001b[39;49m\u001b[38;5;124;43mhigh\u001b[39;49m\u001b[38;5;124;43m'\u001b[39;49m\n\u001b[1;32m     44\u001b[0m \u001b[43m                                    \u001b[49m\u001b[43m)\u001b[49m\n\u001b[1;32m     45\u001b[0m \u001b[38;5;28;01mreturn\u001b[39;00m metric_ob, ref_profile, post_acq_ts\n",
      "File \u001b[0;32m/u/aurora-r0/cmarshak/distmetrics/src/distmetrics/transformer.py:678\u001b[0m, in \u001b[0;36mcompute_transformer_zscore\u001b[0;34m(model, pre_imgs_vv, pre_imgs_vh, post_arr_vv, post_arr_vh, stride, batch_size, tqdm_enabled, agg, memory_strategy)\u001b[0m\n\u001b[1;32m    671\u001b[0m     agg = np.max\n\u001b[1;32m    673\u001b[0m post_arr_logit_s = logit(np.stack([post_arr_vv, post_arr_vh], axis=0))\n\u001b[1;32m    674\u001b[0m compute_logits = (\n\u001b[1;32m    675\u001b[0m     estimate_normal_params_as_logits_folding\n\u001b[1;32m    676\u001b[0m     if memory_strategy == 'high'\n\u001b[1;32m    677\u001b[0m     else estimate_normal_params_as_logits_folding_alt\n\u001b[0;32m--> 678\u001b[0m )\n\u001b[1;32m    679\u001b[0m mu, sigma = compute_logits(\n\u001b[1;32m    680\u001b[0m     model, pre_imgs_vv, pre_imgs_vh, stride=stride, batch_size=batch_size, tqdm_enabled=tqdm_enabled\n\u001b[1;32m    681\u001b[0m )\n\u001b[1;32m    682\u001b[0m z_score_dual = np.abs(post_arr_logit_s - mu) / sigma\n",
      "File \u001b[0;32m/u/aurora-r0/cmarshak/miniforge3/envs/dist-s1/lib/python3.12/site-packages/torch/utils/_contextlib.py:115\u001b[0m, in \u001b[0;36mcontext_decorator.<locals>.decorate_context\u001b[0;34m(*args, **kwargs)\u001b[0m\n\u001b[1;32m    112\u001b[0m \u001b[38;5;129m@functools\u001b[39m\u001b[38;5;241m.\u001b[39mwraps(func)\n\u001b[1;32m    113\u001b[0m \u001b[38;5;28;01mdef\u001b[39;00m \u001b[38;5;21mdecorate_context\u001b[39m(\u001b[38;5;241m*\u001b[39margs, \u001b[38;5;241m*\u001b[39m\u001b[38;5;241m*\u001b[39mkwargs):\n\u001b[1;32m    114\u001b[0m     \u001b[38;5;28;01mwith\u001b[39;00m ctx_factory():\n\u001b[0;32m--> 115\u001b[0m         \u001b[38;5;28;01mreturn\u001b[39;00m \u001b[43mfunc\u001b[49m\u001b[43m(\u001b[49m\u001b[38;5;241;43m*\u001b[39;49m\u001b[43margs\u001b[49m\u001b[43m,\u001b[49m\u001b[43m \u001b[49m\u001b[38;5;241;43m*\u001b[39;49m\u001b[38;5;241;43m*\u001b[39;49m\u001b[43mkwargs\u001b[49m\u001b[43m)\u001b[49m\n",
      "File \u001b[0;32m/u/aurora-r0/cmarshak/distmetrics/src/distmetrics/transformer.py:484\u001b[0m, in \u001b[0;36mestimate_normal_params_as_logits_folding\u001b[0;34m(model, pre_imgs_vv, pre_imgs_vh, stride, batch_size, tqdm_enabled)\u001b[0m\n\u001b[1;32m    481\u001b[0m \u001b[38;5;28;01mfor\u001b[39;00m i \u001b[38;5;129;01min\u001b[39;00m tqdm(\u001b[38;5;28mrange\u001b[39m(n_batches), desc\u001b[38;5;241m=\u001b[39m\u001b[38;5;124m'\u001b[39m\u001b[38;5;124mChips Traversed\u001b[39m\u001b[38;5;124m'\u001b[39m, mininterval\u001b[38;5;241m=\u001b[39m\u001b[38;5;241m2\u001b[39m, disable\u001b[38;5;241m=\u001b[39m(\u001b[38;5;129;01mnot\u001b[39;00m tqdm_enabled)):\n\u001b[1;32m    482\u001b[0m     \u001b[38;5;66;03m# change last dimension from P**2 to P, P; use -1 because won't always have batch_size as 0th dimension\u001b[39;00m\n\u001b[1;32m    483\u001b[0m     patch_batch \u001b[38;5;241m=\u001b[39m patches[batch_size \u001b[38;5;241m*\u001b[39m i : batch_size \u001b[38;5;241m*\u001b[39m (i \u001b[38;5;241m+\u001b[39m \u001b[38;5;241m1\u001b[39m), \u001b[38;5;241m.\u001b[39m\u001b[38;5;241m.\u001b[39m\u001b[38;5;241m.\u001b[39m]\u001b[38;5;241m.\u001b[39mview(\u001b[38;5;241m-\u001b[39m\u001b[38;5;241m1\u001b[39m, T, C, P, P)\n\u001b[0;32m--> 484\u001b[0m     chip_mean, chip_logvar \u001b[38;5;241m=\u001b[39m \u001b[43mmodel\u001b[49m\u001b[43m(\u001b[49m\u001b[43mpatch_batch\u001b[49m\u001b[43m)\u001b[49m\n\u001b[1;32m    485\u001b[0m     pred_means_p[batch_size \u001b[38;5;241m*\u001b[39m i : batch_size \u001b[38;5;241m*\u001b[39m (i \u001b[38;5;241m+\u001b[39m \u001b[38;5;241m1\u001b[39m), \u001b[38;5;241m.\u001b[39m\u001b[38;5;241m.\u001b[39m\u001b[38;5;241m.\u001b[39m] \u001b[38;5;241m+\u001b[39m\u001b[38;5;241m=\u001b[39m chip_mean\n\u001b[1;32m    486\u001b[0m     pred_logvars_p[batch_size \u001b[38;5;241m*\u001b[39m i : batch_size \u001b[38;5;241m*\u001b[39m (i \u001b[38;5;241m+\u001b[39m \u001b[38;5;241m1\u001b[39m), \u001b[38;5;241m.\u001b[39m\u001b[38;5;241m.\u001b[39m\u001b[38;5;241m.\u001b[39m] \u001b[38;5;241m+\u001b[39m\u001b[38;5;241m=\u001b[39m chip_logvar\n",
      "File \u001b[0;32m/u/aurora-r0/cmarshak/miniforge3/envs/dist-s1/lib/python3.12/site-packages/torch/nn/modules/module.py:1532\u001b[0m, in \u001b[0;36mModule._wrapped_call_impl\u001b[0;34m(self, *args, **kwargs)\u001b[0m\n\u001b[1;32m   1530\u001b[0m     \u001b[38;5;28;01mreturn\u001b[39;00m \u001b[38;5;28mself\u001b[39m\u001b[38;5;241m.\u001b[39m_compiled_call_impl(\u001b[38;5;241m*\u001b[39margs, \u001b[38;5;241m*\u001b[39m\u001b[38;5;241m*\u001b[39mkwargs)  \u001b[38;5;66;03m# type: ignore[misc]\u001b[39;00m\n\u001b[1;32m   1531\u001b[0m \u001b[38;5;28;01melse\u001b[39;00m:\n\u001b[0;32m-> 1532\u001b[0m     \u001b[38;5;28;01mreturn\u001b[39;00m \u001b[38;5;28;43mself\u001b[39;49m\u001b[38;5;241;43m.\u001b[39;49m\u001b[43m_call_impl\u001b[49m\u001b[43m(\u001b[49m\u001b[38;5;241;43m*\u001b[39;49m\u001b[43margs\u001b[49m\u001b[43m,\u001b[49m\u001b[43m \u001b[49m\u001b[38;5;241;43m*\u001b[39;49m\u001b[38;5;241;43m*\u001b[39;49m\u001b[43mkwargs\u001b[49m\u001b[43m)\u001b[49m\n",
      "File \u001b[0;32m/u/aurora-r0/cmarshak/miniforge3/envs/dist-s1/lib/python3.12/site-packages/torch/nn/modules/module.py:1541\u001b[0m, in \u001b[0;36mModule._call_impl\u001b[0;34m(self, *args, **kwargs)\u001b[0m\n\u001b[1;32m   1536\u001b[0m \u001b[38;5;66;03m# If we don't have any hooks, we want to skip the rest of the logic in\u001b[39;00m\n\u001b[1;32m   1537\u001b[0m \u001b[38;5;66;03m# this function, and just call forward.\u001b[39;00m\n\u001b[1;32m   1538\u001b[0m \u001b[38;5;28;01mif\u001b[39;00m \u001b[38;5;129;01mnot\u001b[39;00m (\u001b[38;5;28mself\u001b[39m\u001b[38;5;241m.\u001b[39m_backward_hooks \u001b[38;5;129;01mor\u001b[39;00m \u001b[38;5;28mself\u001b[39m\u001b[38;5;241m.\u001b[39m_backward_pre_hooks \u001b[38;5;129;01mor\u001b[39;00m \u001b[38;5;28mself\u001b[39m\u001b[38;5;241m.\u001b[39m_forward_hooks \u001b[38;5;129;01mor\u001b[39;00m \u001b[38;5;28mself\u001b[39m\u001b[38;5;241m.\u001b[39m_forward_pre_hooks\n\u001b[1;32m   1539\u001b[0m         \u001b[38;5;129;01mor\u001b[39;00m _global_backward_pre_hooks \u001b[38;5;129;01mor\u001b[39;00m _global_backward_hooks\n\u001b[1;32m   1540\u001b[0m         \u001b[38;5;129;01mor\u001b[39;00m _global_forward_hooks \u001b[38;5;129;01mor\u001b[39;00m _global_forward_pre_hooks):\n\u001b[0;32m-> 1541\u001b[0m     \u001b[38;5;28;01mreturn\u001b[39;00m \u001b[43mforward_call\u001b[49m\u001b[43m(\u001b[49m\u001b[38;5;241;43m*\u001b[39;49m\u001b[43margs\u001b[49m\u001b[43m,\u001b[49m\u001b[43m \u001b[49m\u001b[38;5;241;43m*\u001b[39;49m\u001b[38;5;241;43m*\u001b[39;49m\u001b[43mkwargs\u001b[49m\u001b[43m)\u001b[49m\n\u001b[1;32m   1543\u001b[0m \u001b[38;5;28;01mtry\u001b[39;00m:\n\u001b[1;32m   1544\u001b[0m     result \u001b[38;5;241m=\u001b[39m \u001b[38;5;28;01mNone\u001b[39;00m\n",
      "File \u001b[0;32m/u/aurora-r0/cmarshak/distmetrics/src/distmetrics/transformer.py:156\u001b[0m, in \u001b[0;36mSpatioTemporalTransformer.forward\u001b[0;34m(self, src)\u001b[0m\n\u001b[1;32m    148\u001b[0m src \u001b[38;5;241m=\u001b[39m src\u001b[38;5;241m.\u001b[39mview(\n\u001b[1;32m    149\u001b[0m     batch_size, seq_len \u001b[38;5;241m*\u001b[39m \u001b[38;5;28mself\u001b[39m\u001b[38;5;241m.\u001b[39mnum_patches, \u001b[38;5;28mself\u001b[39m\u001b[38;5;241m.\u001b[39md_model\n\u001b[1;32m    150\u001b[0m )  \u001b[38;5;66;03m# transformer expects (batch_size, sequence, dmodel)\u001b[39;00m\n\u001b[1;32m    152\u001b[0m \u001b[38;5;66;03m# Pass through the transformer encoder with causal masking\u001b[39;00m\n\u001b[1;32m    153\u001b[0m \u001b[38;5;66;03m# mask = nn.Transformer.generate_square_subsequent_mask(seq_len).to(src.device)\u001b[39;00m\n\u001b[1;32m    154\u001b[0m \u001b[38;5;66;03m# mask = mask.repeat(self.num_patches, self.num_patches)\u001b[39;00m\n\u001b[0;32m--> 156\u001b[0m output \u001b[38;5;241m=\u001b[39m \u001b[38;5;28;43mself\u001b[39;49m\u001b[38;5;241;43m.\u001b[39;49m\u001b[43mtransformer_encoder\u001b[49m\u001b[43m(\u001b[49m\u001b[43msrc\u001b[49m\u001b[43m)\u001b[49m  \u001b[38;5;66;03m# , mask=mask, is_causal=True) # is_causal makes this masked attention\u001b[39;00m\n\u001b[1;32m    158\u001b[0m mean \u001b[38;5;241m=\u001b[39m \u001b[38;5;28mself\u001b[39m\u001b[38;5;241m.\u001b[39mmean_out(output)  \u001b[38;5;66;03m# batchsize, seq_len*num_patches, data_dim\u001b[39;00m\n\u001b[1;32m    159\u001b[0m logvar \u001b[38;5;241m=\u001b[39m \u001b[38;5;28mself\u001b[39m\u001b[38;5;241m.\u001b[39mlogvar_out(output)  \u001b[38;5;66;03m# batchsize, seq_len*num_patches, 2*data_dim\u001b[39;00m\n",
      "File \u001b[0;32m/u/aurora-r0/cmarshak/miniforge3/envs/dist-s1/lib/python3.12/site-packages/torch/nn/modules/module.py:1532\u001b[0m, in \u001b[0;36mModule._wrapped_call_impl\u001b[0;34m(self, *args, **kwargs)\u001b[0m\n\u001b[1;32m   1530\u001b[0m     \u001b[38;5;28;01mreturn\u001b[39;00m \u001b[38;5;28mself\u001b[39m\u001b[38;5;241m.\u001b[39m_compiled_call_impl(\u001b[38;5;241m*\u001b[39margs, \u001b[38;5;241m*\u001b[39m\u001b[38;5;241m*\u001b[39mkwargs)  \u001b[38;5;66;03m# type: ignore[misc]\u001b[39;00m\n\u001b[1;32m   1531\u001b[0m \u001b[38;5;28;01melse\u001b[39;00m:\n\u001b[0;32m-> 1532\u001b[0m     \u001b[38;5;28;01mreturn\u001b[39;00m \u001b[38;5;28;43mself\u001b[39;49m\u001b[38;5;241;43m.\u001b[39;49m\u001b[43m_call_impl\u001b[49m\u001b[43m(\u001b[49m\u001b[38;5;241;43m*\u001b[39;49m\u001b[43margs\u001b[49m\u001b[43m,\u001b[49m\u001b[43m \u001b[49m\u001b[38;5;241;43m*\u001b[39;49m\u001b[38;5;241;43m*\u001b[39;49m\u001b[43mkwargs\u001b[49m\u001b[43m)\u001b[49m\n",
      "File \u001b[0;32m/u/aurora-r0/cmarshak/miniforge3/envs/dist-s1/lib/python3.12/site-packages/torch/nn/modules/module.py:1541\u001b[0m, in \u001b[0;36mModule._call_impl\u001b[0;34m(self, *args, **kwargs)\u001b[0m\n\u001b[1;32m   1536\u001b[0m \u001b[38;5;66;03m# If we don't have any hooks, we want to skip the rest of the logic in\u001b[39;00m\n\u001b[1;32m   1537\u001b[0m \u001b[38;5;66;03m# this function, and just call forward.\u001b[39;00m\n\u001b[1;32m   1538\u001b[0m \u001b[38;5;28;01mif\u001b[39;00m \u001b[38;5;129;01mnot\u001b[39;00m (\u001b[38;5;28mself\u001b[39m\u001b[38;5;241m.\u001b[39m_backward_hooks \u001b[38;5;129;01mor\u001b[39;00m \u001b[38;5;28mself\u001b[39m\u001b[38;5;241m.\u001b[39m_backward_pre_hooks \u001b[38;5;129;01mor\u001b[39;00m \u001b[38;5;28mself\u001b[39m\u001b[38;5;241m.\u001b[39m_forward_hooks \u001b[38;5;129;01mor\u001b[39;00m \u001b[38;5;28mself\u001b[39m\u001b[38;5;241m.\u001b[39m_forward_pre_hooks\n\u001b[1;32m   1539\u001b[0m         \u001b[38;5;129;01mor\u001b[39;00m _global_backward_pre_hooks \u001b[38;5;129;01mor\u001b[39;00m _global_backward_hooks\n\u001b[1;32m   1540\u001b[0m         \u001b[38;5;129;01mor\u001b[39;00m _global_forward_hooks \u001b[38;5;129;01mor\u001b[39;00m _global_forward_pre_hooks):\n\u001b[0;32m-> 1541\u001b[0m     \u001b[38;5;28;01mreturn\u001b[39;00m \u001b[43mforward_call\u001b[49m\u001b[43m(\u001b[49m\u001b[38;5;241;43m*\u001b[39;49m\u001b[43margs\u001b[49m\u001b[43m,\u001b[49m\u001b[43m \u001b[49m\u001b[38;5;241;43m*\u001b[39;49m\u001b[38;5;241;43m*\u001b[39;49m\u001b[43mkwargs\u001b[49m\u001b[43m)\u001b[49m\n\u001b[1;32m   1543\u001b[0m \u001b[38;5;28;01mtry\u001b[39;00m:\n\u001b[1;32m   1544\u001b[0m     result \u001b[38;5;241m=\u001b[39m \u001b[38;5;28;01mNone\u001b[39;00m\n",
      "File \u001b[0;32m/u/aurora-r0/cmarshak/miniforge3/envs/dist-s1/lib/python3.12/site-packages/torch/nn/modules/transformer.py:415\u001b[0m, in \u001b[0;36mTransformerEncoder.forward\u001b[0;34m(self, src, mask, src_key_padding_mask, is_causal)\u001b[0m\n\u001b[1;32m    412\u001b[0m is_causal \u001b[38;5;241m=\u001b[39m _detect_is_causal_mask(mask, is_causal, seq_len)\n\u001b[1;32m    414\u001b[0m \u001b[38;5;28;01mfor\u001b[39;00m mod \u001b[38;5;129;01min\u001b[39;00m \u001b[38;5;28mself\u001b[39m\u001b[38;5;241m.\u001b[39mlayers:\n\u001b[0;32m--> 415\u001b[0m     output \u001b[38;5;241m=\u001b[39m \u001b[43mmod\u001b[49m\u001b[43m(\u001b[49m\u001b[43moutput\u001b[49m\u001b[43m,\u001b[49m\u001b[43m \u001b[49m\u001b[43msrc_mask\u001b[49m\u001b[38;5;241;43m=\u001b[39;49m\u001b[43mmask\u001b[49m\u001b[43m,\u001b[49m\u001b[43m \u001b[49m\u001b[43mis_causal\u001b[49m\u001b[38;5;241;43m=\u001b[39;49m\u001b[43mis_causal\u001b[49m\u001b[43m,\u001b[49m\u001b[43m \u001b[49m\u001b[43msrc_key_padding_mask\u001b[49m\u001b[38;5;241;43m=\u001b[39;49m\u001b[43msrc_key_padding_mask_for_layers\u001b[49m\u001b[43m)\u001b[49m\n\u001b[1;32m    417\u001b[0m \u001b[38;5;28;01mif\u001b[39;00m convert_to_nested:\n\u001b[1;32m    418\u001b[0m     output \u001b[38;5;241m=\u001b[39m output\u001b[38;5;241m.\u001b[39mto_padded_tensor(\u001b[38;5;241m0.\u001b[39m, src\u001b[38;5;241m.\u001b[39msize())\n",
      "File \u001b[0;32m/u/aurora-r0/cmarshak/miniforge3/envs/dist-s1/lib/python3.12/site-packages/torch/nn/modules/module.py:1532\u001b[0m, in \u001b[0;36mModule._wrapped_call_impl\u001b[0;34m(self, *args, **kwargs)\u001b[0m\n\u001b[1;32m   1530\u001b[0m     \u001b[38;5;28;01mreturn\u001b[39;00m \u001b[38;5;28mself\u001b[39m\u001b[38;5;241m.\u001b[39m_compiled_call_impl(\u001b[38;5;241m*\u001b[39margs, \u001b[38;5;241m*\u001b[39m\u001b[38;5;241m*\u001b[39mkwargs)  \u001b[38;5;66;03m# type: ignore[misc]\u001b[39;00m\n\u001b[1;32m   1531\u001b[0m \u001b[38;5;28;01melse\u001b[39;00m:\n\u001b[0;32m-> 1532\u001b[0m     \u001b[38;5;28;01mreturn\u001b[39;00m \u001b[38;5;28;43mself\u001b[39;49m\u001b[38;5;241;43m.\u001b[39;49m\u001b[43m_call_impl\u001b[49m\u001b[43m(\u001b[49m\u001b[38;5;241;43m*\u001b[39;49m\u001b[43margs\u001b[49m\u001b[43m,\u001b[49m\u001b[43m \u001b[49m\u001b[38;5;241;43m*\u001b[39;49m\u001b[38;5;241;43m*\u001b[39;49m\u001b[43mkwargs\u001b[49m\u001b[43m)\u001b[49m\n",
      "File \u001b[0;32m/u/aurora-r0/cmarshak/miniforge3/envs/dist-s1/lib/python3.12/site-packages/torch/nn/modules/module.py:1541\u001b[0m, in \u001b[0;36mModule._call_impl\u001b[0;34m(self, *args, **kwargs)\u001b[0m\n\u001b[1;32m   1536\u001b[0m \u001b[38;5;66;03m# If we don't have any hooks, we want to skip the rest of the logic in\u001b[39;00m\n\u001b[1;32m   1537\u001b[0m \u001b[38;5;66;03m# this function, and just call forward.\u001b[39;00m\n\u001b[1;32m   1538\u001b[0m \u001b[38;5;28;01mif\u001b[39;00m \u001b[38;5;129;01mnot\u001b[39;00m (\u001b[38;5;28mself\u001b[39m\u001b[38;5;241m.\u001b[39m_backward_hooks \u001b[38;5;129;01mor\u001b[39;00m \u001b[38;5;28mself\u001b[39m\u001b[38;5;241m.\u001b[39m_backward_pre_hooks \u001b[38;5;129;01mor\u001b[39;00m \u001b[38;5;28mself\u001b[39m\u001b[38;5;241m.\u001b[39m_forward_hooks \u001b[38;5;129;01mor\u001b[39;00m \u001b[38;5;28mself\u001b[39m\u001b[38;5;241m.\u001b[39m_forward_pre_hooks\n\u001b[1;32m   1539\u001b[0m         \u001b[38;5;129;01mor\u001b[39;00m _global_backward_pre_hooks \u001b[38;5;129;01mor\u001b[39;00m _global_backward_hooks\n\u001b[1;32m   1540\u001b[0m         \u001b[38;5;129;01mor\u001b[39;00m _global_forward_hooks \u001b[38;5;129;01mor\u001b[39;00m _global_forward_pre_hooks):\n\u001b[0;32m-> 1541\u001b[0m     \u001b[38;5;28;01mreturn\u001b[39;00m \u001b[43mforward_call\u001b[49m\u001b[43m(\u001b[49m\u001b[38;5;241;43m*\u001b[39;49m\u001b[43margs\u001b[49m\u001b[43m,\u001b[49m\u001b[43m \u001b[49m\u001b[38;5;241;43m*\u001b[39;49m\u001b[38;5;241;43m*\u001b[39;49m\u001b[43mkwargs\u001b[49m\u001b[43m)\u001b[49m\n\u001b[1;32m   1543\u001b[0m \u001b[38;5;28;01mtry\u001b[39;00m:\n\u001b[1;32m   1544\u001b[0m     result \u001b[38;5;241m=\u001b[39m \u001b[38;5;28;01mNone\u001b[39;00m\n",
      "File \u001b[0;32m/u/aurora-r0/cmarshak/miniforge3/envs/dist-s1/lib/python3.12/site-packages/torch/nn/modules/transformer.py:720\u001b[0m, in \u001b[0;36mTransformerEncoderLayer.forward\u001b[0;34m(self, src, src_mask, src_key_padding_mask, is_causal)\u001b[0m\n\u001b[1;32m    718\u001b[0m     \u001b[38;5;28;01mif\u001b[39;00m \u001b[38;5;129;01mnot\u001b[39;00m why_not_sparsity_fast_path:\n\u001b[1;32m    719\u001b[0m         merged_mask, mask_type \u001b[38;5;241m=\u001b[39m \u001b[38;5;28mself\u001b[39m\u001b[38;5;241m.\u001b[39mself_attn\u001b[38;5;241m.\u001b[39mmerge_masks(src_mask, src_key_padding_mask, src)\n\u001b[0;32m--> 720\u001b[0m         \u001b[38;5;28;01mreturn\u001b[39;00m \u001b[43mtorch\u001b[49m\u001b[38;5;241;43m.\u001b[39;49m\u001b[43m_transformer_encoder_layer_fwd\u001b[49m\u001b[43m(\u001b[49m\n\u001b[1;32m    721\u001b[0m \u001b[43m            \u001b[49m\u001b[43msrc\u001b[49m\u001b[43m,\u001b[49m\n\u001b[1;32m    722\u001b[0m \u001b[43m            \u001b[49m\u001b[38;5;28;43mself\u001b[39;49m\u001b[38;5;241;43m.\u001b[39;49m\u001b[43mself_attn\u001b[49m\u001b[38;5;241;43m.\u001b[39;49m\u001b[43membed_dim\u001b[49m\u001b[43m,\u001b[49m\n\u001b[1;32m    723\u001b[0m \u001b[43m            \u001b[49m\u001b[38;5;28;43mself\u001b[39;49m\u001b[38;5;241;43m.\u001b[39;49m\u001b[43mself_attn\u001b[49m\u001b[38;5;241;43m.\u001b[39;49m\u001b[43mnum_heads\u001b[49m\u001b[43m,\u001b[49m\n\u001b[1;32m    724\u001b[0m \u001b[43m            \u001b[49m\u001b[38;5;28;43mself\u001b[39;49m\u001b[38;5;241;43m.\u001b[39;49m\u001b[43mself_attn\u001b[49m\u001b[38;5;241;43m.\u001b[39;49m\u001b[43min_proj_weight\u001b[49m\u001b[43m,\u001b[49m\n\u001b[1;32m    725\u001b[0m \u001b[43m            \u001b[49m\u001b[38;5;28;43mself\u001b[39;49m\u001b[38;5;241;43m.\u001b[39;49m\u001b[43mself_attn\u001b[49m\u001b[38;5;241;43m.\u001b[39;49m\u001b[43min_proj_bias\u001b[49m\u001b[43m,\u001b[49m\n\u001b[1;32m    726\u001b[0m \u001b[43m            \u001b[49m\u001b[38;5;28;43mself\u001b[39;49m\u001b[38;5;241;43m.\u001b[39;49m\u001b[43mself_attn\u001b[49m\u001b[38;5;241;43m.\u001b[39;49m\u001b[43mout_proj\u001b[49m\u001b[38;5;241;43m.\u001b[39;49m\u001b[43mweight\u001b[49m\u001b[43m,\u001b[49m\n\u001b[1;32m    727\u001b[0m \u001b[43m            \u001b[49m\u001b[38;5;28;43mself\u001b[39;49m\u001b[38;5;241;43m.\u001b[39;49m\u001b[43mself_attn\u001b[49m\u001b[38;5;241;43m.\u001b[39;49m\u001b[43mout_proj\u001b[49m\u001b[38;5;241;43m.\u001b[39;49m\u001b[43mbias\u001b[49m\u001b[43m,\u001b[49m\n\u001b[1;32m    728\u001b[0m \u001b[43m            \u001b[49m\u001b[38;5;28;43mself\u001b[39;49m\u001b[38;5;241;43m.\u001b[39;49m\u001b[43mactivation_relu_or_gelu\u001b[49m\u001b[43m \u001b[49m\u001b[38;5;241;43m==\u001b[39;49m\u001b[43m \u001b[49m\u001b[38;5;241;43m2\u001b[39;49m\u001b[43m,\u001b[49m\n\u001b[1;32m    729\u001b[0m \u001b[43m            \u001b[49m\u001b[38;5;28;43mself\u001b[39;49m\u001b[38;5;241;43m.\u001b[39;49m\u001b[43mnorm_first\u001b[49m\u001b[43m,\u001b[49m\n\u001b[1;32m    730\u001b[0m \u001b[43m            \u001b[49m\u001b[38;5;28;43mself\u001b[39;49m\u001b[38;5;241;43m.\u001b[39;49m\u001b[43mnorm1\u001b[49m\u001b[38;5;241;43m.\u001b[39;49m\u001b[43meps\u001b[49m\u001b[43m,\u001b[49m\n\u001b[1;32m    731\u001b[0m \u001b[43m            \u001b[49m\u001b[38;5;28;43mself\u001b[39;49m\u001b[38;5;241;43m.\u001b[39;49m\u001b[43mnorm1\u001b[49m\u001b[38;5;241;43m.\u001b[39;49m\u001b[43mweight\u001b[49m\u001b[43m,\u001b[49m\n\u001b[1;32m    732\u001b[0m \u001b[43m            \u001b[49m\u001b[38;5;28;43mself\u001b[39;49m\u001b[38;5;241;43m.\u001b[39;49m\u001b[43mnorm1\u001b[49m\u001b[38;5;241;43m.\u001b[39;49m\u001b[43mbias\u001b[49m\u001b[43m,\u001b[49m\n\u001b[1;32m    733\u001b[0m \u001b[43m            \u001b[49m\u001b[38;5;28;43mself\u001b[39;49m\u001b[38;5;241;43m.\u001b[39;49m\u001b[43mnorm2\u001b[49m\u001b[38;5;241;43m.\u001b[39;49m\u001b[43mweight\u001b[49m\u001b[43m,\u001b[49m\n\u001b[1;32m    734\u001b[0m \u001b[43m            \u001b[49m\u001b[38;5;28;43mself\u001b[39;49m\u001b[38;5;241;43m.\u001b[39;49m\u001b[43mnorm2\u001b[49m\u001b[38;5;241;43m.\u001b[39;49m\u001b[43mbias\u001b[49m\u001b[43m,\u001b[49m\n\u001b[1;32m    735\u001b[0m \u001b[43m            \u001b[49m\u001b[38;5;28;43mself\u001b[39;49m\u001b[38;5;241;43m.\u001b[39;49m\u001b[43mlinear1\u001b[49m\u001b[38;5;241;43m.\u001b[39;49m\u001b[43mweight\u001b[49m\u001b[43m,\u001b[49m\n\u001b[1;32m    736\u001b[0m \u001b[43m            \u001b[49m\u001b[38;5;28;43mself\u001b[39;49m\u001b[38;5;241;43m.\u001b[39;49m\u001b[43mlinear1\u001b[49m\u001b[38;5;241;43m.\u001b[39;49m\u001b[43mbias\u001b[49m\u001b[43m,\u001b[49m\n\u001b[1;32m    737\u001b[0m \u001b[43m            \u001b[49m\u001b[38;5;28;43mself\u001b[39;49m\u001b[38;5;241;43m.\u001b[39;49m\u001b[43mlinear2\u001b[49m\u001b[38;5;241;43m.\u001b[39;49m\u001b[43mweight\u001b[49m\u001b[43m,\u001b[49m\n\u001b[1;32m    738\u001b[0m \u001b[43m            \u001b[49m\u001b[38;5;28;43mself\u001b[39;49m\u001b[38;5;241;43m.\u001b[39;49m\u001b[43mlinear2\u001b[49m\u001b[38;5;241;43m.\u001b[39;49m\u001b[43mbias\u001b[49m\u001b[43m,\u001b[49m\n\u001b[1;32m    739\u001b[0m \u001b[43m            \u001b[49m\u001b[43mmerged_mask\u001b[49m\u001b[43m,\u001b[49m\n\u001b[1;32m    740\u001b[0m \u001b[43m            \u001b[49m\u001b[43mmask_type\u001b[49m\u001b[43m,\u001b[49m\n\u001b[1;32m    741\u001b[0m \u001b[43m        \u001b[49m\u001b[43m)\u001b[49m\n\u001b[1;32m    744\u001b[0m x \u001b[38;5;241m=\u001b[39m src\n\u001b[1;32m    745\u001b[0m \u001b[38;5;28;01mif\u001b[39;00m \u001b[38;5;28mself\u001b[39m\u001b[38;5;241m.\u001b[39mnorm_first:\n",
      "\u001b[0;31mKeyboardInterrupt\u001b[0m: "
     ]
    }
   ],
   "source": [
    "metric_paths = list(map(compute_metric_and_serialize, tqdm(burst_ids_unique, desc='burst_id')))"
   ]
  },
  {
   "cell_type": "markdown",
   "id": "804c8c59-efb3-43fe-af18-656cc2cdcd98",
   "metadata": {},
   "source": [
    "### Merge and Serialize"
   ]
  },
  {
   "cell_type": "code",
   "execution_count": 45,
   "id": "4c11375d-8ab3-45ba-b5b3-2b6e3aa65c3d",
   "metadata": {},
   "outputs": [],
   "source": [
    "metric_crs_dir = rtc_ts_dir.parents[1] / 'metrics_crs' / f'track{TRACK_NUMBER}'\n",
    "metric_crs_dir.mkdir(exist_ok=True, parents=True)"
   ]
  },
  {
   "cell_type": "markdown",
   "id": "dcf2ccd6-eef8-4b6b-aa55-9e9ed554fc73",
   "metadata": {},
   "source": [
    "### Most frequent CRS"
   ]
  },
  {
   "cell_type": "code",
   "execution_count": 46,
   "id": "c0f3667e-0d0c-459d-8c32-36b2ecb333d6",
   "metadata": {},
   "outputs": [],
   "source": [
    "def get_crs(path: Path) -> CRS:\n",
    "    with rasterio.open(path) as ds:\n",
    "        crs = ds.crs\n",
    "    return crs"
   ]
  },
  {
   "cell_type": "code",
   "execution_count": 47,
   "id": "23205f70-5640-46d4-805e-4a142d23910e",
   "metadata": {},
   "outputs": [
    {
     "data": {
      "text/plain": [
       "CRS.from_epsg(32617)"
      ]
     },
     "execution_count": 47,
     "metadata": {},
     "output_type": "execute_result"
    }
   ],
   "source": [
    "crs_l = list(map(get_crs, metric_paths))\n",
    "def most_common(lst):\n",
    "    return max(set(lst), key=lst.count)\n",
    "\n",
    "crs_ref = most_common(crs_l)\n",
    "crs_ref"
   ]
  },
  {
   "cell_type": "code",
   "execution_count": 48,
   "id": "94e2ec78-72d5-430f-b6e8-762cf1dd6e28",
   "metadata": {},
   "outputs": [],
   "source": [
    "def reproject_to_shared_crs_and_serialize(path: Path, ref_crs: CRS):\n",
    "    with rasterio.open(path) as ds:\n",
    "        X = ds.read(1)\n",
    "        p = ds.profile\n",
    "\n",
    "    out_path = metric_crs_dir / path.name\n",
    "    \n",
    "    if p['crs'] == ref_crs:\n",
    "        shutil.copy(path, out_path)\n",
    "        return out_path\n",
    "    else:\n",
    "        p_crs = reproject_profile_to_new_crs(p_src, ref_crs)\n",
    "        X_r, p_r = reproject_arr_to_match_profile(X, p, p_crs)\n",
    "        with rasterio.open(out_path, 'w', **p_r) as ds:\n",
    "            ds.write(X_r)\n",
    "    return out_path"
   ]
  },
  {
   "cell_type": "code",
   "execution_count": 49,
   "id": "cf7cfc86-f935-4313-95b7-d6e6021258eb",
   "metadata": {},
   "outputs": [
    {
     "name": "stderr",
     "output_type": "stream",
     "text": [
      "100%|████████████████████████████████████████████| 8/8 [00:00<00:00, 27.05it/s]\n"
     ]
    },
    {
     "data": {
      "text/plain": [
       "[PosixPath('out/Helene_Sparta/metrics_crs/track48/transformer_T048-101159-IW2_2024-10-03.tif'),\n",
       " PosixPath('out/Helene_Sparta/metrics_crs/track48/transformer_T048-101159-IW3_2024-10-03.tif'),\n",
       " PosixPath('out/Helene_Sparta/metrics_crs/track48/transformer_T048-101160-IW2_2024-10-03.tif')]"
      ]
     },
     "execution_count": 49,
     "metadata": {},
     "output_type": "execute_result"
    }
   ],
   "source": [
    "reproject_to_shared_crs_and_serialize_p = lambda path: reproject_to_shared_crs_and_serialize(path, crs_ref)\n",
    "metric_paths_crs = list(map(reproject_to_shared_crs_and_serialize_p, tqdm(metric_paths)))\n",
    "metric_paths_crs[:3]"
   ]
  },
  {
   "cell_type": "code",
   "execution_count": 50,
   "id": "b4f40b74-d842-4887-b718-30514c7dd50d",
   "metadata": {},
   "outputs": [],
   "source": [
    "from rasterio.merge import merge"
   ]
  },
  {
   "cell_type": "code",
   "execution_count": 51,
   "id": "7cf812dd-221a-402c-89eb-8efe529b0d5d",
   "metadata": {},
   "outputs": [],
   "source": [
    "X_m, t_m = merge(metric_paths, method='first')"
   ]
  },
  {
   "cell_type": "code",
   "execution_count": 52,
   "id": "624fb9d7-ba80-438b-a858-97748784af9b",
   "metadata": {},
   "outputs": [],
   "source": [
    "with rasterio.open(metric_paths[0]) as ds:\n",
    "    p_met = ds.profile\n",
    "\n",
    "p_met['transform'] = t_m\n",
    "p_met['height'], p_met['width'] = X_m.shape[-2:]\n",
    "tokens = metric_paths[0].stem.split('_')"
   ]
  },
  {
   "cell_type": "code",
   "execution_count": 53,
   "id": "8754cf9f-7e01-46b6-8442-b6744c92c56d",
   "metadata": {},
   "outputs": [],
   "source": [
    "track_num_token = tokens[1].split(\"-\")[0]\n",
    "date_token = tokens[2]\n",
    "with rasterio.open(metric_crs_dir / f'__merged_{track_num_token}_{tokens[2]}.tif', 'w', **p_met) as ds:\n",
    "    ds.write(X_m)"
   ]
  },
  {
   "cell_type": "markdown",
   "id": "93c3ddb7-f85e-4153-abc3-42f479e35b79",
   "metadata": {},
   "source": [
    "# Water Mask (TODO)"
   ]
  },
  {
   "cell_type": "code",
   "execution_count": null,
   "id": "271d2112-1a10-4796-a556-543a73c990f7",
   "metadata": {},
   "outputs": [],
   "source": []
  },
  {
   "cell_type": "markdown",
   "id": "5bdca720-411f-49bc-ad5f-1a36d9a2e297",
   "metadata": {},
   "source": [
    "# Generate Disturbance Map"
   ]
  },
  {
   "cell_type": "code",
   "execution_count": 54,
   "id": "4c38559e-c90a-4292-8a3a-9df0488a688d",
   "metadata": {},
   "outputs": [
    {
     "data": {
      "text/plain": [
       "PosixPath('out/Helene_Sparta/dist_map')"
      ]
     },
     "execution_count": 54,
     "metadata": {},
     "output_type": "execute_result"
    }
   ],
   "source": [
    "dist_dir = rtc_ts_dir.parents[1] / 'dist_map' #/ f'track{TRACK_NUMBER}'\n",
    "dist_dir.mkdir(exist_ok=True, parents=True)\n",
    "dist_dir"
   ]
  },
  {
   "cell_type": "code",
   "execution_count": 55,
   "id": "2e0dfbeb-d8e8-410d-a152-1dc5fc3c7776",
   "metadata": {},
   "outputs": [],
   "source": [
    "X_d = np.zeros(X_m.shape[-2:], dtype=np.uint8)"
   ]
  },
  {
   "cell_type": "code",
   "execution_count": 56,
   "id": "8f98fb3c-7ecb-4e35-aefc-d07bfa45a03d",
   "metadata": {},
   "outputs": [],
   "source": [
    "spatial_mask = np.isnan(X_m[0, ...])\n",
    "X_d[spatial_mask] = 255\n",
    "\n",
    "# order will matter here\n",
    "aggressive_range = (X_m[0, ...] >=2.5)\n",
    "X_d[aggressive_range] = 1\n",
    "conservative_range = (X_m[0, ...] >=4.5)\n",
    "X_d[conservative_range] = 2"
   ]
  },
  {
   "cell_type": "markdown",
   "id": "25b17074-5b13-4414-b81d-cad4f8cb4319",
   "metadata": {},
   "source": [
    "## Nice Colormap"
   ]
  },
  {
   "cell_type": "code",
   "execution_count": 57,
   "id": "dc89d285-456e-4b24-878a-21efd3a3556a",
   "metadata": {},
   "outputs": [],
   "source": [
    "colormap = {\n",
    "    0: (255, 255, 255, 255),  # white, fully opaque\n",
    "    1: (255, 204, 204, 255),  # light red, fully opaque\n",
    "    2: (255, 0, 0, 255),      # red, fully opaque\n",
    "    255: (0, 0, 0, 0)         # transparent for nodata\n",
    "}"
   ]
  },
  {
   "cell_type": "code",
   "execution_count": 58,
   "id": "dddbb989-f26a-40a5-a5e3-ec13f37ca946",
   "metadata": {},
   "outputs": [
    {
     "data": {
      "text/plain": [
       "['transformer', 'T048-101159-IW2', '2024-10-03']"
      ]
     },
     "execution_count": 58,
     "metadata": {},
     "output_type": "execute_result"
    }
   ],
   "source": [
    "tokens = metric_paths[0].stem.split('_')\n",
    "tokens"
   ]
  },
  {
   "cell_type": "code",
   "execution_count": 59,
   "id": "8e37370a-8d95-4a34-ad90-76bddb16fff2",
   "metadata": {},
   "outputs": [],
   "source": [
    "date_token = tokens[-1]"
   ]
  },
  {
   "cell_type": "code",
   "execution_count": 60,
   "id": "c78ae5e5-03e0-405f-8fd3-bf5e956b396c",
   "metadata": {},
   "outputs": [],
   "source": [
    "p_dist = p_met.copy()\n",
    "p_dist['dtype'] = 'uint8'\n",
    "p_dist['nodata'] = 255\n",
    "\n",
    "out_dist_path = dist_dir / f'disturbance_track{TRACK_NUMBER}_{date_token}.tif'\n",
    "with rasterio.open(out_dist_path, 'w', **p_dist) as ds:\n",
    "    ds.write(X_d, 1)\n",
    "    ds.write_colormap(1, colormap)"
   ]
  },
  {
   "cell_type": "code",
   "execution_count": 61,
   "id": "9fb6d6e8-c252-470f-b960-fa0b74ac3a51",
   "metadata": {},
   "outputs": [],
   "source": [
    "cmap = ListedColormap([np.array(colormap.get(key, (255, 255, 255, 255))) / 255 for key in range(256)])"
   ]
  },
  {
   "cell_type": "code",
   "execution_count": 62,
   "id": "0b2680f8-6579-4c91-873a-a4efb61e7b09",
   "metadata": {},
   "outputs": [
    {
     "data": {
      "text/plain": [
       "<matplotlib.image.AxesImage at 0x7f01c46b0f50>"
      ]
     },
     "execution_count": 62,
     "metadata": {},
     "output_type": "execute_result"
    },
    {
     "data": {
      "image/png": "[encoded data removed]",
      "text/plain": [
       "<Figure size 640x480 with 1 Axes>"
      ]
     },
     "metadata": {},
     "output_type": "display_data"
    }
   ],
   "source": [
    "plt.imshow(X_d, cmap=cmap, interpolation='none')"
   ]
  },
  {
   "cell_type": "markdown",
   "id": "08217589-d664-4ce8-9596-7d90281035da",
   "metadata": {},
   "source": [
    "# TODOS (other notebook)\n",
    "\n",
    "1. MGRS should be an input and we reproject to that frame\n",
    "2. Confirmation."
   ]
  }
 ],
 "metadata": {
  "kernelspec": {
   "display_name": "dist-s1",
   "language": "python",
   "name": "dist-s1"
  },
  "language_info": {
   "codemirror_mode": {
    "name": "ipython",
    "version": 3
   },
   "file_extension": ".py",
   "mimetype": "text/x-python",
   "name": "python",
   "nbconvert_exporter": "python",
   "pygments_lexer": "ipython3",
   "version": "3.12.5"
  }
 },
 "nbformat": 4,
 "nbformat_minor": 5
}
