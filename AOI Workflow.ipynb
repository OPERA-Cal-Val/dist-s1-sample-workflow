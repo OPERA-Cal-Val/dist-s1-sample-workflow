{
 "cells": [
  {
   "cell_type": "code",
   "execution_count": 3,
   "id": "406906be-3c21-4204-b1c5-29996b8a6da2",
   "metadata": {},
   "outputs": [],
   "source": [
    "import geopandas as gpd\n",
    "import rasterio\n",
    "from distmetrics import compute_transformer_zscore, load_trained_transformer_model\n",
    "import asf_search as asf\n",
    "from rasterio.crs import CRS\n",
    "from shapely.geometry import Point\n",
    "from datetime import datetime, timedelta\n",
    "import pandas as pd\n",
    "import matplotlib.pyplot as plt\n",
    "from tqdm import tqdm\n",
    "import requests\n",
    "import numpy as np\n",
    "from requests.exceptions import HTTPError\n",
    "import backoff\n",
    "from rasterio.errors import RasterioIOError\n",
    "from pathlib import Path"
   ]
  },
  {
   "cell_type": "markdown",
   "id": "70778098-0c58-415c-af84-99b17f4d85b6",
   "metadata": {},
   "source": [
    "# Parameters"
   ]
  },
  {
   "cell_type": "code",
   "execution_count": 4,
   "id": "1734723c-ff93-4086-8777-46c7d9c9cd25",
   "metadata": {},
   "outputs": [],
   "source": [
    "PRE_IMAGE_WINDOW_DAYS = 180\n",
    "POST_IMAGE_WINDOW_DAYS = 30\n",
    "EVENT_DATE = '2024-09-26'\n",
    "\n",
    "AOI_NAME = 'Helene_Sparta'"
   ]
  },
  {
   "cell_type": "markdown",
   "id": "a560d117-ad39-457a-a82e-f27aa7c5ddf3",
   "metadata": {},
   "source": [
    "# Datetimes"
   ]
  },
  {
   "cell_type": "code",
   "execution_count": 5,
   "id": "5f5b5d97-03f9-4328-8ff1-53c25e722b38",
   "metadata": {},
   "outputs": [
    {
     "data": {
      "text/plain": [
       "datetime.datetime(2024, 9, 26, 0, 0)"
      ]
     },
     "execution_count": 5,
     "metadata": {},
     "output_type": "execute_result"
    }
   ],
   "source": [
    "event_date = datetime.strptime(EVENT_DATE, '%Y-%m-%d')\n",
    "event_date"
   ]
  },
  {
   "cell_type": "markdown",
   "id": "0eb5fe4d-c88b-4f22-a014-59d0c3741ea9",
   "metadata": {},
   "source": [
    "# Directory"
   ]
  },
  {
   "cell_type": "code",
   "execution_count": 6,
   "id": "0176a346-faae-470a-8064-eba7327f3cec",
   "metadata": {},
   "outputs": [],
   "source": [
    "out_dir = Path(f'out/{AOI_NAME}')\n",
    "out_dir.mkdir(exist_ok=True, parents=True)"
   ]
  },
  {
   "cell_type": "markdown",
   "id": "e9eda9ec-4e8a-4063-bf3a-4cbbb178042d",
   "metadata": {},
   "source": [
    "# AOI and Search - Interactive Portion"
   ]
  },
  {
   "cell_type": "code",
   "execution_count": 7,
   "id": "3a41ec00-f147-4daf-ac7d-6cdab63a9030",
   "metadata": {},
   "outputs": [],
   "source": [
    "# NC Landslide\n",
    "aoi = Point(-81, 36.4).buffer(1)"
   ]
  },
  {
   "cell_type": "code",
   "execution_count": 8,
   "id": "1a46b271-62c8-47bb-ae27-8e5c3edaebdb",
   "metadata": {},
   "outputs": [
    {
     "data": {
      "text/html": [
       "<div style=\"width:100%;\"><div style=\"position:relative;width:100%;height:0;padding-bottom:60%;\"><span style=\"color:#565656\">Make this Notebook Trusted to load map: File -> Trust Notebook</span><iframe srcdoc=\"&lt;!DOCTYPE html&gt;\n",
       "&lt;html&gt;\n",
       "&lt;head&gt;\n",
       "    \n",
       "    &lt;meta http-equiv=&quot;content-type&quot; content=&quot;text/html; charset=UTF-8&quot; /&gt;\n",
       "    \n",
       "        &lt;script&gt;\n",
       "            L_NO_TOUCH = false;\n",
       "            L_DISABLE_3D = false;\n",
       "        &lt;/script&gt;\n",
       "    \n",
       "    &lt;style&gt;html, body {width: 100%;height: 100%;margin: 0;padding: 0;}&lt;/style&gt;\n",
       "    &lt;style&gt;#map {position:absolute;top:0;bottom:0;right:0;left:0;}&lt;/style&gt;\n",
       "    &lt;script src=&quot;https://cdn.jsdelivr.net/npm/leaflet@1.9.3/dist/leaflet.js&quot;&gt;&lt;/script&gt;\n",
       "    &lt;script src=&quot;https://code.jquery.com/jquery-3.7.1.min.js&quot;&gt;&lt;/script&gt;\n",
       "    &lt;script src=&quot;https://cdn.jsdelivr.net/npm/bootstrap@5.2.2/dist/js/bootstrap.bundle.min.js&quot;&gt;&lt;/script&gt;\n",
       "    &lt;script src=&quot;https://cdnjs.cloudflare.com/ajax/libs/Leaflet.awesome-markers/2.0.2/leaflet.awesome-markers.js&quot;&gt;&lt;/script&gt;\n",
       "    &lt;link rel=&quot;stylesheet&quot; href=&quot;https://cdn.jsdelivr.net/npm/leaflet@1.9.3/dist/leaflet.css&quot;/&gt;\n",
       "    &lt;link rel=&quot;stylesheet&quot; href=&quot;https://cdn.jsdelivr.net/npm/bootstrap@5.2.2/dist/css/bootstrap.min.css&quot;/&gt;\n",
       "    &lt;link rel=&quot;stylesheet&quot; href=&quot;https://netdna.bootstrapcdn.com/bootstrap/3.0.0/css/bootstrap-glyphicons.css&quot;/&gt;\n",
       "    &lt;link rel=&quot;stylesheet&quot; href=&quot;https://cdn.jsdelivr.net/npm/@fortawesome/fontawesome-free@6.2.0/css/all.min.css&quot;/&gt;\n",
       "    &lt;link rel=&quot;stylesheet&quot; href=&quot;https://cdnjs.cloudflare.com/ajax/libs/Leaflet.awesome-markers/2.0.2/leaflet.awesome-markers.css&quot;/&gt;\n",
       "    &lt;link rel=&quot;stylesheet&quot; href=&quot;https://cdn.jsdelivr.net/gh/python-visualization/folium/folium/templates/leaflet.awesome.rotate.min.css&quot;/&gt;\n",
       "    \n",
       "            &lt;meta name=&quot;viewport&quot; content=&quot;width=device-width,\n",
       "                initial-scale=1.0, maximum-scale=1.0, user-scalable=no&quot; /&gt;\n",
       "            &lt;style&gt;\n",
       "                #map_a6c312a5ab7a1f76acc6c300b768511a {\n",
       "                    position: relative;\n",
       "                    width: 100.0%;\n",
       "                    height: 100.0%;\n",
       "                    left: 0.0%;\n",
       "                    top: 0.0%;\n",
       "                }\n",
       "                .leaflet-container { font-size: 1rem; }\n",
       "            &lt;/style&gt;\n",
       "        \n",
       "    \n",
       "                    &lt;style&gt;\n",
       "                        .foliumtooltip {\n",
       "                            \n",
       "                        }\n",
       "                       .foliumtooltip table{\n",
       "                            margin: auto;\n",
       "                        }\n",
       "                        .foliumtooltip tr{\n",
       "                            text-align: left;\n",
       "                        }\n",
       "                        .foliumtooltip th{\n",
       "                            padding: 2px; padding-right: 8px;\n",
       "                        }\n",
       "                    &lt;/style&gt;\n",
       "            \n",
       "&lt;/head&gt;\n",
       "&lt;body&gt;\n",
       "    \n",
       "    \n",
       "            &lt;div class=&quot;folium-map&quot; id=&quot;map_a6c312a5ab7a1f76acc6c300b768511a&quot; &gt;&lt;/div&gt;\n",
       "        \n",
       "&lt;/body&gt;\n",
       "&lt;script&gt;\n",
       "    \n",
       "    \n",
       "            var map_a6c312a5ab7a1f76acc6c300b768511a = L.map(\n",
       "                &quot;map_a6c312a5ab7a1f76acc6c300b768511a&quot;,\n",
       "                {\n",
       "                    center: [36.4, -81.0],\n",
       "                    crs: L.CRS.EPSG3857,\n",
       "                    zoom: 10,\n",
       "                    zoomControl: true,\n",
       "                    preferCanvas: false,\n",
       "                }\n",
       "            );\n",
       "            L.control.scale().addTo(map_a6c312a5ab7a1f76acc6c300b768511a);\n",
       "\n",
       "            \n",
       "\n",
       "        \n",
       "    \n",
       "            var tile_layer_9ee8150124177f745ee1d8bd5eeffecd = L.tileLayer(\n",
       "                &quot;https://tile.openstreetmap.org/{z}/{x}/{y}.png&quot;,\n",
       "                {&quot;attribution&quot;: &quot;\\u0026copy; \\u003ca href=\\&quot;https://www.openstreetmap.org/copyright\\&quot;\\u003eOpenStreetMap\\u003c/a\\u003e contributors&quot;, &quot;detectRetina&quot;: false, &quot;maxNativeZoom&quot;: 19, &quot;maxZoom&quot;: 19, &quot;minZoom&quot;: 0, &quot;noWrap&quot;: false, &quot;opacity&quot;: 1, &quot;subdomains&quot;: &quot;abc&quot;, &quot;tms&quot;: false}\n",
       "            );\n",
       "        \n",
       "    \n",
       "            tile_layer_9ee8150124177f745ee1d8bd5eeffecd.addTo(map_a6c312a5ab7a1f76acc6c300b768511a);\n",
       "        \n",
       "    \n",
       "            map_a6c312a5ab7a1f76acc6c300b768511a.fitBounds(\n",
       "                [[35.4, -82.0], [37.4, -80.0]],\n",
       "                {}\n",
       "            );\n",
       "        \n",
       "    \n",
       "        function geo_json_00530f41718848f1618eaa9bb2a49849_styler(feature) {\n",
       "            switch(feature.id) {\n",
       "                default:\n",
       "                    return {&quot;fillOpacity&quot;: 0.5, &quot;weight&quot;: 2};\n",
       "            }\n",
       "        }\n",
       "        function geo_json_00530f41718848f1618eaa9bb2a49849_highlighter(feature) {\n",
       "            switch(feature.id) {\n",
       "                default:\n",
       "                    return {&quot;fillOpacity&quot;: 0.75};\n",
       "            }\n",
       "        }\n",
       "        function geo_json_00530f41718848f1618eaa9bb2a49849_pointToLayer(feature, latlng) {\n",
       "            var opts = {&quot;bubblingMouseEvents&quot;: true, &quot;color&quot;: &quot;#3388ff&quot;, &quot;dashArray&quot;: null, &quot;dashOffset&quot;: null, &quot;fill&quot;: true, &quot;fillColor&quot;: &quot;#3388ff&quot;, &quot;fillOpacity&quot;: 0.2, &quot;fillRule&quot;: &quot;evenodd&quot;, &quot;lineCap&quot;: &quot;round&quot;, &quot;lineJoin&quot;: &quot;round&quot;, &quot;opacity&quot;: 1.0, &quot;radius&quot;: 2, &quot;stroke&quot;: true, &quot;weight&quot;: 3};\n",
       "            \n",
       "            let style = geo_json_00530f41718848f1618eaa9bb2a49849_styler(feature)\n",
       "            Object.assign(opts, style)\n",
       "            \n",
       "            return new L.CircleMarker(latlng, opts)\n",
       "        }\n",
       "\n",
       "        function geo_json_00530f41718848f1618eaa9bb2a49849_onEachFeature(feature, layer) {\n",
       "            layer.on({\n",
       "                mouseout: function(e) {\n",
       "                    if(typeof e.target.setStyle === &quot;function&quot;){\n",
       "                            geo_json_00530f41718848f1618eaa9bb2a49849.resetStyle(e.target);\n",
       "                    }\n",
       "                },\n",
       "                mouseover: function(e) {\n",
       "                    if(typeof e.target.setStyle === &quot;function&quot;){\n",
       "                        const highlightStyle = geo_json_00530f41718848f1618eaa9bb2a49849_highlighter(e.target.feature)\n",
       "                        e.target.setStyle(highlightStyle);\n",
       "                    }\n",
       "                },\n",
       "            });\n",
       "        };\n",
       "        var geo_json_00530f41718848f1618eaa9bb2a49849 = L.geoJson(null, {\n",
       "                onEachFeature: geo_json_00530f41718848f1618eaa9bb2a49849_onEachFeature,\n",
       "            \n",
       "                style: geo_json_00530f41718848f1618eaa9bb2a49849_styler,\n",
       "                pointToLayer: geo_json_00530f41718848f1618eaa9bb2a49849_pointToLayer,\n",
       "        });\n",
       "\n",
       "        function geo_json_00530f41718848f1618eaa9bb2a49849_add (data) {\n",
       "            geo_json_00530f41718848f1618eaa9bb2a49849\n",
       "                .addData(data);\n",
       "        }\n",
       "            geo_json_00530f41718848f1618eaa9bb2a49849_add({&quot;bbox&quot;: [-82.0, 35.4, -80.0, 37.4], &quot;features&quot;: [{&quot;bbox&quot;: [-82.0, 35.4, -80.0, 37.4], &quot;geometry&quot;: {&quot;coordinates&quot;: [[[-80.0, 36.4], [-80.00481527332781, 36.30198285967044], [-80.01921471959677, 36.20490967798387], [-80.04305966426779, 36.10971532274554], [-80.0761204674887, 36.01731656763491], [-80.11807873565165, 35.928603263174004], [-80.16853038769746, 35.8444297669804], [-80.22698954663726, 35.765606715836356], [-80.29289321881345, 35.69289321881345], [-80.36560671583635, 35.62698954663726], [-80.44442976698039, 35.56853038769745], [-80.528603263174, 35.51807873565164], [-80.61731656763492, 35.47612046748871], [-80.70971532274554, 35.44305966426779], [-80.80490967798387, 35.419214719596766], [-80.90198285967044, 35.4048152733278], [-81.0, 35.4], [-81.09801714032956, 35.4048152733278], [-81.19509032201613, 35.419214719596766], [-81.29028467725446, 35.44305966426779], [-81.38268343236508, 35.47612046748871], [-81.471396736826, 35.51807873565164], [-81.55557023301961, 35.56853038769745], [-81.63439328416365, 35.62698954663726], [-81.70710678118655, 35.69289321881345], [-81.77301045336274, 35.765606715836356], [-81.83146961230254, 35.8444297669804], [-81.88192126434835, 35.928603263174004], [-81.9238795325113, 36.01731656763491], [-81.95694033573221, 36.10971532274554], [-81.98078528040323, 36.20490967798387], [-81.99518472667219, 36.30198285967044], [-82.0, 36.4], [-81.99518472667219, 36.49801714032956], [-81.98078528040323, 36.59509032201613], [-81.95694033573221, 36.69028467725446], [-81.9238795325113, 36.78268343236509], [-81.88192126434835, 36.87139673682599], [-81.83146961230254, 36.9555702330196], [-81.77301045336274, 37.03439328416364], [-81.70710678118655, 37.107106781186545], [-81.63439328416365, 37.173010453362735], [-81.55557023301961, 37.23146961230255], [-81.471396736826, 37.281921264348355], [-81.38268343236508, 37.323879532511285], [-81.29028467725446, 37.356940335732205], [-81.19509032201613, 37.38078528040323], [-81.09801714032956, 37.3951847266722], [-81.0, 37.4], [-80.90198285967044, 37.3951847266722], [-80.80490967798387, 37.38078528040323], [-80.70971532274554, 37.356940335732205], [-80.61731656763492, 37.323879532511285], [-80.528603263174, 37.281921264348355], [-80.44442976698039, 37.23146961230255], [-80.36560671583635, 37.173010453362735], [-80.29289321881345, 37.107106781186545], [-80.22698954663727, 37.03439328416364], [-80.16853038769746, 36.9555702330196], [-80.11807873565165, 36.871396736826], [-80.0761204674887, 36.78268343236509], [-80.04305966426779, 36.69028467725446], [-80.01921471959677, 36.59509032201613], [-80.00481527332781, 36.49801714032956], [-80.0, 36.4]]], &quot;type&quot;: &quot;Polygon&quot;}, &quot;id&quot;: &quot;0&quot;, &quot;properties&quot;: {}, &quot;type&quot;: &quot;Feature&quot;}], &quot;type&quot;: &quot;FeatureCollection&quot;});\n",
       "\n",
       "        \n",
       "    \n",
       "    geo_json_00530f41718848f1618eaa9bb2a49849.bindTooltip(\n",
       "    function(layer){\n",
       "    let div = L.DomUtil.create(&#x27;div&#x27;);\n",
       "    \n",
       "    return div\n",
       "    }\n",
       "    ,{&quot;className&quot;: &quot;foliumtooltip&quot;, &quot;sticky&quot;: true});\n",
       "                     \n",
       "    \n",
       "            geo_json_00530f41718848f1618eaa9bb2a49849.addTo(map_a6c312a5ab7a1f76acc6c300b768511a);\n",
       "        \n",
       "&lt;/script&gt;\n",
       "&lt;/html&gt;\" style=\"position:absolute;width:100%;height:100%;left:0;top:0;border:none !important;\" allowfullscreen webkitallowfullscreen mozallowfullscreen></iframe></div></div>"
      ],
      "text/plain": [
       "<folium.folium.Map at 0x7fe4840ecfb0>"
      ]
     },
     "execution_count": 8,
     "metadata": {},
     "output_type": "execute_result"
    }
   ],
   "source": [
    "df_aoi = gpd.GeoDataFrame(geometry=[aoi], crs=CRS.from_epsg(4326))\n",
    "df_aoi.explore()"
   ]
  },
  {
   "cell_type": "code",
   "execution_count": 9,
   "id": "ff42edd9-6c55-420d-9dff-99e54e663388",
   "metadata": {},
   "outputs": [
    {
     "name": "stderr",
     "output_type": "stream",
     "text": [
      "WARNING:asf_search:WKT REPAIR/VALIDATION: The following repairs were performed on the provided AOI:\n",
      "[\"'type': 'REVERSE': 'report': Reversed polygon winding order\"]\n"
     ]
    }
   ],
   "source": [
    "resp = asf.geo_search(intersectsWith=aoi.wkt,\n",
    "                                 processingLevel='RTC',\n",
    "                                 platform=asf.constants.SENTINEL1, \n",
    "                                 start=event_date - timedelta(days=PRE_IMAGE_WINDOW_DAYS),\n",
    "                                 polarization=['VV'],\n",
    "                                 end=event_date + timedelta(days=POST_IMAGE_WINDOW_DAYS),\n",
    "                                )"
   ]
  },
  {
   "cell_type": "code",
   "execution_count": 10,
   "id": "d002679f-cae3-4fab-ab9f-6521c9b9cf3b",
   "metadata": {},
   "outputs": [
    {
     "data": {
      "text/html": [
       "<div>\n",
       "<style scoped>\n",
       "    .dataframe tbody tr th:only-of-type {\n",
       "        vertical-align: middle;\n",
       "    }\n",
       "\n",
       "    .dataframe tbody tr th {\n",
       "        vertical-align: top;\n",
       "    }\n",
       "\n",
       "    .dataframe thead th {\n",
       "        text-align: right;\n",
       "    }\n",
       "</style>\n",
       "<table border=\"1\" class=\"dataframe\">\n",
       "  <thead>\n",
       "    <tr style=\"text-align: right;\">\n",
       "      <th></th>\n",
       "      <th>geometry</th>\n",
       "      <th>centerLat</th>\n",
       "      <th>centerLon</th>\n",
       "      <th>stopTime</th>\n",
       "      <th>fileID</th>\n",
       "      <th>flightDirection</th>\n",
       "      <th>pathNumber</th>\n",
       "      <th>processingLevel</th>\n",
       "      <th>url</th>\n",
       "      <th>startTime</th>\n",
       "      <th>...</th>\n",
       "      <th>beamModeType</th>\n",
       "      <th>s3Urls</th>\n",
       "      <th>beamMode</th>\n",
       "      <th>additionalUrls</th>\n",
       "      <th>bistaticDelayCorrection</th>\n",
       "      <th>noiseCorrection</th>\n",
       "      <th>postProcessingFilter</th>\n",
       "      <th>acq_dt</th>\n",
       "      <th>acq_date</th>\n",
       "      <th>opera_dedup_id</th>\n",
       "    </tr>\n",
       "  </thead>\n",
       "  <tbody>\n",
       "    <tr>\n",
       "      <th>0</th>\n",
       "      <td>POLYGON ((-81.64186 37.22603, -81.09447 37.304...</td>\n",
       "      <td>37.384013</td>\n",
       "      <td>-81.130643</td>\n",
       "      <td>2024-09-28T23:23:37Z</td>\n",
       "      <td>OPERA_L2_RTC-S1_T150-320260-IW2_20240928T23233...</td>\n",
       "      <td>ASCENDING</td>\n",
       "      <td>150</td>\n",
       "      <td>RTC</td>\n",
       "      <td>https://datapool.asf.alaska.edu/RTC/OPERA-S1/O...</td>\n",
       "      <td>2024-09-28T23:23:34Z</td>\n",
       "      <td>...</td>\n",
       "      <td>IW</td>\n",
       "      <td>[s3://asf-cumulus-prod-opera-browse/OPERA_L2_R...</td>\n",
       "      <td>IW</td>\n",
       "      <td>[https://datapool.asf.alaska.edu/RTC/OPERA-S1/...</td>\n",
       "      <td>TRUE</td>\n",
       "      <td>TRUE</td>\n",
       "      <td>FALSE</td>\n",
       "      <td>2024-09-28 23:23:34+00:00</td>\n",
       "      <td>2024-09-29</td>\n",
       "      <td>OPERA_L2_RTC-S1_T150-320260-IW2_20240928T232334Z</td>\n",
       "    </tr>\n",
       "    <tr>\n",
       "      <th>2</th>\n",
       "      <td>POLYGON ((-82.56105 37.03, -81.54009 37.18228,...</td>\n",
       "      <td>37.198223</td>\n",
       "      <td>-82.073449</td>\n",
       "      <td>2024-09-28T23:23:36Z</td>\n",
       "      <td>OPERA_L2_RTC-S1_T150-320260-IW1_20240928T23233...</td>\n",
       "      <td>ASCENDING</td>\n",
       "      <td>150</td>\n",
       "      <td>RTC</td>\n",
       "      <td>https://datapool.asf.alaska.edu/RTC/OPERA-S1/O...</td>\n",
       "      <td>2024-09-28T23:23:33Z</td>\n",
       "      <td>...</td>\n",
       "      <td>IW</td>\n",
       "      <td>[s3://asf-cumulus-prod-opera-browse/OPERA_L2_R...</td>\n",
       "      <td>IW</td>\n",
       "      <td>[https://datapool.asf.alaska.edu/RTC/OPERA-S1/...</td>\n",
       "      <td>TRUE</td>\n",
       "      <td>TRUE</td>\n",
       "      <td>FALSE</td>\n",
       "      <td>2024-09-28 23:23:33+00:00</td>\n",
       "      <td>2024-09-29</td>\n",
       "      <td>OPERA_L2_RTC-S1_T150-320260-IW1_20240928T232333Z</td>\n",
       "    </tr>\n",
       "    <tr>\n",
       "      <th>4</th>\n",
       "      <td>POLYGON ((-80.63591 37.25601, -79.7043 37.3794...</td>\n",
       "      <td>37.410919</td>\n",
       "      <td>-80.189794</td>\n",
       "      <td>2024-09-28T23:23:35Z</td>\n",
       "      <td>OPERA_L2_RTC-S1_T150-320259-IW3_20240928T23233...</td>\n",
       "      <td>ASCENDING</td>\n",
       "      <td>150</td>\n",
       "      <td>RTC</td>\n",
       "      <td>https://datapool.asf.alaska.edu/RTC/OPERA-S1/O...</td>\n",
       "      <td>2024-09-28T23:23:32Z</td>\n",
       "      <td>...</td>\n",
       "      <td>IW</td>\n",
       "      <td>[s3://asf-cumulus-prod-opera-browse/OPERA_L2_R...</td>\n",
       "      <td>IW</td>\n",
       "      <td>[https://datapool.asf.alaska.edu/RTC/OPERA-S1/...</td>\n",
       "      <td>TRUE</td>\n",
       "      <td>TRUE</td>\n",
       "      <td>FALSE</td>\n",
       "      <td>2024-09-28 23:23:32+00:00</td>\n",
       "      <td>2024-09-29</td>\n",
       "      <td>OPERA_L2_RTC-S1_T150-320259-IW3_20240928T232332Z</td>\n",
       "    </tr>\n",
       "    <tr>\n",
       "      <th>6</th>\n",
       "      <td>POLYGON ((-81.60032 37.06075, -80.54748 37.209...</td>\n",
       "      <td>37.227894</td>\n",
       "      <td>-81.094783</td>\n",
       "      <td>2024-09-28T23:23:34Z</td>\n",
       "      <td>OPERA_L2_RTC-S1_T150-320259-IW2_20240928T23233...</td>\n",
       "      <td>ASCENDING</td>\n",
       "      <td>150</td>\n",
       "      <td>RTC</td>\n",
       "      <td>https://datapool.asf.alaska.edu/RTC/OPERA-S1/O...</td>\n",
       "      <td>2024-09-28T23:23:31Z</td>\n",
       "      <td>...</td>\n",
       "      <td>IW</td>\n",
       "      <td>[s3://asf-cumulus-prod-opera-browse/OPERA_L2_R...</td>\n",
       "      <td>IW</td>\n",
       "      <td>[https://datapool.asf.alaska.edu/RTC/OPERA-S1/...</td>\n",
       "      <td>TRUE</td>\n",
       "      <td>TRUE</td>\n",
       "      <td>FALSE</td>\n",
       "      <td>2024-09-28 23:23:31+00:00</td>\n",
       "      <td>2024-09-29</td>\n",
       "      <td>OPERA_L2_RTC-S1_T150-320259-IW2_20240928T232331Z</td>\n",
       "    </tr>\n",
       "    <tr>\n",
       "      <th>8</th>\n",
       "      <td>POLYGON ((-82.51731 36.86463, -81.99273 36.944...</td>\n",
       "      <td>37.023683</td>\n",
       "      <td>-82.030091</td>\n",
       "      <td>2024-09-28T23:23:33Z</td>\n",
       "      <td>OPERA_L2_RTC-S1_T150-320259-IW1_20240928T23233...</td>\n",
       "      <td>ASCENDING</td>\n",
       "      <td>150</td>\n",
       "      <td>RTC</td>\n",
       "      <td>https://datapool.asf.alaska.edu/RTC/OPERA-S1/O...</td>\n",
       "      <td>2024-09-28T23:23:30Z</td>\n",
       "      <td>...</td>\n",
       "      <td>IW</td>\n",
       "      <td>[s3://asf-cumulus-prod-opera-browse/OPERA_L2_R...</td>\n",
       "      <td>IW</td>\n",
       "      <td>[https://datapool.asf.alaska.edu/RTC/OPERA-S1/...</td>\n",
       "      <td>TRUE</td>\n",
       "      <td>TRUE</td>\n",
       "      <td>FALSE</td>\n",
       "      <td>2024-09-28 23:23:30+00:00</td>\n",
       "      <td>2024-09-29</td>\n",
       "      <td>OPERA_L2_RTC-S1_T150-320259-IW1_20240928T232330Z</td>\n",
       "    </tr>\n",
       "  </tbody>\n",
       "</table>\n",
       "<p>5 rows × 36 columns</p>\n",
       "</div>"
      ],
      "text/plain": [
       "                                            geometry  centerLat  centerLon  \\\n",
       "0  POLYGON ((-81.64186 37.22603, -81.09447 37.304...  37.384013 -81.130643   \n",
       "2  POLYGON ((-82.56105 37.03, -81.54009 37.18228,...  37.198223 -82.073449   \n",
       "4  POLYGON ((-80.63591 37.25601, -79.7043 37.3794...  37.410919 -80.189794   \n",
       "6  POLYGON ((-81.60032 37.06075, -80.54748 37.209...  37.227894 -81.094783   \n",
       "8  POLYGON ((-82.51731 36.86463, -81.99273 36.944...  37.023683 -82.030091   \n",
       "\n",
       "               stopTime                                             fileID  \\\n",
       "0  2024-09-28T23:23:37Z  OPERA_L2_RTC-S1_T150-320260-IW2_20240928T23233...   \n",
       "2  2024-09-28T23:23:36Z  OPERA_L2_RTC-S1_T150-320260-IW1_20240928T23233...   \n",
       "4  2024-09-28T23:23:35Z  OPERA_L2_RTC-S1_T150-320259-IW3_20240928T23233...   \n",
       "6  2024-09-28T23:23:34Z  OPERA_L2_RTC-S1_T150-320259-IW2_20240928T23233...   \n",
       "8  2024-09-28T23:23:33Z  OPERA_L2_RTC-S1_T150-320259-IW1_20240928T23233...   \n",
       "\n",
       "  flightDirection  pathNumber processingLevel  \\\n",
       "0       ASCENDING         150             RTC   \n",
       "2       ASCENDING         150             RTC   \n",
       "4       ASCENDING         150             RTC   \n",
       "6       ASCENDING         150             RTC   \n",
       "8       ASCENDING         150             RTC   \n",
       "\n",
       "                                                 url             startTime  \\\n",
       "0  https://datapool.asf.alaska.edu/RTC/OPERA-S1/O...  2024-09-28T23:23:34Z   \n",
       "2  https://datapool.asf.alaska.edu/RTC/OPERA-S1/O...  2024-09-28T23:23:33Z   \n",
       "4  https://datapool.asf.alaska.edu/RTC/OPERA-S1/O...  2024-09-28T23:23:32Z   \n",
       "6  https://datapool.asf.alaska.edu/RTC/OPERA-S1/O...  2024-09-28T23:23:31Z   \n",
       "8  https://datapool.asf.alaska.edu/RTC/OPERA-S1/O...  2024-09-28T23:23:30Z   \n",
       "\n",
       "   ... beamModeType                                             s3Urls  \\\n",
       "0  ...           IW  [s3://asf-cumulus-prod-opera-browse/OPERA_L2_R...   \n",
       "2  ...           IW  [s3://asf-cumulus-prod-opera-browse/OPERA_L2_R...   \n",
       "4  ...           IW  [s3://asf-cumulus-prod-opera-browse/OPERA_L2_R...   \n",
       "6  ...           IW  [s3://asf-cumulus-prod-opera-browse/OPERA_L2_R...   \n",
       "8  ...           IW  [s3://asf-cumulus-prod-opera-browse/OPERA_L2_R...   \n",
       "\n",
       "  beamMode                                     additionalUrls  \\\n",
       "0       IW  [https://datapool.asf.alaska.edu/RTC/OPERA-S1/...   \n",
       "2       IW  [https://datapool.asf.alaska.edu/RTC/OPERA-S1/...   \n",
       "4       IW  [https://datapool.asf.alaska.edu/RTC/OPERA-S1/...   \n",
       "6       IW  [https://datapool.asf.alaska.edu/RTC/OPERA-S1/...   \n",
       "8       IW  [https://datapool.asf.alaska.edu/RTC/OPERA-S1/...   \n",
       "\n",
       "  bistaticDelayCorrection noiseCorrection  postProcessingFilter  \\\n",
       "0                    TRUE            TRUE                 FALSE   \n",
       "2                    TRUE            TRUE                 FALSE   \n",
       "4                    TRUE            TRUE                 FALSE   \n",
       "6                    TRUE            TRUE                 FALSE   \n",
       "8                    TRUE            TRUE                 FALSE   \n",
       "\n",
       "                     acq_dt    acq_date  \\\n",
       "0 2024-09-28 23:23:34+00:00  2024-09-29   \n",
       "2 2024-09-28 23:23:33+00:00  2024-09-29   \n",
       "4 2024-09-28 23:23:32+00:00  2024-09-29   \n",
       "6 2024-09-28 23:23:31+00:00  2024-09-29   \n",
       "8 2024-09-28 23:23:30+00:00  2024-09-29   \n",
       "\n",
       "                                     opera_dedup_id  \n",
       "0  OPERA_L2_RTC-S1_T150-320260-IW2_20240928T232334Z  \n",
       "2  OPERA_L2_RTC-S1_T150-320260-IW1_20240928T232333Z  \n",
       "4  OPERA_L2_RTC-S1_T150-320259-IW3_20240928T232332Z  \n",
       "6  OPERA_L2_RTC-S1_T150-320259-IW2_20240928T232331Z  \n",
       "8  OPERA_L2_RTC-S1_T150-320259-IW1_20240928T232330Z  \n",
       "\n",
       "[5 rows x 36 columns]"
      ]
     },
     "execution_count": 10,
     "metadata": {},
     "output_type": "execute_result"
    }
   ],
   "source": [
    "df_rtc_resp = gpd.GeoDataFrame.from_features(resp.geojson(), crs=CRS.from_epsg(4326))\n",
    "df_rtc_resp['acq_dt'] = pd.to_datetime(df_rtc_resp.startTime)\n",
    "df_rtc_resp['acq_date'] = pd.to_datetime(df_rtc_resp.startTime).dt.round('D').dt.date\n",
    "df_rtc_resp['opera_dedup_id'] = df_rtc_resp.fileID.map(lambda file_id: '_'.join(file_id.split('_')[:5]))\n",
    "df_rtc_resp.drop_duplicates(subset='opera_dedup_id', inplace=True)\n",
    "df_rtc_resp.head()"
   ]
  },
  {
   "cell_type": "code",
   "execution_count": 11,
   "id": "0c7feb27-59b8-4df3-80bd-1374967715fe",
   "metadata": {},
   "outputs": [
    {
     "data": {
      "text/plain": [
       "array([datetime.date(2024, 9, 29), datetime.date(2024, 9, 24),\n",
       "       datetime.date(2024, 9, 22), datetime.date(2024, 9, 17),\n",
       "       datetime.date(2024, 9, 12), datetime.date(2024, 9, 10),\n",
       "       datetime.date(2024, 9, 5), datetime.date(2024, 8, 31),\n",
       "       datetime.date(2024, 8, 29), datetime.date(2024, 8, 24),\n",
       "       datetime.date(2024, 8, 19), datetime.date(2024, 8, 17),\n",
       "       datetime.date(2024, 8, 12), datetime.date(2024, 8, 7),\n",
       "       datetime.date(2024, 8, 5), datetime.date(2024, 7, 31),\n",
       "       datetime.date(2024, 7, 19), datetime.date(2024, 7, 14),\n",
       "       datetime.date(2024, 7, 7), datetime.date(2024, 7, 2),\n",
       "       datetime.date(2024, 6, 30), datetime.date(2024, 6, 25),\n",
       "       datetime.date(2024, 6, 20), datetime.date(2024, 6, 13),\n",
       "       datetime.date(2024, 6, 8), datetime.date(2024, 6, 1),\n",
       "       datetime.date(2024, 5, 27), datetime.date(2024, 5, 20),\n",
       "       datetime.date(2024, 5, 15), datetime.date(2024, 5, 13),\n",
       "       datetime.date(2024, 5, 8), datetime.date(2024, 5, 3),\n",
       "       datetime.date(2024, 5, 1), datetime.date(2024, 4, 26),\n",
       "       datetime.date(2024, 4, 21), datetime.date(2024, 4, 19),\n",
       "       datetime.date(2024, 4, 14), datetime.date(2024, 4, 9),\n",
       "       datetime.date(2024, 4, 7), datetime.date(2024, 4, 2)], dtype=object)"
      ]
     },
     "execution_count": 11,
     "metadata": {},
     "output_type": "execute_result"
    }
   ],
   "source": [
    "df_rtc_resp.acq_date.unique()"
   ]
  },
  {
   "cell_type": "code",
   "execution_count": 12,
   "id": "dfbdc850-3649-476a-9a7d-933056c367d9",
   "metadata": {},
   "outputs": [
    {
     "data": {
      "text/plain": [
       "array([150,  77,  48])"
      ]
     },
     "execution_count": 12,
     "metadata": {},
     "output_type": "execute_result"
    }
   ],
   "source": [
    "df_rtc_resp.pathNumber.unique()"
   ]
  },
  {
   "cell_type": "code",
   "execution_count": 13,
   "id": "a0b09fe1-4d70-4b00-aedc-0825d592f822",
   "metadata": {},
   "outputs": [
    {
     "data": {
      "text/plain": [
       "<Axes: >"
      ]
     },
     "execution_count": 13,
     "metadata": {},
     "output_type": "execute_result"
    },
    {
     "data": {
      "image/png": "[encoded data removed]",
      "text/plain": [
       "<Figure size 640x480 with 1 Axes>"
      ]
     },
     "metadata": {},
     "output_type": "display_data"
    }
   ],
   "source": [
    "fig, ax = plt.subplots()\n",
    "\n",
    "df_aoi.plot(ax=ax)\n",
    "df_rtc_resp_plot = df_rtc_resp.copy()\n",
    "df_rtc_resp_plot.geometry = df_rtc_resp_plot.geometry.boundary\n",
    "df_rtc_resp_plot.plot(ax=ax, alpha=.5, column='pathNumber', categorical=True, legend=True)"
   ]
  },
  {
   "cell_type": "markdown",
   "id": "b97150f3-7427-4259-a600-f9811d370b80",
   "metadata": {},
   "source": [
    "## Select Path"
   ]
  },
  {
   "cell_type": "code",
   "execution_count": 14,
   "id": "b39188d2-9a15-4076-b101-e801b5bd6d15",
   "metadata": {},
   "outputs": [
    {
     "data": {
      "text/plain": [
       "array([datetime.date(2024, 9, 29), datetime.date(2024, 9, 17),\n",
       "       datetime.date(2024, 9, 5), datetime.date(2024, 8, 24),\n",
       "       datetime.date(2024, 8, 12), datetime.date(2024, 7, 31),\n",
       "       datetime.date(2024, 7, 19), datetime.date(2024, 7, 7),\n",
       "       datetime.date(2024, 6, 25), datetime.date(2024, 6, 13),\n",
       "       datetime.date(2024, 6, 1), datetime.date(2024, 5, 20),\n",
       "       datetime.date(2024, 5, 8), datetime.date(2024, 4, 26),\n",
       "       datetime.date(2024, 4, 14), datetime.date(2024, 4, 2)],\n",
       "      dtype=object)"
      ]
     },
     "execution_count": 14,
     "metadata": {},
     "output_type": "execute_result"
    }
   ],
   "source": [
    "df_rtc_track = df_rtc_resp[df_rtc_resp.pathNumber== 150].reset_index(drop=True)\n",
    "df_rtc_track.acq_date.unique()"
   ]
  },
  {
   "cell_type": "code",
   "execution_count": 15,
   "id": "a3e8fed9-756c-4edf-adb6-a1685eaaffbc",
   "metadata": {},
   "outputs": [
    {
     "data": {
      "text/plain": [
       "36"
      ]
     },
     "execution_count": 15,
     "metadata": {},
     "output_type": "execute_result"
    }
   ],
   "source": [
    "(df_rtc_track.acq_dt > pd.to_datetime(EVENT_DATE, utc=True)).sum()"
   ]
  },
  {
   "cell_type": "code",
   "execution_count": 16,
   "id": "a746fc70-51c5-47d5-9af0-1391e3c83498",
   "metadata": {},
   "outputs": [],
   "source": [
    "df_rtc_track['vh_url'] = df_rtc_track.url\n",
    "df_rtc_track['vv_url'] = df_rtc_track.url.str.replace('VH.tif', 'VV.tif')\n",
    "df_rtc_track['burst_id'] = df_rtc_track.fileID.map(lambda file_id: file_id.split('_')[3])\n"
   ]
  },
  {
   "cell_type": "markdown",
   "id": "b9fd30c5-a74f-4449-b3a7-b43edd655309",
   "metadata": {},
   "source": [
    "# Download RTCs by Burst\n",
    "\n",
    "out/AOI_NAME/rtc_ts/{burst_id}/<tif_files>"
   ]
  },
  {
   "cell_type": "code",
   "execution_count": 17,
   "id": "577f9d5e-ef4e-4939-9867-2c6712df6292",
   "metadata": {},
   "outputs": [],
   "source": [
    "rtc_ts_dir = out_dir / 'rtc_ts'\n",
    "rtc_ts_dir.mkdir(exist_ok=True, parents=True)"
   ]
  },
  {
   "cell_type": "code",
   "execution_count": 24,
   "id": "fc50566c-1c6c-43c5-aa8d-5288e96fe05c",
   "metadata": {},
   "outputs": [],
   "source": [
    "\n",
    "@backoff.on_exception(\n",
    "    backoff.expo,\n",
    "    [ConnectionError, HTTPError, RasterioIOError],\n",
    "    max_tries=10,\n",
    "    max_time=60,\n",
    "    jitter=backoff.full_jitter,\n",
    ")\n",
    "def localize_one_rtc(\n",
    "    url: str,\n",
    "    ts_dir: str | Path\n",
    ") -> Path:\n",
    "    local_fn = url.split(\"/\")[-1]\n",
    "    out_path = ts_dir / local_fn\n",
    "    if not ts_dir.exists():\n",
    "        ts_dir.mkdir(parents=True)\n",
    "    if out_path.exists():\n",
    "        return out_path\n",
    "        \n",
    "    with requests.get(url, stream=True) as r:\n",
    "        r.raise_for_status()\n",
    "        with open(out_path, 'wb') as f:\n",
    "            for chunk in r.iter_content(chunk_size=16384): \n",
    "                f.write(chunk)\n",
    "    return out_path"
   ]
  },
  {
   "cell_type": "code",
   "execution_count": 25,
   "id": "513b296e-873d-4883-8f12-a1392b0693e5",
   "metadata": {},
   "outputs": [],
   "source": [
    "burst_ids = df_rtc_track.burst_id.tolist()\n",
    "vv_urls = df_rtc_track.vv_url.tolist()\n",
    "vh_urls = df_rtc_track.vh_url.tolist()"
   ]
  },
  {
   "cell_type": "code",
   "execution_count": 26,
   "id": "572392a6-eb62-43fa-935a-221d86765adc",
   "metadata": {},
   "outputs": [
    {
     "data": {
      "text/plain": [
       "['https://datapool.asf.alaska.edu/RTC/OPERA-S1/OPERA_L2_RTC-S1_T150-320260-IW2_20240928T232334Z_20240930T182833Z_S1A_30_v1.0_VV.tif',\n",
       " PosixPath('out/Helene_Sparta/rtc_ts/T150-320260-IW2')]"
      ]
     },
     "execution_count": 26,
     "metadata": {},
     "output_type": "execute_result"
    }
   ],
   "source": [
    "zipped_inputs = [[url, rtc_ts_dir/ burst_id] for (url, burst_id) in zip(vv_urls + vh_urls, burst_ids * 2)]\n",
    "zipped_inputs[0]"
   ]
  },
  {
   "cell_type": "code",
   "execution_count": 27,
   "id": "cbe52072-8f4e-4c7c-a124-c2f2b514d9b6",
   "metadata": {},
   "outputs": [],
   "source": [
    "def localize_one_rtc_p(data: tuple) -> Path:\n",
    "    return localize_one_rtc(*data)"
   ]
  },
  {
   "cell_type": "code",
   "execution_count": 28,
   "id": "603cf1f6-76ac-47a1-a951-e38a3e0cc779",
   "metadata": {},
   "outputs": [],
   "source": [
    "# localize_one_rtc(*zipped_inputs[0])"
   ]
  },
  {
   "cell_type": "code",
   "execution_count": 29,
   "id": "9b133155-968e-4dc5-b1ff-61fe8c1be1a5",
   "metadata": {},
   "outputs": [
    {
     "name": "stderr",
     "output_type": "stream",
     "text": [
      "100%|████████████| 1150/1150 [03:10<00:00,  6.04it/s]\n"
     ]
    }
   ],
   "source": [
    "import concurrent.futures\n",
    "\n",
    "with concurrent.futures.ThreadPoolExecutor(max_workers=10) as executor:\n",
    "    out_paths_rtc = list(tqdm(executor.map(localize_one_rtc_p, zipped_inputs[:]), total=len(zipped_inputs)))"
   ]
  },
  {
   "cell_type": "markdown",
   "id": "c48f28ca-e82a-4381-aa27-a39fdfe6f571",
   "metadata": {},
   "source": [
    "# Despeckle"
   ]
  },
  {
   "cell_type": "code",
   "execution_count": 30,
   "id": "03db1e86-7f38-4d43-a56d-500573a1a396",
   "metadata": {},
   "outputs": [],
   "source": [
    "from distmetrics import despeckle_rtc_arrs_with_tv"
   ]
  },
  {
   "cell_type": "code",
   "execution_count": 31,
   "id": "7ad65e74-fabc-4ed0-b584-c977941e6ef3",
   "metadata": {},
   "outputs": [],
   "source": [
    "tv_dir = rtc_ts_dir.parent / 'rtc_ts_tv'\n",
    "tv_dir.mkdir(exist_ok=True, parents=True)"
   ]
  },
  {
   "cell_type": "code",
   "execution_count": 32,
   "id": "62c71f40-3c58-4519-920c-b1df364c8dd2",
   "metadata": {},
   "outputs": [
    {
     "data": {
      "text/plain": [
       "['T150-320260-IW2', 'T150-320260-IW1', 'T150-320259-IW3']"
      ]
     },
     "execution_count": 32,
     "metadata": {},
     "output_type": "execute_result"
    }
   ],
   "source": [
    "burst_ids = [p.parent.stem for p in out_paths_rtc]\n",
    "burst_ids[:3]"
   ]
  },
  {
   "cell_type": "code",
   "execution_count": 33,
   "id": "b7b1d842-8cd0-4302-81e0-b49dabd47944",
   "metadata": {},
   "outputs": [
    {
     "data": {
      "text/plain": [
       "[PosixPath('out/Helene_Sparta/rtc_ts_tv/T150-320260-IW2/OPERA_L2_RTC-S1_T150-320260-IW2_20240928T232334Z_20240930T182833Z_S1A_30_v1.0_VV.tif'),\n",
       " PosixPath('out/Helene_Sparta/rtc_ts_tv/T150-320260-IW1/OPERA_L2_RTC-S1_T150-320260-IW1_20240928T232333Z_20240930T192908Z_S1A_30_v1.0_VV.tif'),\n",
       " PosixPath('out/Helene_Sparta/rtc_ts_tv/T150-320259-IW3/OPERA_L2_RTC-S1_T150-320259-IW3_20240928T232332Z_20240930T192908Z_S1A_30_v1.0_VV.tif')]"
      ]
     },
     "execution_count": 33,
     "metadata": {},
     "output_type": "execute_result"
    }
   ],
   "source": [
    "out_paths_rtc_d = [tv_dir / burst_id / p.name for (burst_id, p) in zip(burst_ids, out_paths_rtc)]\n",
    "out_paths_rtc_d[:3]"
   ]
  },
  {
   "cell_type": "code",
   "execution_count": 34,
   "id": "3f918d04-b402-4d5b-b69a-5d8fa391910f",
   "metadata": {},
   "outputs": [],
   "source": [
    "def open_one(path: Path):\n",
    "    with rasterio.open(path) as ds:\n",
    "        X = ds.read(1)\n",
    "        p = ds.profile\n",
    "    return X, p\n",
    "\n",
    "def serialize_one(arr:np.ndarray, p: dict, out_path: Path):\n",
    "    with rasterio.open(out_path, 'w', **p) as ds:\n",
    "        ds.write(arr, 1)\n",
    "    return out_path\n",
    "\n",
    "def despeckle_and_serialize(rtc_paths: list[Path],\n",
    "                            dst_paths: list[Path],\n",
    "                            batch_size=100) -> list:\n",
    "    # Ensure new directories exist\n",
    "    [p.parent.mkdir(exist_ok=True, parents=True) for p in dst_paths]\n",
    "    # one liner for math.ceil\n",
    "    n_batches = (len(rtc_paths) + batch_size - 1) // batch_size\n",
    "    for k in tqdm(range(n_batches), desc='batch'):\n",
    "        paths_subset = rtc_paths[k * batch_size: (k + 1) * batch_size]\n",
    "        dst_paths_subset = dst_paths[k * batch_size: (k + 1) * batch_size]\n",
    "\n",
    "        # open\n",
    "        arrs, ps = zip(*list(map(open_one, paths_subset)))\n",
    "        # despeckle\n",
    "        arrs_d = despeckle_rtc_arrs_with_tv(arrs)\n",
    "        # serialize\n",
    "        [serialize_one(arr, prof, dst_path) for (arr, prof, dst_path) in zip(arrs_d, ps, dst_paths_subset)]\n",
    "\n",
    "    return dst_paths"
   ]
  },
  {
   "cell_type": "code",
   "execution_count": 35,
   "id": "e693a0d8-434f-4ddc-bccc-343cc21b7b35",
   "metadata": {},
   "outputs": [
    {
     "name": "stderr",
     "output_type": "stream",
     "text": [
      "100%|██████████████| 100/100 [00:34<00:00,  2.92it/s]\n",
      "100%|██████████████| 100/100 [00:34<00:00,  3.87it/s]\n",
      "100%|██████████████| 100/100 [00:30<00:00,  3.65it/s]\n",
      "100%|██████████████| 100/100 [00:30<00:00,  3.63it/s]\n",
      "100%|██████████████| 100/100 [00:30<00:00,  4.73it/s]\n",
      "100%|██████████████| 100/100 [00:30<00:00,  4.13it/s]\n",
      "100%|██████████████| 100/100 [00:29<00:00,  6.26it/s]\n",
      "100%|██████████████| 100/100 [00:29<00:00,  4.73it/s]\n",
      "100%|██████████████| 100/100 [00:31<00:00,  4.13it/s]\n",
      "100%|██████████████| 100/100 [00:30<00:00,  2.98it/s]\n",
      "100%|██████████████| 100/100 [00:29<00:00,  6.00it/s]\n",
      "100%|████████████████| 50/50 [00:16<00:00,  3.28it/s]\n",
      "batch: 100%|█████████| 12/12 [15:20<00:00, 76.73s/it]\n"
     ]
    }
   ],
   "source": [
    "out_paths_rtc_d = despeckle_and_serialize(out_paths_rtc, out_paths_rtc_d, batch_size=100)"
   ]
  },
  {
   "cell_type": "code",
   "execution_count": 36,
   "id": "f590be7c-fe9c-4a67-93e2-bfe1cc8eaccd",
   "metadata": {},
   "outputs": [
    {
     "data": {
      "text/plain": [
       "'OPERA_L2_RTC-S1_T150-320260-IW2_20240928T232334Z_20240930T182833Z_S1A_30_v1.0_VV'"
      ]
     },
     "execution_count": 36,
     "metadata": {},
     "output_type": "execute_result"
    }
   ],
   "source": [
    "out_paths_rtc_d[0].stem"
   ]
  },
  {
   "cell_type": "markdown",
   "id": "2575189e-26af-48c5-b06c-7565f7244741",
   "metadata": {},
   "source": [
    "# Generate Disturbance Map - by Burst"
   ]
  },
  {
   "cell_type": "markdown",
   "id": "5641a3c9-65de-4151-9f47-b10b8f5bee5e",
   "metadata": {},
   "source": [
    "# Create LUT by burst to paths"
   ]
  },
  {
   "cell_type": "code",
   "execution_count": 37,
   "id": "79f2cf22-574e-4d22-a2d3-3c2f918dadcb",
   "metadata": {},
   "outputs": [
    {
     "data": {
      "text/plain": [
       "[{'burst_id': 'T150-320260-IW2',\n",
       "  'vv_path': 'out/Helene_Sparta/rtc_ts_tv/T150-320260-IW2/OPERA_L2_RTC-S1_T150-320260-IW2_20240928T232334Z_20240930T182833Z_S1A_30_v1.0_VV.tif',\n",
       "  'acq_timestamp': Timestamp('2024-09-28 23:23:34+0000', tz='UTC')},\n",
       " {'burst_id': 'T150-320260-IW1',\n",
       "  'vv_path': 'out/Helene_Sparta/rtc_ts_tv/T150-320260-IW1/OPERA_L2_RTC-S1_T150-320260-IW1_20240928T232333Z_20240930T192908Z_S1A_30_v1.0_VV.tif',\n",
       "  'acq_timestamp': Timestamp('2024-09-28 23:23:33+0000', tz='UTC')},\n",
       " {'burst_id': 'T150-320259-IW3',\n",
       "  'vv_path': 'out/Helene_Sparta/rtc_ts_tv/T150-320259-IW3/OPERA_L2_RTC-S1_T150-320259-IW3_20240928T232332Z_20240930T192908Z_S1A_30_v1.0_VV.tif',\n",
       "  'acq_timestamp': Timestamp('2024-09-28 23:23:32+0000', tz='UTC')}]"
      ]
     },
     "execution_count": 37,
     "metadata": {},
     "output_type": "execute_result"
    }
   ],
   "source": [
    "vv_path_data = [{'burst_id': p.parent.stem, \n",
    "                 'vv_path': str(p),\n",
    "                 'acq_timestamp': pd.to_datetime(p.stem.split('_')[4])} for p in out_paths_rtc_d if 'VV.tif' in p.name]\n",
    "vv_path_data[:3]"
   ]
  },
  {
   "cell_type": "code",
   "execution_count": 38,
   "id": "00624c88-542b-4b54-adc1-0198ee08706d",
   "metadata": {},
   "outputs": [
    {
     "data": {
      "text/plain": [
       "[{'burst_id': 'T150-320260-IW2',\n",
       "  'vh_path': 'out/Helene_Sparta/rtc_ts_tv/T150-320260-IW2/OPERA_L2_RTC-S1_T150-320260-IW2_20240928T232334Z_20240930T182833Z_S1A_30_v1.0_VH.tif',\n",
       "  'acq_timestamp': Timestamp('2024-09-28 23:23:34+0000', tz='UTC')},\n",
       " {'burst_id': 'T150-320260-IW1',\n",
       "  'vh_path': 'out/Helene_Sparta/rtc_ts_tv/T150-320260-IW1/OPERA_L2_RTC-S1_T150-320260-IW1_20240928T232333Z_20240930T192908Z_S1A_30_v1.0_VH.tif',\n",
       "  'acq_timestamp': Timestamp('2024-09-28 23:23:33+0000', tz='UTC')},\n",
       " {'burst_id': 'T150-320259-IW3',\n",
       "  'vh_path': 'out/Helene_Sparta/rtc_ts_tv/T150-320259-IW3/OPERA_L2_RTC-S1_T150-320259-IW3_20240928T232332Z_20240930T192908Z_S1A_30_v1.0_VH.tif',\n",
       "  'acq_timestamp': Timestamp('2024-09-28 23:23:32+0000', tz='UTC')}]"
      ]
     },
     "execution_count": 38,
     "metadata": {},
     "output_type": "execute_result"
    }
   ],
   "source": [
    "vh_path_data = [{'burst_id': p.parent.stem, \n",
    "                 'vh_path': str(p),\n",
    "                 'acq_timestamp': pd.to_datetime(p.stem.split('_')[4])} for p in out_paths_rtc_d if 'VH.tif' in p.name]\n",
    "vh_path_data[:3]"
   ]
  },
  {
   "cell_type": "code",
   "execution_count": 39,
   "id": "782d6820-94f7-42bd-a85c-3155682a052e",
   "metadata": {},
   "outputs": [
    {
     "data": {
      "text/plain": [
       "True"
      ]
     },
     "execution_count": 39,
     "metadata": {},
     "output_type": "execute_result"
    }
   ],
   "source": [
    "len(vh_path_data) == df_rtc_track.shape[0]"
   ]
  },
  {
   "cell_type": "code",
   "execution_count": 42,
   "id": "1a7742db-0ef1-4bf8-b4e1-b772883aa5e5",
   "metadata": {},
   "outputs": [
    {
     "data": {
      "text/html": [
       "<div>\n",
       "<style scoped>\n",
       "    .dataframe tbody tr th:only-of-type {\n",
       "        vertical-align: middle;\n",
       "    }\n",
       "\n",
       "    .dataframe tbody tr th {\n",
       "        vertical-align: top;\n",
       "    }\n",
       "\n",
       "    .dataframe thead th {\n",
       "        text-align: right;\n",
       "    }\n",
       "</style>\n",
       "<table border=\"1\" class=\"dataframe\">\n",
       "  <thead>\n",
       "    <tr style=\"text-align: right;\">\n",
       "      <th></th>\n",
       "      <th>burst_id</th>\n",
       "      <th>acq_timestamp</th>\n",
       "      <th>date_str</th>\n",
       "      <th>vv_path</th>\n",
       "      <th>vh_path</th>\n",
       "    </tr>\n",
       "  </thead>\n",
       "  <tbody>\n",
       "    <tr>\n",
       "      <th>0</th>\n",
       "      <td>T150-320248-IW2</td>\n",
       "      <td>2024-04-01 23:23:01+00:00</td>\n",
       "      <td>2024-04-01</td>\n",
       "      <td>out/Helene_Sparta/rtc_ts_tv/T150-320248-IW2/OP...</td>\n",
       "      <td>out/Helene_Sparta/rtc_ts_tv/T150-320248-IW2/OP...</td>\n",
       "    </tr>\n",
       "    <tr>\n",
       "      <th>1</th>\n",
       "      <td>T150-320248-IW2</td>\n",
       "      <td>2024-04-13 23:23:01+00:00</td>\n",
       "      <td>2024-04-13</td>\n",
       "      <td>out/Helene_Sparta/rtc_ts_tv/T150-320248-IW2/OP...</td>\n",
       "      <td>out/Helene_Sparta/rtc_ts_tv/T150-320248-IW2/OP...</td>\n",
       "    </tr>\n",
       "    <tr>\n",
       "      <th>2</th>\n",
       "      <td>T150-320248-IW2</td>\n",
       "      <td>2024-04-25 23:23:02+00:00</td>\n",
       "      <td>2024-04-25</td>\n",
       "      <td>out/Helene_Sparta/rtc_ts_tv/T150-320248-IW2/OP...</td>\n",
       "      <td>out/Helene_Sparta/rtc_ts_tv/T150-320248-IW2/OP...</td>\n",
       "    </tr>\n",
       "    <tr>\n",
       "      <th>3</th>\n",
       "      <td>T150-320248-IW2</td>\n",
       "      <td>2024-05-07 23:23:02+00:00</td>\n",
       "      <td>2024-05-07</td>\n",
       "      <td>out/Helene_Sparta/rtc_ts_tv/T150-320248-IW2/OP...</td>\n",
       "      <td>out/Helene_Sparta/rtc_ts_tv/T150-320248-IW2/OP...</td>\n",
       "    </tr>\n",
       "    <tr>\n",
       "      <th>4</th>\n",
       "      <td>T150-320248-IW2</td>\n",
       "      <td>2024-05-19 23:23:02+00:00</td>\n",
       "      <td>2024-05-19</td>\n",
       "      <td>out/Helene_Sparta/rtc_ts_tv/T150-320248-IW2/OP...</td>\n",
       "      <td>out/Helene_Sparta/rtc_ts_tv/T150-320248-IW2/OP...</td>\n",
       "    </tr>\n",
       "  </tbody>\n",
       "</table>\n",
       "</div>"
      ],
      "text/plain": [
       "          burst_id             acq_timestamp    date_str  \\\n",
       "0  T150-320248-IW2 2024-04-01 23:23:01+00:00  2024-04-01   \n",
       "1  T150-320248-IW2 2024-04-13 23:23:01+00:00  2024-04-13   \n",
       "2  T150-320248-IW2 2024-04-25 23:23:02+00:00  2024-04-25   \n",
       "3  T150-320248-IW2 2024-05-07 23:23:02+00:00  2024-05-07   \n",
       "4  T150-320248-IW2 2024-05-19 23:23:02+00:00  2024-05-19   \n",
       "\n",
       "                                             vv_path  \\\n",
       "0  out/Helene_Sparta/rtc_ts_tv/T150-320248-IW2/OP...   \n",
       "1  out/Helene_Sparta/rtc_ts_tv/T150-320248-IW2/OP...   \n",
       "2  out/Helene_Sparta/rtc_ts_tv/T150-320248-IW2/OP...   \n",
       "3  out/Helene_Sparta/rtc_ts_tv/T150-320248-IW2/OP...   \n",
       "4  out/Helene_Sparta/rtc_ts_tv/T150-320248-IW2/OP...   \n",
       "\n",
       "                                             vh_path  \n",
       "0  out/Helene_Sparta/rtc_ts_tv/T150-320248-IW2/OP...  \n",
       "1  out/Helene_Sparta/rtc_ts_tv/T150-320248-IW2/OP...  \n",
       "2  out/Helene_Sparta/rtc_ts_tv/T150-320248-IW2/OP...  \n",
       "3  out/Helene_Sparta/rtc_ts_tv/T150-320248-IW2/OP...  \n",
       "4  out/Helene_Sparta/rtc_ts_tv/T150-320248-IW2/OP...  "
      ]
     },
     "execution_count": 42,
     "metadata": {},
     "output_type": "execute_result"
    }
   ],
   "source": [
    "df_vv = pd.DataFrame(vv_path_data)\n",
    "df_vh = pd.DataFrame(vh_path_data)\n",
    "\n",
    "df_vv['date_str'] = df_vv.acq_timestamp.dt.date.astype(str)\n",
    "df_vh['date_str'] = df_vh.acq_timestamp.dt.date.astype(str)\n",
    "df_loc_ts = pd.merge(df_vv, df_vh[['burst_id', 'date_str', 'vh_path']], on=['burst_id', 'date_str'], how='inner')\n",
    "df_loc_ts = df_loc_ts[['burst_id', 'acq_timestamp', 'date_str', 'vv_path', 'vh_path']]\n",
    "df_loc_ts = df_loc_ts.sort_values(by=['burst_id', 'acq_timestamp']).reset_index(drop=True)\n",
    "assert df_loc_ts.shape[0] == len(vh_path_data)\n",
    "df_loc_ts.head()"
   ]
  },
  {
   "cell_type": "markdown",
   "id": "c9e3dd29-f660-4a35-a34c-f04b55520c2a",
   "metadata": {},
   "source": [
    "## Metric - by Burst"
   ]
  },
  {
   "cell_type": "code",
   "execution_count": 43,
   "id": "0f2503c4-1cc7-42c0-abbe-1d033d8c46cd",
   "metadata": {},
   "outputs": [],
   "source": [
    "transformer_model = load_trained_transformer_model()"
   ]
  },
  {
   "cell_type": "code",
   "execution_count": 44,
   "id": "9fbaa066-fa48-4b31-938e-d07f16bf21d8",
   "metadata": {},
   "outputs": [
    {
     "data": {
      "text/plain": [
       "36"
      ]
     },
     "execution_count": 44,
     "metadata": {},
     "output_type": "execute_result"
    }
   ],
   "source": [
    "burst_ids_unique = df_loc_ts.burst_id.unique().tolist()\n",
    "len(burst_ids_unique)"
   ]
  },
  {
   "cell_type": "code",
   "execution_count": 59,
   "id": "fa3ba919-3746-4bc2-bf27-560cad016a5c",
   "metadata": {},
   "outputs": [],
   "source": [
    "def open_one_arr(path: Path):\n",
    "    with rasterio.open(path) as ds:\n",
    "        X = ds.read(1)\n",
    "\n",
    "    return X\n",
    "\n",
    "def compute_distmetric(burst_id: str, \n",
    "                       post_image_proximity_to_event: str = 'closest', \n",
    "                       max_pre_images: int = 10,\n",
    "                       min_pre_images: int = 2) -> np.ndarray:\n",
    "    assert post_image_proximity_to_event in ['closest', 'farthest'] # or maybe earliest or latest is better\n",
    "\n",
    "    df_ts = df_loc_ts[df_loc_ts.burst_id == burst_id].reset_index(drop=True)\n",
    "    df_post = df_ts[df_ts.acq_timestamp >= pd.Timestamp(EVENT_DATE, tz='utc')].reset_index(drop=True)\n",
    "    df_pre = df_ts[df_ts.acq_timestamp < pd.Timestamp(EVENT_DATE, tz='utc')].reset_index(drop=True)\n",
    "\n",
    "    pre_vv_paths = df_pre.vv_path[-max_pre_images:].tolist()\n",
    "    pre_vh_paths = df_pre.vh_path[-max_pre_images:].tolist()\n",
    "\n",
    "    with rasterio.open(pre_vv_paths[0]) as ds:\n",
    "        ref_profile = ds.profile\n",
    "\n",
    "    post_ind = 0 if (post_image_proximity_to_event == 'closest') else -1\n",
    "    post_vv_path = df_post.vv_path.tolist()[post_ind]\n",
    "    post_vh_path = df_post.vh_path.tolist()[post_ind]\n",
    "    post_acq_ts = df_post.acq_timestamp.tolist()[post_ind]\n",
    "    \n",
    "    if len(pre_vv_paths) < min_pre_images:\n",
    "        raise ValueError('Not enough pre-images available')\n",
    "\n",
    "    pre_arrs_vv = list(map(open_one_arr, pre_vv_paths))\n",
    "    pre_arrs_vh = list(map(open_one_arr, pre_vh_paths))\n",
    "    post_vv = open_one_arr(post_vv_path)\n",
    "    post_vh = open_one_arr(post_vh_path)\n",
    "\n",
    "    metric_ob = compute_transformer_zscore(transformer_model,\n",
    "                                        pre_arrs_vv,\n",
    "                                        pre_arrs_vh,\n",
    "                                        post_vv,\n",
    "                                        post_vh,\n",
    "                                        stride=2, \n",
    "                                        batch_size=512)\n",
    "    return metric_ob, ref_profile, post_acq_ts"
   ]
  },
  {
   "cell_type": "code",
   "execution_count": 60,
   "id": "b03aea99-9c1b-4866-959f-55f9a29c2faa",
   "metadata": {},
   "outputs": [],
   "source": [
    "# metric, ref_profile, post_acq_ts = compute_distmetric('T150-320248-IW2')"
   ]
  },
  {
   "cell_type": "code",
   "execution_count": 61,
   "id": "711ec5a2-2984-4e8c-a32e-e094c751f3d8",
   "metadata": {},
   "outputs": [],
   "source": [
    "metric_dir = rtc_ts_dir.parent / 'metrics'\n",
    "metric_dir.mkdir(exist_ok=True, parents=True)"
   ]
  },
  {
   "cell_type": "code",
   "execution_count": 64,
   "id": "ed5337bf-8137-4d1c-8fbe-f35704852449",
   "metadata": {},
   "outputs": [],
   "source": [
    "def compute_metric_and_serialize(burst_id: str) -> Path:\n",
    "    metric_ob, ref_profile, post_ts = compute_distmetric(burst_id)\n",
    "    burst_metric_dir = metric_dir / burst_id\n",
    "    burst_metric_dir.mkdir(exist_ok=True, parents=True)\n",
    "    out_path = burst_metric_dir / f'transformer_{burst_id}_{str(post_ts.date())}.tif'\n",
    "\n",
    "    dist = metric_ob.dist\n",
    "    with rasterio.open(out_path, 'w', **ref_profile) as ds:\n",
    "        ds.write(dist, 1)\n",
    "    return out_path"
   ]
  },
  {
   "cell_type": "code",
   "execution_count": null,
   "id": "4af07787-ce81-4d8f-b01d-6595652c1e8d",
   "metadata": {},
   "outputs": [
    {
     "name": "stderr",
     "output_type": "stream",
     "text": [
      "burst_id:   0%|               | 0/36 [00:00<?, ?it/s]\n",
      "Chips Traversed:   0%|      | 0/1296 [00:00<?, ?it/s]\u001b[A\n",
      "Chips Traversed:   2%| | 30/1296 [00:02<01:28, 14.23i\u001b[A\n",
      "Chips Traversed:   5%| | 59/1296 [00:05<02:06,  9.75i\u001b[A\n",
      "Chips Traversed:   6%| | 81/1296 [00:08<02:20,  8.64i\u001b[A\n",
      "Chips Traversed:   8%| | 100/1296 [00:10<02:17,  8.69\u001b[A\n",
      "Chips Traversed:   9%| | 118/1296 [00:13<02:19,  8.44\u001b[A\n",
      "Chips Traversed:  10%| | 136/1296 [00:15<02:20,  8.28\u001b[A\n",
      "Chips Traversed:  12%| | 153/1296 [00:17<02:19,  8.17\u001b[A\n",
      "Chips Traversed:  13%|▏| 170/1296 [00:19<02:19,  8.09\u001b[A\n",
      "Chips Traversed:  14%|▏| 187/1296 [00:21<02:17,  8.04\u001b[A\n",
      "Chips Traversed:  16%|▏| 204/1296 [00:24<02:16,  8.00\u001b[A\n",
      "Chips Traversed:  17%|▏| 221/1296 [00:27<02:34,  6.96\u001b[A\n",
      "Chips Traversed:  18%|▏| 236/1296 [00:29<02:35,  6.83\u001b[A\n",
      "Chips Traversed:  19%|▏| 251/1296 [00:31<02:30,  6.96\u001b[A\n",
      "Chips Traversed:  21%|▏| 267/1296 [00:34<02:31,  6.79\u001b[A\n",
      "Chips Traversed:  22%|▏| 284/1296 [00:36<02:22,  7.08\u001b[A\n",
      "Chips Traversed:  23%|▏| 300/1296 [00:38<02:17,  7.25\u001b[A\n",
      "Chips Traversed:  24%|▏| 316/1296 [00:40<02:15,  7.23\u001b[A\n",
      "Chips Traversed:  26%|▎| 331/1296 [00:42<02:12,  7.30\u001b[A\n",
      "Chips Traversed:  27%|▎| 346/1296 [00:44<02:09,  7.34\u001b[A\n",
      "Chips Traversed:  28%|▎| 361/1296 [00:46<02:13,  7.00\u001b[A\n",
      "Chips Traversed:  29%|▎| 376/1296 [00:49<02:10,  7.08\u001b[A\n",
      "Chips Traversed:  30%|▎| 391/1296 [00:51<02:07,  7.10\u001b[A\n",
      "Chips Traversed:  31%|▎| 406/1296 [00:53<02:05,  7.11\u001b[A\n",
      "Chips Traversed:  32%|▎| 421/1296 [00:55<02:03,  7.09\u001b[A\n",
      "Chips Traversed:  34%|▎| 436/1296 [00:57<02:05,  6.84\u001b[A\n",
      "Chips Traversed:  35%|▎| 450/1296 [00:59<02:03,  6.86\u001b[A\n",
      "Chips Traversed:  36%|▎| 465/1296 [01:02<02:01,  6.83\u001b[A\n",
      "Chips Traversed:  37%|▎| 480/1296 [01:04<02:00,  6.80\u001b[A\n",
      "Chips Traversed:  38%|▍| 494/1296 [01:06<01:57,  6.85\u001b[A\n",
      "Chips Traversed:  39%|▍| 508/1296 [01:08<01:58,  6.67\u001b[A\n",
      "Chips Traversed:  40%|▍| 522/1296 [01:10<02:01,  6.37\u001b[A\n",
      "Chips Traversed:  41%|▍| 535/1296 [01:12<01:59,  6.39\u001b[A\n",
      "Chips Traversed:  42%|▍| 548/1296 [01:14<01:57,  6.39\u001b[A\n",
      "Chips Traversed:  43%|▍| 561/1296 [01:16<01:55,  6.39\u001b[A\n",
      "Chips Traversed:  44%|▍| 574/1296 [01:19<01:53,  6.35\u001b[A\n",
      "Chips Traversed:  45%|▍| 587/1296 [01:21<01:52,  6.30\u001b[A\n",
      "Chips Traversed:  46%|▍| 600/1296 [01:23<01:51,  6.24\u001b[A\n",
      "Chips Traversed:  47%|▍| 613/1296 [01:25<01:55,  5.91\u001b[A\n",
      "Chips Traversed:  48%|▍| 625/1296 [01:27<01:53,  5.92\u001b[A\n",
      "Chips Traversed:  49%|▍| 637/1296 [01:29<01:51,  5.93\u001b[A\n",
      "Chips Traversed:  50%|▌| 649/1296 [01:31<01:48,  5.94\u001b[A\n",
      "Chips Traversed:  51%|▌| 661/1296 [01:33<01:47,  5.92\u001b[A\n",
      "Chips Traversed:  52%|▌| 673/1296 [01:35<01:45,  5.93\u001b[A\n",
      "Chips Traversed:  53%|▌| 685/1296 [01:37<01:43,  5.93\u001b[A\n",
      "Chips Traversed:  54%|▌| 697/1296 [01:40<01:45,  5.68\u001b[A\n",
      "Chips Traversed:  55%|▌| 709/1296 [01:42<01:41,  5.77\u001b[A\n",
      "Chips Traversed:  56%|▌| 721/1296 [01:44<01:38,  5.81\u001b[A\n",
      "Chips Traversed:  57%|▌| 733/1296 [01:46<01:36,  5.85\u001b[A\n",
      "Chips Traversed:  57%|▌| 745/1296 [01:48<01:33,  5.86\u001b[A\n",
      "Chips Traversed:  58%|▌| 757/1296 [01:50<01:31,  5.87\u001b[A\n",
      "Chips Traversed:  59%|▌| 769/1296 [01:52<01:29,  5.89\u001b[A\n",
      "Chips Traversed:  60%|▌| 781/1296 [01:54<01:31,  5.62\u001b[A\n",
      "Chips Traversed:  61%|▌| 794/1296 [01:56<01:27,  5.74\u001b[A\n",
      "Chips Traversed:  62%|▌| 807/1296 [01:59<01:23,  5.85\u001b[A\n",
      "Chips Traversed:  63%|▋| 820/1296 [02:01<01:19,  5.98\u001b[A\n",
      "Chips Traversed:  64%|▋| 833/1296 [02:03<01:16,  6.07\u001b[A\n",
      "Chips Traversed:  65%|▋| 846/1296 [02:05<01:13,  6.15\u001b[A\n",
      "Chips Traversed:  66%|▋| 859/1296 [02:07<01:13,  5.98\u001b[A\n",
      "Chips Traversed:  67%|▋| 872/1296 [02:09<01:09,  6.12\u001b[A\n",
      "Chips Traversed:  68%|▋| 886/1296 [02:11<01:05,  6.27\u001b[A\n",
      "Chips Traversed:  69%|▋| 900/1296 [02:13<01:02,  6.37\u001b[A\n",
      "Chips Traversed:  71%|▋| 914/1296 [02:15<00:59,  6.45\u001b[A\n",
      "Chips Traversed:  72%|▋| 929/1296 [02:18<00:56,  6.55\u001b[A\n",
      "Chips Traversed:  73%|▋| 943/1296 [02:20<00:54,  6.51\u001b[A\n",
      "Chips Traversed:  74%|▋| 957/1296 [02:22<00:52,  6.50\u001b[A\n",
      "Chips Traversed:  75%|▋| 971/1296 [02:24<00:49,  6.61\u001b[A\n",
      "Chips Traversed:  76%|▊| 986/1296 [02:26<00:46,  6.72\u001b[A\n",
      "Chips Traversed:  77%|▊| 1001/1296 [02:28<00:43,  6.8\u001b[A\n",
      "Chips Traversed:  78%|▊| 1016/1296 [02:30<00:40,  6.8\u001b[A\n",
      "Chips Traversed:  79%|▊| 1030/1296 [02:33<00:39,  6.7\u001b[A\n",
      "Chips Traversed:  81%|▊| 1044/1296 [02:35<00:38,  6.6\u001b[A\n",
      "Chips Traversed:  82%|▊| 1058/1296 [02:37<00:35,  6.6\u001b[A\n",
      "Chips Traversed:  83%|▊| 1072/1296 [02:39<00:33,  6.6\u001b[A\n",
      "Chips Traversed:  84%|▊| 1086/1296 [02:41<00:33,  6.3\u001b[A\n",
      "Chips Traversed:  85%|▊| 1099/1296 [02:44<00:32,  6.0\u001b[A\n",
      "Chips Traversed:  86%|▊| 1112/1296 [02:46<00:30,  6.0\u001b[A\n",
      "Chips Traversed:  87%|▊| 1125/1296 [02:48<00:29,  5.8\u001b[A\n",
      "Chips Traversed:  88%|▉| 1137/1296 [02:50<00:26,  5.9\u001b[A\n",
      "Chips Traversed:  89%|▉| 1149/1296 [02:52<00:25,  5.8\u001b[A\n",
      "Chips Traversed:  90%|▉| 1161/1296 [02:54<00:23,  5.8\u001b[A\n",
      "Chips Traversed:  91%|▉| 1176/1296 [02:57<00:19,  6.1\u001b[A\n",
      "Chips Traversed:  92%|▉| 1195/1296 [02:59<00:14,  7.1\u001b[A\n",
      "Chips Traversed:  93%|▉| 1210/1296 [03:01<00:12,  6.7\u001b[A\n",
      "Chips Traversed:  94%|▉| 1224/1296 [03:04<00:11,  6.4\u001b[A\n",
      "Chips Traversed:  95%|▉| 1237/1296 [03:06<00:09,  6.2\u001b[A\n",
      "Chips Traversed:  96%|▉| 1250/1296 [03:08<00:07,  6.0\u001b[A\n",
      "Chips Traversed:  97%|▉| 1263/1296 [03:10<00:05,  5.9\u001b[A\n",
      "Chips Traversed:  98%|▉| 1276/1296 [03:13<00:03,  5.8\u001b[A\n",
      "Chips Traversed: 100%|█| 1296/1296 [03:16<00:00,  6.5\u001b[A\n",
      "burst_id:   3%|    | 1/36 [03:25<1:59:48, 205.38s/it]\n",
      "Chips Traversed:   0%|      | 0/1262 [00:00<?, ?it/s]\u001b[A\n",
      "Chips Traversed:   2%| | 29/1262 [00:02<01:25, 14.48i\u001b[A\n",
      "Chips Traversed:   5%| | 58/1262 [00:05<02:06,  9.55i\u001b[A\n",
      "Chips Traversed:   6%| | 79/1262 [00:08<02:14,  8.77i\u001b[A\n",
      "Chips Traversed:   8%| | 98/1262 [00:10<02:18,  8.39i\u001b[A\n",
      "Chips Traversed:   9%| | 116/1262 [00:13<02:21,  8.08\u001b[A\n",
      "Chips Traversed:  11%| | 133/1262 [00:15<02:24,  7.80\u001b[A\n",
      "Chips Traversed:  12%| | 149/1262 [00:18<02:32,  7.32\u001b[A\n",
      "Chips Traversed:  13%|▏| 164/1262 [00:20<02:36,  7.00\u001b[A\n",
      "Chips Traversed:  14%|▏| 179/1262 [00:23<02:42,  6.67\u001b[A\n",
      "Chips Traversed:  15%|▏| 193/1262 [00:25<02:44,  6.50\u001b[A\n",
      "Chips Traversed:  16%|▏| 207/1262 [00:27<02:46,  6.35\u001b[A\n",
      "Chips Traversed:  17%|▏| 220/1262 [00:30<02:56,  5.91\u001b[A\n",
      "Chips Traversed:  18%|▏| 232/1262 [00:33<03:17,  5.22\u001b[A\n",
      "Chips Traversed:  19%|▏| 243/1262 [00:35<03:19,  5.12\u001b[A\n",
      "Chips Traversed:  20%|▏| 255/1262 [00:38<03:16,  5.13\u001b[A\n",
      "Chips Traversed:  21%|▏| 266/1262 [00:40<03:11,  5.20\u001b[A\n",
      "Chips Traversed:  22%|▏| 277/1262 [00:42<03:10,  5.18\u001b[A\n",
      "Chips Traversed:  23%|▏| 288/1262 [00:44<03:08,  5.16\u001b[A\n",
      "Chips Traversed:  24%|▏| 299/1262 [00:46<03:03,  5.24\u001b[A\n",
      "Chips Traversed:  25%|▏| 310/1262 [00:48<03:00,  5.28\u001b[A\n",
      "Chips Traversed:  25%|▎| 321/1262 [00:50<02:58,  5.28\u001b[A\n",
      "Chips Traversed:  26%|▎| 332/1262 [00:52<02:58,  5.20\u001b[A\n",
      "Chips Traversed:  27%|▎| 343/1262 [00:54<02:55,  5.24\u001b[A\n",
      "Chips Traversed:  28%|▎| 354/1262 [00:56<02:51,  5.29\u001b[A\n",
      "Chips Traversed:  29%|▎| 366/1262 [00:58<02:44,  5.46\u001b[A\n",
      "Chips Traversed:  30%|▎| 377/1262 [01:01<02:47,  5.28\u001b[A\n",
      "Chips Traversed:  31%|▎| 388/1262 [01:03<02:43,  5.34\u001b[A\n",
      "Chips Traversed:  32%|▎| 399/1262 [01:05<02:44,  5.26\u001b[A\n",
      "Chips Traversed:  32%|▎| 410/1262 [01:07<02:42,  5.24\u001b[A\n",
      "Chips Traversed:  33%|▎| 421/1262 [01:09<02:38,  5.32\u001b[A\n",
      "Chips Traversed:  34%|▎| 432/1262 [01:11<02:36,  5.31\u001b[A\n",
      "Chips Traversed:  35%|▎| 443/1262 [01:13<02:35,  5.25\u001b[A\n",
      "Chips Traversed:  36%|▎| 454/1262 [01:15<02:36,  5.16\u001b[A\n",
      "Chips Traversed:  37%|▎| 465/1262 [01:18<02:36,  5.10\u001b[A\n",
      "Chips Traversed:  38%|▍| 476/1262 [01:20<02:34,  5.08\u001b[A\n",
      "Chips Traversed:  39%|▍| 487/1262 [01:22<02:31,  5.10\u001b[A\n",
      "Chips Traversed:  39%|▍| 498/1262 [01:24<02:31,  5.05\u001b[A\n",
      "Chips Traversed:  40%|▍| 509/1262 [01:27<02:37,  4.77\u001b[A\n",
      "Chips Traversed:  41%|▍| 519/1262 [01:29<02:42,  4.58\u001b[A\n",
      "Chips Traversed:  42%|▍| 529/1262 [01:32<02:44,  4.45\u001b[A\n",
      "Chips Traversed:  43%|▍| 538/1262 [01:34<02:44,  4.39\u001b[A\n",
      "Chips Traversed:  43%|▍| 548/1262 [01:36<02:41,  4.43\u001b[A\n",
      "Chips Traversed:  44%|▍| 557/1262 [01:38<02:40,  4.38\u001b[A\n",
      "Chips Traversed:  45%|▍| 566/1262 [01:40<02:39,  4.35\u001b[A\n",
      "Chips Traversed:  46%|▍| 575/1262 [01:42<02:37,  4.35\u001b[A\n",
      "Chips Traversed:  46%|▍| 584/1262 [01:44<02:36,  4.34\u001b[A\n",
      "Chips Traversed:  47%|▍| 593/1262 [01:46<02:34,  4.34\u001b[A\n",
      "Chips Traversed:  48%|▍| 603/1262 [01:48<02:29,  4.41\u001b[A\n",
      "Chips Traversed:  49%|▍| 613/1262 [01:51<02:25,  4.45\u001b[A\n",
      "Chips Traversed:  49%|▍| 623/1262 [01:53<02:21,  4.53\u001b[A\n",
      "Chips Traversed:  50%|▌| 633/1262 [01:55<02:19,  4.51\u001b[A\n",
      "Chips Traversed:  51%|▌| 643/1262 [01:57<02:17,  4.51\u001b[A\n",
      "Chips Traversed:  52%|▌| 653/1262 [01:59<02:13,  4.55\u001b[A\n",
      "Chips Traversed:  53%|▌| 664/1262 [02:02<02:07,  4.70\u001b[A\n",
      "Chips Traversed:  53%|▌| 674/1262 [02:04<02:04,  4.74\u001b[A\n",
      "Chips Traversed:  54%|▌| 684/1262 [02:06<02:06,  4.55\u001b[A\n",
      "Chips Traversed:  55%|▌| 694/1262 [02:08<02:05,  4.54\u001b[A\n",
      "Chips Traversed:  56%|▌| 704/1262 [02:11<02:05,  4.43\u001b[A\n",
      "Chips Traversed:  56%|▌| 713/1262 [02:13<02:06,  4.32\u001b[A\n",
      "Chips Traversed:  57%|▌| 722/1262 [02:15<02:06,  4.26\u001b[A\n",
      "Chips Traversed:  58%|▌| 731/1262 [02:17<02:06,  4.19\u001b[A\n",
      "Chips Traversed:  59%|▌| 740/1262 [02:20<02:06,  4.13\u001b[A\n",
      "Chips Traversed:  59%|▌| 749/1262 [02:22<02:05,  4.10\u001b[A\n",
      "Chips Traversed:  60%|▌| 758/1262 [02:24<02:02,  4.11\u001b[A\n",
      "Chips Traversed:  61%|▌| 767/1262 [02:26<01:59,  4.15\u001b[A\n",
      "Chips Traversed:  61%|▌| 776/1262 [02:28<01:57,  4.15\u001b[A\n",
      "Chips Traversed:  62%|▌| 785/1262 [02:30<01:53,  4.21\u001b[A\n",
      "Chips Traversed:  63%|▋| 794/1262 [02:32<01:50,  4.24\u001b[A\n",
      "Chips Traversed:  64%|▋| 803/1262 [02:34<01:47,  4.27\u001b[A\n",
      "Chips Traversed:  64%|▋| 812/1262 [02:37<01:44,  4.30\u001b[A\n",
      "Chips Traversed:  65%|▋| 821/1262 [02:39<01:41,  4.35\u001b[A\n",
      "Chips Traversed:  66%|▋| 830/1262 [02:41<01:42,  4.22\u001b[A\n",
      "Chips Traversed:  67%|▋| 842/1262 [02:43<01:30,  4.66\u001b[A\n",
      "Chips Traversed:  68%|▋| 852/1262 [02:45<01:26,  4.75\u001b[A\n",
      "Chips Traversed:  68%|▋| 862/1262 [02:47<01:23,  4.79\u001b[A\n",
      "Chips Traversed:  69%|▋| 872/1262 [02:49<01:21,  4.80\u001b[A\n",
      "Chips Traversed:  70%|▋| 882/1262 [02:51<01:18,  4.81\u001b[A\n",
      "Chips Traversed:  71%|▋| 893/1262 [02:53<01:16,  4.83\u001b[A\n",
      "Chips Traversed:  72%|▋| 904/1262 [02:56<01:14,  4.83\u001b[A\n",
      "Chips Traversed:  72%|▋| 914/1262 [02:58<01:12,  4.83\u001b[A\n",
      "Chips Traversed:  73%|▋| 925/1262 [03:00<01:09,  4.83\u001b[A\n",
      "Chips Traversed:  74%|▋| 936/1262 [03:02<01:07,  4.83\u001b[A\n",
      "Chips Traversed:  75%|▊| 947/1262 [03:04<01:04,  4.89\u001b[A\n",
      "Chips Traversed:  76%|▊| 959/1262 [03:07<01:00,  5.02\u001b[A\n",
      "Chips Traversed:  77%|▊| 970/1262 [03:09<00:56,  5.15\u001b[A\n",
      "Chips Traversed:  78%|▊| 981/1262 [03:11<00:54,  5.11\u001b[A\n",
      "Chips Traversed:  79%|▊| 994/1262 [03:13<00:51,  5.25\u001b[A\n",
      "Chips Traversed:  80%|▊| 1006/1262 [03:15<00:46,  5.4\u001b[A\n",
      "Chips Traversed:  81%|▊| 1017/1262 [03:17<00:44,  5.4\u001b[A\n",
      "Chips Traversed:  81%|▊| 1028/1262 [03:19<00:42,  5.4\u001b[A\n",
      "Chips Traversed:  82%|▊| 1039/1262 [03:22<00:41,  5.3\u001b[A\n",
      "Chips Traversed:  83%|▊| 1053/1262 [03:24<00:37,  5.5\u001b[A\n",
      "Chips Traversed:  84%|▊| 1066/1262 [03:26<00:35,  5.6\u001b[A\n",
      "Chips Traversed:  85%|▊| 1079/1262 [03:28<00:31,  5.7\u001b[A\n",
      "Chips Traversed:  86%|▊| 1091/1262 [03:30<00:29,  5.7\u001b[A\n",
      "Chips Traversed:  88%|▉| 1105/1262 [03:33<00:26,  5.8\u001b[A\n",
      "Chips Traversed:  89%|▉| 1119/1262 [03:35<00:23,  6.0\u001b[A\n",
      "Chips Traversed:  90%|▉| 1135/1262 [03:37<00:19,  6.4\u001b[A\n",
      "Chips Traversed:  91%|▉| 1152/1262 [03:39<00:15,  6.9\u001b[A\n",
      "Chips Traversed:  92%|▉| 1166/1262 [03:41<00:14,  6.5\u001b[A\n",
      "Chips Traversed:  94%|▉| 1180/1262 [03:44<00:13,  6.2\u001b[A"
     ]
    }
   ],
   "source": [
    "metric_paths = list(map(compute_metric_and_serialize, tqdm(burst_ids_unique, desc='burst_id')))"
   ]
  },
  {
   "cell_type": "markdown",
   "id": "804c8c59-efb3-43fe-af18-656cc2cdcd98",
   "metadata": {},
   "source": [
    "### Merge and Serialize"
   ]
  },
  {
   "cell_type": "code",
   "execution_count": null,
   "id": "4c11375d-8ab3-45ba-b5b3-2b6e3aa65c3d",
   "metadata": {},
   "outputs": [],
   "source": [
    "metric_crs_dir = rtc_ts_dir.parent / 'metrics_crs'\n",
    "metric_crs_dir.mkdir(exist_ok=True, parents=True)"
   ]
  },
  {
   "cell_type": "markdown",
   "id": "dcf2ccd6-eef8-4b6b-aa55-9e9ed554fc73",
   "metadata": {},
   "source": [
    "### Most frequent CRS"
   ]
  },
  {
   "cell_type": "code",
   "execution_count": null,
   "id": "c0f3667e-0d0c-459d-8c32-36b2ecb333d6",
   "metadata": {},
   "outputs": [],
   "source": [
    "def get_crs(path: Path) -> CRS:\n",
    "    with rasterio.open(path) as ds:\n",
    "        crs = ds.crs\n",
    "    return crs"
   ]
  },
  {
   "cell_type": "code",
   "execution_count": null,
   "id": "23205f70-5640-46d4-805e-4a142d23910e",
   "metadata": {},
   "outputs": [],
   "source": [
    "crs_l = list(map(get_crs, metric_paths))\n",
    "def most_common(lst):\n",
    "    return max(set(lst), key=lst.count)\n",
    "\n",
    "crs_ref = most_common(crs_l)\n",
    "crs_ref"
   ]
  },
  {
   "cell_type": "code",
   "execution_count": null,
   "id": "94e2ec78-72d5-430f-b6e8-762cf1dd6e28",
   "metadata": {},
   "outputs": [],
   "source": [
    "from dem_stitcher.rio_tools import reproject_profile_to_new_crs\n",
    "\n",
    "def reproject_to_shared_crs_and_serialize(path: Path, ref_crs):\n",
    "    with rasterio.open(path) as ds:\n",
    "        X = ds.read(1)\n",
    "        p = ds.profile\n",
    "\n",
    "    out_path = metric_crs_dir / path.name\n",
    "    if p['crs'] == ref_crs:\n",
    "        shutil.copy(path, out_path)\n",
    "        return out_path\n",
    "    p_r = reproject_profile_"
   ]
  },
  {
   "cell_type": "markdown",
   "id": "93c3ddb7-f85e-4153-abc3-42f479e35b79",
   "metadata": {},
   "source": [
    "# Water Mask"
   ]
  },
  {
   "cell_type": "code",
   "execution_count": null,
   "id": "271d2112-1a10-4796-a556-543a73c990f7",
   "metadata": {},
   "outputs": [],
   "source": []
  },
  {
   "cell_type": "markdown",
   "id": "5bdca720-411f-49bc-ad5f-1a36d9a2e297",
   "metadata": {},
   "source": [
    "# Generate Disturbance Map"
   ]
  },
  {
   "cell_type": "code",
   "execution_count": null,
   "id": "2e0dfbeb-d8e8-410d-a152-1dc5fc3c7776",
   "metadata": {},
   "outputs": [],
   "source": []
  },
  {
   "cell_type": "markdown",
   "id": "25b17074-5b13-4414-b81d-cad4f8cb4319",
   "metadata": {},
   "source": [
    "## Nice Colormap"
   ]
  },
  {
   "cell_type": "code",
   "execution_count": null,
   "id": "dc89d285-456e-4b24-878a-21efd3a3556a",
   "metadata": {},
   "outputs": [],
   "source": []
  },
  {
   "cell_type": "markdown",
   "id": "08217589-d664-4ce8-9596-7d90281035da",
   "metadata": {},
   "source": [
    "# TODOS (other notebook)\n",
    "\n",
    "1. MGRS should be an input and we reproject to that frame\n",
    "2. Confirmation etc."
   ]
  }
 ],
 "metadata": {
  "kernelspec": {
   "display_name": "dist-s1",
   "language": "python",
   "name": "dist-s1"
  },
  "language_info": {
   "codemirror_mode": {
    "name": "ipython",
    "version": 3
   },
   "file_extension": ".py",
   "mimetype": "text/x-python",
   "name": "python",
   "nbconvert_exporter": "python",
   "pygments_lexer": "ipython3",
   "version": "3.12.4"
  }
 },
 "nbformat": 4,
 "nbformat_minor": 5
}
